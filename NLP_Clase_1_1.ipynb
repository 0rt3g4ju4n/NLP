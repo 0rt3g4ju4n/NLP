{
  "nbformat": 4,
  "nbformat_minor": 0,
  "metadata": {
    "colab": {
      "provenance": []
    },
    "kernelspec": {
      "name": "python3",
      "display_name": "Python 3"
    },
    "language_info": {
      "name": "python"
    }
  },
  "cells": [
    {
      "cell_type": "markdown",
      "source": [
        "# NLP\n",
        "\n",
        "El Procesamiento del Lenguaje Natural (NLP, por sus siglas en inglés) es un campo interdisciplinario de la inteligencia artificial y la lingüística computacional que se centra en la interacción entre las máquinas y el lenguaje humano. Su objetivo principal es desarrollar sistemas que puedan comprender, interpretar y generar el lenguaje natural de manera que sea útil y significativa. Esto incluye tareas como el análisis de textos, la traducción automática, el reconocimiento de voz, la clasificación de sentimientos, la generación de respuestas en chatbots y otras aplicaciones que permiten a las máquinas procesar y entender el lenguaje tal como lo hacen los seres humanos.\n",
        "\n",
        "Lenguajes de programación versus lenguajes naturales\n",
        "\n",
        "El lenguaje ha desempeñado un papel crucial en la evolución de nuestra especie y, sin duda, fue la ventaja competitiva clave para nuestros antepasados cazadores-recolectores sobre otras especies. Los lenguajes que evolucionaron de forma natural, también llamados lenguajes naturales, permitieron a nuestros antepasados comunicarse de manera más eficiente entre ellos. El desarrollo de la escritura aceleró aún más su crecimiento, ya que la información importante ahora podía documentarse y reproducirse, eliminando la necesidad de memorizarla. No hace falta decir que los humanos tenemos una profunda afinidad por nuestros lenguajes y valoramos la capacidad de comunicarnos con otros.\n",
        "\n",
        "Una nueva clase de lenguajes, llamados lenguajes de programación, surgió alrededor de mediados del siglo XX, con el objetivo de comunicarse con las máquinas para obtener el resultado deseado. Con el crecimiento explosivo de las computadoras, familiarizarse con los lenguajes de programación se volvió de gran importancia para aprovechar el poder de cómputo de estas máquinas.\n",
        "\n",
        "Si bien existen similitudes entre los lenguajes naturales y los lenguajes de programación, como el hecho de que ambos se usan para comunicar y tienen reglas y sintaxis, también existen diferencias importantes. La diferencia más notable es que los lenguajes naturales son ambiguos y, por lo tanto, no pueden ser comprendidos por las máquinas. Por ejemplo, observa la siguiente afirmación: \"Elige un número entero y divídelo por dos; si el resto es cero, entonces es un número par.\"\n",
        "\n",
        "Para aquellos que son competentes en matemáticas e inglés, la afirmación anterior puede tener sentido completo. Sin embargo, para alguien que está empezando a descifrar los lenguajes humanos, esta afirmación podría referirse al número entero, al dos, o al resto. Asimismo, los lenguajes naturales incluyen muchos otros elementos, como el sarcasmo, la doble negación, las expresiones retóricas, etc., lo que aumenta su complejidad y requiere un esfuerzo monumental para codificar cada regla inherente del lenguaje para que la máquina lo entienda. Estos factores hacen que los lenguajes naturales no sean adecuados para ser utilizados como lenguajes de programación.\n",
        "\n",
        "Entonces, ¿cómo podemos comunicarnos con las computadoras de manera \"humana\"?"
      ],
      "metadata": {
        "id": "4gjvEZao-sMd"
      }
    },
    {
      "cell_type": "code",
      "execution_count": null,
      "metadata": {
        "id": "wUxvcdlX9bq6"
      },
      "outputs": [],
      "source": []
    }
  ]
}