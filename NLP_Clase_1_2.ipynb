{
 "cells": [
  {
   "cell_type": "markdown",
   "metadata": {
    "id": "thzSVJljURy4"
   },
   "source": [
    "Ahora que sabemos cómo instalar bibliotecas, exploremos la simplicidad de Python en términos de llevar a cabo tareas razonablemente complejas.\n",
    "\n",
    "Tenemos un archivo CSV con datos de llegada y salida de vuelos de los principales aeropuertos de EE. UU. de julio de 2019. Los datos han sido obtenidos del sitio web del Departamento de Transporte de EE. UU. (https://www.transtats.bts.gov/DL_SelectFields.asp?Table_ID=236).\n",
    "\n",
    "El archivo tiene más de medio millón de filas. A continuación, se muestra un fragmento parcial del conjunto de datos:"
   ]
  },
  {
   "cell_type": "code",
   "execution_count": 1,
   "metadata": {
    "colab": {
     "base_uri": "https://localhost:8080/"
    },
    "id": "ZNE9PurjWxxF",
    "outputId": "f38ff8fd-d776-48cb-da12-dc132c76e8ba"
   },
   "outputs": [
    {
     "name": "stdout",
     "output_type": "stream",
     "text": [
      "Archivos extraídos:\n",
      "['flight_data.csv']\n"
     ]
    }
   ],
   "source": [
    "import zipfile\n",
    "import os\n",
    "\n",
    "# Nombre del archivo zip (reemplaza 'nombre_del_archivo.zip' con el nombre del archivo que subiste)\n",
    "zip_file_name = 'flight_data.zip'\n",
    "\n",
    "# Extraer el archivo\n",
    "with zipfile.ZipFile(zip_file_name, 'r') as zip_ref:\n",
    "    zip_ref.extractall('extracted_files')  # Extrae el contenido a la carpeta 'extracted_files'\n",
    "\n",
    "# Verificar el contenido de la carpeta extraída\n",
    "print(\"Archivos extraídos:\")\n",
    "print(os.listdir('extracted_files'))\n"
   ]
  },
  {
   "cell_type": "code",
   "execution_count": 2,
   "metadata": {
    "colab": {
     "base_uri": "https://localhost:8080/",
     "height": 112
    },
    "id": "msegg-YFXGYp",
    "outputId": "57b1ed59-4130-4bdb-d853-da6a71847912"
   },
   "outputs": [
    {
     "data": {
      "text/html": [
       "<div>\n",
       "<style scoped>\n",
       "    .dataframe tbody tr th:only-of-type {\n",
       "        vertical-align: middle;\n",
       "    }\n",
       "\n",
       "    .dataframe tbody tr th {\n",
       "        vertical-align: top;\n",
       "    }\n",
       "\n",
       "    .dataframe thead th {\n",
       "        text-align: right;\n",
       "    }\n",
       "</style>\n",
       "<table border=\"1\" class=\"dataframe\">\n",
       "  <thead>\n",
       "    <tr style=\"text-align: right;\">\n",
       "      <th></th>\n",
       "      <th>YEAR</th>\n",
       "      <th>MONTH</th>\n",
       "      <th>DAY</th>\n",
       "      <th>CARRIER</th>\n",
       "      <th>ORIGIN</th>\n",
       "      <th>DEST</th>\n",
       "      <th>SCHED_DEP_TIME</th>\n",
       "      <th>ACT_DEP_TIME</th>\n",
       "      <th>DEP_DELAY</th>\n",
       "      <th>SCHED_ARR_TIME</th>\n",
       "      <th>ACT_ARR_TIME</th>\n",
       "      <th>ARR_DELAY</th>\n",
       "    </tr>\n",
       "  </thead>\n",
       "  <tbody>\n",
       "    <tr>\n",
       "      <th>0</th>\n",
       "      <td>2019</td>\n",
       "      <td>7</td>\n",
       "      <td>24</td>\n",
       "      <td>G4</td>\n",
       "      <td>PIE</td>\n",
       "      <td>AVL</td>\n",
       "      <td>1511</td>\n",
       "      <td>1533.0</td>\n",
       "      <td>22.0</td>\n",
       "      <td>1644</td>\n",
       "      <td>1659.0</td>\n",
       "      <td>15.0</td>\n",
       "    </tr>\n",
       "    <tr>\n",
       "      <th>1</th>\n",
       "      <td>2019</td>\n",
       "      <td>7</td>\n",
       "      <td>29</td>\n",
       "      <td>G4</td>\n",
       "      <td>AUS</td>\n",
       "      <td>SFB</td>\n",
       "      <td>2002</td>\n",
       "      <td>2010.0</td>\n",
       "      <td>8.0</td>\n",
       "      <td>2335</td>\n",
       "      <td>2344.0</td>\n",
       "      <td>9.0</td>\n",
       "    </tr>\n",
       "  </tbody>\n",
       "</table>\n",
       "</div>"
      ],
      "text/plain": [
       "   YEAR  MONTH  DAY CARRIER ORIGIN DEST  SCHED_DEP_TIME  ACT_DEP_TIME  \\\n",
       "0  2019      7   24      G4    PIE  AVL            1511        1533.0   \n",
       "1  2019      7   29      G4    AUS  SFB            2002        2010.0   \n",
       "\n",
       "   DEP_DELAY  SCHED_ARR_TIME  ACT_ARR_TIME  ARR_DELAY  \n",
       "0       22.0            1644        1659.0       15.0  \n",
       "1        8.0            2335        2344.0        9.0  "
      ]
     },
     "execution_count": 2,
     "metadata": {},
     "output_type": "execute_result"
    }
   ],
   "source": [
    "import pandas as pd\n",
    "file_path = 'extracted_files/flight_data.csv'\n",
    "df_path = pd.read_csv(file_path)\n",
    "df_path.head(2)\n",
    "\n"
   ]
  },
  {
   "cell_type": "markdown",
   "metadata": {
    "id": "CteuiFw6fbtF"
   },
   "source": [
    "# Actividad 0\n",
    "\n",
    "1 - Construir un analisis descriptivo básico de la información en grupos de 5 personas"
   ]
  },
  {
   "cell_type": "code",
   "execution_count": 3,
   "metadata": {},
   "outputs": [
    {
     "data": {
      "text/html": [
       "<div>\n",
       "<style scoped>\n",
       "    .dataframe tbody tr th:only-of-type {\n",
       "        vertical-align: middle;\n",
       "    }\n",
       "\n",
       "    .dataframe tbody tr th {\n",
       "        vertical-align: top;\n",
       "    }\n",
       "\n",
       "    .dataframe thead th {\n",
       "        text-align: right;\n",
       "    }\n",
       "</style>\n",
       "<table border=\"1\" class=\"dataframe\">\n",
       "  <thead>\n",
       "    <tr style=\"text-align: right;\">\n",
       "      <th></th>\n",
       "      <th>YEAR</th>\n",
       "      <th>MONTH</th>\n",
       "      <th>DAY</th>\n",
       "      <th>SCHED_DEP_TIME</th>\n",
       "      <th>ACT_DEP_TIME</th>\n",
       "      <th>DEP_DELAY</th>\n",
       "      <th>SCHED_ARR_TIME</th>\n",
       "      <th>ACT_ARR_TIME</th>\n",
       "      <th>ARR_DELAY</th>\n",
       "    </tr>\n",
       "  </thead>\n",
       "  <tbody>\n",
       "    <tr>\n",
       "      <th>count</th>\n",
       "      <td>659029.0</td>\n",
       "      <td>659029.0</td>\n",
       "      <td>659029.000000</td>\n",
       "      <td>659029.000000</td>\n",
       "      <td>646817.000000</td>\n",
       "      <td>646815.000000</td>\n",
       "      <td>659029.000000</td>\n",
       "      <td>645942.000000</td>\n",
       "      <td>643781.000000</td>\n",
       "    </tr>\n",
       "    <tr>\n",
       "      <th>mean</th>\n",
       "      <td>2019.0</td>\n",
       "      <td>7.0</td>\n",
       "      <td>16.286881</td>\n",
       "      <td>1335.977465</td>\n",
       "      <td>1335.901689</td>\n",
       "      <td>14.191489</td>\n",
       "      <td>1475.831364</td>\n",
       "      <td>1440.047472</td>\n",
       "      <td>8.729063</td>\n",
       "    </tr>\n",
       "    <tr>\n",
       "      <th>std</th>\n",
       "      <td>0.0</td>\n",
       "      <td>0.0</td>\n",
       "      <td>8.855734</td>\n",
       "      <td>499.842522</td>\n",
       "      <td>520.110819</td>\n",
       "      <td>55.729509</td>\n",
       "      <td>531.989548</td>\n",
       "      <td>561.825977</td>\n",
       "      <td>57.523158</td>\n",
       "    </tr>\n",
       "    <tr>\n",
       "      <th>min</th>\n",
       "      <td>2019.0</td>\n",
       "      <td>7.0</td>\n",
       "      <td>1.000000</td>\n",
       "      <td>5.000000</td>\n",
       "      <td>1.000000</td>\n",
       "      <td>-66.000000</td>\n",
       "      <td>1.000000</td>\n",
       "      <td>1.000000</td>\n",
       "      <td>-88.000000</td>\n",
       "    </tr>\n",
       "    <tr>\n",
       "      <th>25%</th>\n",
       "      <td>2019.0</td>\n",
       "      <td>7.0</td>\n",
       "      <td>9.000000</td>\n",
       "      <td>912.000000</td>\n",
       "      <td>909.000000</td>\n",
       "      <td>-5.000000</td>\n",
       "      <td>1051.000000</td>\n",
       "      <td>1028.000000</td>\n",
       "      <td>-14.000000</td>\n",
       "    </tr>\n",
       "    <tr>\n",
       "      <th>50%</th>\n",
       "      <td>2019.0</td>\n",
       "      <td>7.0</td>\n",
       "      <td>16.000000</td>\n",
       "      <td>1325.000000</td>\n",
       "      <td>1324.000000</td>\n",
       "      <td>-2.000000</td>\n",
       "      <td>1509.000000</td>\n",
       "      <td>1448.000000</td>\n",
       "      <td>-6.000000</td>\n",
       "    </tr>\n",
       "    <tr>\n",
       "      <th>75%</th>\n",
       "      <td>2019.0</td>\n",
       "      <td>7.0</td>\n",
       "      <td>24.000000</td>\n",
       "      <td>1745.000000</td>\n",
       "      <td>1753.000000</td>\n",
       "      <td>9.000000</td>\n",
       "      <td>1922.000000</td>\n",
       "      <td>1915.000000</td>\n",
       "      <td>9.000000</td>\n",
       "    </tr>\n",
       "    <tr>\n",
       "      <th>max</th>\n",
       "      <td>2019.0</td>\n",
       "      <td>7.0</td>\n",
       "      <td>31.000000</td>\n",
       "      <td>2359.000000</td>\n",
       "      <td>2400.000000</td>\n",
       "      <td>2315.000000</td>\n",
       "      <td>2359.000000</td>\n",
       "      <td>2400.000000</td>\n",
       "      <td>2350.000000</td>\n",
       "    </tr>\n",
       "  </tbody>\n",
       "</table>\n",
       "</div>"
      ],
      "text/plain": [
       "           YEAR     MONTH            DAY  SCHED_DEP_TIME   ACT_DEP_TIME  \\\n",
       "count  659029.0  659029.0  659029.000000   659029.000000  646817.000000   \n",
       "mean     2019.0       7.0      16.286881     1335.977465    1335.901689   \n",
       "std         0.0       0.0       8.855734      499.842522     520.110819   \n",
       "min      2019.0       7.0       1.000000        5.000000       1.000000   \n",
       "25%      2019.0       7.0       9.000000      912.000000     909.000000   \n",
       "50%      2019.0       7.0      16.000000     1325.000000    1324.000000   \n",
       "75%      2019.0       7.0      24.000000     1745.000000    1753.000000   \n",
       "max      2019.0       7.0      31.000000     2359.000000    2400.000000   \n",
       "\n",
       "           DEP_DELAY  SCHED_ARR_TIME   ACT_ARR_TIME      ARR_DELAY  \n",
       "count  646815.000000   659029.000000  645942.000000  643781.000000  \n",
       "mean       14.191489     1475.831364    1440.047472       8.729063  \n",
       "std        55.729509      531.989548     561.825977      57.523158  \n",
       "min       -66.000000        1.000000       1.000000     -88.000000  \n",
       "25%        -5.000000     1051.000000    1028.000000     -14.000000  \n",
       "50%        -2.000000     1509.000000    1448.000000      -6.000000  \n",
       "75%         9.000000     1922.000000    1915.000000       9.000000  \n",
       "max      2315.000000     2359.000000    2400.000000    2350.000000  "
      ]
     },
     "execution_count": 3,
     "metadata": {},
     "output_type": "execute_result"
    }
   ],
   "source": [
    "df_path.describe()"
   ]
  },
  {
   "cell_type": "code",
   "execution_count": 4,
   "metadata": {},
   "outputs": [
    {
     "name": "stdout",
     "output_type": "stream",
     "text": [
      "<class 'pandas.core.frame.DataFrame'>\n",
      "RangeIndex: 659029 entries, 0 to 659028\n",
      "Data columns (total 12 columns):\n",
      " #   Column          Non-Null Count   Dtype  \n",
      "---  ------          --------------   -----  \n",
      " 0   YEAR            659029 non-null  int64  \n",
      " 1   MONTH           659029 non-null  int64  \n",
      " 2   DAY             659029 non-null  int64  \n",
      " 3   CARRIER         659029 non-null  object \n",
      " 4   ORIGIN          659029 non-null  object \n",
      " 5   DEST            659029 non-null  object \n",
      " 6   SCHED_DEP_TIME  659029 non-null  int64  \n",
      " 7   ACT_DEP_TIME    646817 non-null  float64\n",
      " 8   DEP_DELAY       646815 non-null  float64\n",
      " 9   SCHED_ARR_TIME  659029 non-null  int64  \n",
      " 10  ACT_ARR_TIME    645942 non-null  float64\n",
      " 11  ARR_DELAY       643781 non-null  float64\n",
      "dtypes: float64(4), int64(5), object(3)\n",
      "memory usage: 60.3+ MB\n"
     ]
    }
   ],
   "source": [
    "df_path.info()"
   ]
  },
  {
   "cell_type": "markdown",
   "metadata": {
    "id": "dMBEdkDigqKw"
   },
   "source": [
    "## Utilidad de Python en NLP\n",
    "Aprender un nuevo idioma no es fácil. Para una persona promedio, puede tomar meses o incluso años alcanzar un nivel intermedio de fluidez en un nuevo idioma. Requiere comprender la sintaxis del idioma (gramática), memorizar su vocabulario, etc., para ganar confianza en ese idioma. De manera similar, también es bastante desafiante para las computadoras aprender un lenguaje natural, ya que sería impráctico codificar cada regla de ese idioma.\n",
    "\n",
    "Supongamos que queremos construir un asistente virtual que lea las consultas enviadas por los usuarios de un sitio web y luego los dirija a la sección apropiada del sitio. Supongamos que el asistente virtual recibe una solicitud que dice:\n",
    "**¿Cómo cambiamos el método de pago y la frecuencia del pago?**\n",
    "\n",
    "Si quisiéramos entrenar a nuestro asistente virtual de la manera humana, necesitaríamos cargar un diccionario en inglés en su memoria (la parte fácil), encontrar una forma de enseñarle la gramática del inglés (pronunciación, cláusulas, estructura de oraciones, etc.) y la interpretación lógica. No hace falta decir que este enfoque requeriría un esfuerzo hercúleo. Sin embargo, ¿qué pasaría si pudiéramos transformar la oración en objetos matemáticos para que la computadora pudiera aplicar operaciones matemáticas o lógicas y obtener algo de sentido de ella? Ese constructo matemático podría ser un vector, una matriz, etc.\n",
    "\n",
    "Por ejemplo, ¿y si asumimos un espacio N-dimensional en el que cada dimensión (eje) del espacio corresponde a una palabra del vocabulario inglés? Con esto, podríamos representar la oración anterior como un vector en ese espacio, con su coordenada en cada eje siendo el conteo de la palabra que representa ese eje. Así, en la oración dada, la magnitud del vector de la oración a lo largo del eje de \"payment\" será 2, el eje de \"frequency\" será 1, y así sucesivamente.\n",
    "\n"
   ]
  },
  {
   "cell_type": "markdown",
   "metadata": {
    "id": "DVSCPzw4hf-I"
   },
   "source": [
    "\n",
    "Usando el módulo CountVectorizer de la biblioteca scikit-learn de Python, hemos vectorizado la oración anterior y generado la matriz de salida con el vector.\n",
    "El módulo CountVectorizer de la biblioteca scikit-learn convierte el texto en un conjunto de vectores numéricos, donde cada palabra en el texto original se representa como una característica numérica en un espacio multidimensional."
   ]
  },
  {
   "cell_type": "code",
   "execution_count": 5,
   "metadata": {
    "colab": {
     "base_uri": "https://localhost:8080/"
    },
    "id": "lmTNlmDHZsvk",
    "outputId": "c139cff5-a6d9-4ac7-d230-cf943431b6ce"
   },
   "outputs": [
    {
     "data": {
      "text/plain": [
       "matrix([[1, 1, 1, 2]])"
      ]
     },
     "execution_count": 5,
     "metadata": {},
     "output_type": "execute_result"
    }
   ],
   "source": [
    "from sklearn.feature_extraction.text import CountVectorizer\n",
    "sentence = [\"How to change payment method and payment frequency\"]\n",
    "vectorizer = CountVectorizer(stop_words='english')\n",
    "vectorizer.fit_transform(sentence).todense()"
   ]
  },
  {
   "cell_type": "code",
   "execution_count": 6,
   "metadata": {
    "colab": {
     "base_uri": "https://localhost:8080/"
    },
    "id": "5sDRodAxiH_h",
    "outputId": "8f5d8b5d-716b-413d-9dc9-f60f61d16aa9"
   },
   "outputs": [
    {
     "name": "stdout",
     "output_type": "stream",
     "text": [
      "Características:  ['and' 'change' 'do' 'frequency' 'how' 'method' 'payment' 'the' 'we']\n",
      "Matriz de características: \n",
      " [[1 1 1 1 1 1 2 1 1]]\n"
     ]
    }
   ],
   "source": [
    "from sklearn.feature_extraction.text import CountVectorizer\n",
    "\n",
    "sentence = [\"How do we change the payment method and payment frequency?\"]\n",
    "\n",
    "\n",
    "vectorizer = CountVectorizer()\n",
    "\n",
    "# Aplicar la vectorización\n",
    "X = vectorizer.fit_transform(sentence)\n",
    "\n",
    "# Ver los resultados\n",
    "print(\"Características: \", vectorizer.get_feature_names_out())\n",
    "print(\"Matriz de características: \\n\", X.toarray())\n"
   ]
  },
  {
   "cell_type": "markdown",
   "metadata": {
    "id": "9WsKo6WujCWS"
   },
   "source": [
    "Este vector ahora se puede comparar con otros vectores de oraciones en el mismo espacio N-dimensional y podemos derivar algún tipo de significado o relación entre estas oraciones aplicando principios y propiedades de los vectores. Este es un ejemplo de cómo una tarea de comprensión de oraciones podría transformarse en un problema de álgebra lineal. Sin embargo, como probablemente ya habrás notado, este enfoque es intensivo en cuanto a recursos computacionales, ya que necesitamos transformar las oraciones en vectores, aplicar los principios de los vectores y realizar cálculos.\n",
    "Aunque este enfoque puede no generar un resultado perfectamente exacto, abre una vía para que exploremos utilizando teoremas matemáticos y cuerpos de investigación establecidos. Esperar que los humanos utilicen este enfoque para la comprensión de oraciones puede ser poco práctico, pero las computadoras pueden realizar estas tareas con bastante facilidad, y es ahí donde lenguajes de programación como Python se vuelven muy útiles en la investigación de NLP.\n",
    "\n",
    "## NLTK\n",
    "La biblioteca Natural Language Toolkit (NLTK) es una de las bibliotecas más populares de Python para el procesamiento de lenguaje natural. Fue desarrollada por Steven Bird y Edward Loper de la Universidad de Pennsylvania. Creada por académicos e investigadores, esta biblioteca está destinada a apoyar la investigación en NLP y viene con una serie de recursos pedagógicos que nos proporcionan una excelente manera de aprender sobre NLP."
   ]
  },
  {
   "cell_type": "code",
   "execution_count": 7,
   "metadata": {
    "colab": {
     "base_uri": "https://localhost:8080/"
    },
    "id": "ZSH4NG_EiVzV",
    "outputId": "56c517a1-55a6-4b5b-95f4-83537a1719ad"
   },
   "outputs": [],
   "source": [
    "import nltk\n",
    "from nltk.tokenize import word_tokenize"
   ]
  },
  {
   "cell_type": "markdown",
   "metadata": {
    "id": "mHADlyrtkWSK"
   },
   "source": [
    "## Corpus en NLTK\n",
    "Un corpus es un gran conjunto de textos o datos lingüísticos, y es muy importante en la investigación de NLP para el desarrollo y la prueba de aplicaciones. NLTK permite a los usuarios acceder a más de 50 Corpus y recursos léxicos (muchos de los cuales están vinculados a aplicaciones basadas en ML) Se pueden importar cualquiera de los Corpus disponibles en y usar las funciones de NLTK para analizar el texto en el corpus importado.\n",
    "\n",
    "Más detalles sobre cada corpus se pueden encontrar aquí: http://www.nltk.org/book/ch02.html\n",
    "\n",
    "## Procesamiento de Texto\n",
    "Como se mencionó anteriormente, una parte clave de NLP es transformar el texto en objetos matemáticos. NLTK proporciona varias funciones que nos ayudan a transformar el texto en vectores. La función más básica de NLTK para este propósito es la tokenización, que divide un documento en una lista de unidades. Estas unidades pueden ser palabras, caracteres o frases."
   ]
  },
  {
   "cell_type": "code",
   "execution_count": 8,
   "metadata": {
    "colab": {
     "base_uri": "https://localhost:8080/"
    },
    "id": "qDSGCHcPlMQz",
    "outputId": "c79205c7-b8e6-441a-f006-4f5283babd49"
   },
   "outputs": [
    {
     "name": "stderr",
     "output_type": "stream",
     "text": [
      "[nltk_data] Downloading package punkt to\n",
      "[nltk_data]     C:\\Users\\juano\\AppData\\Roaming\\nltk_data...\n",
      "[nltk_data]   Package punkt is already up-to-date!\n",
      "[nltk_data] Downloading package punkt_tab to\n",
      "[nltk_data]     C:\\Users\\juano\\AppData\\Roaming\\nltk_data...\n",
      "[nltk_data]   Package punkt_tab is already up-to-date!\n"
     ]
    },
    {
     "data": {
      "text/plain": [
       "True"
      ]
     },
     "execution_count": 8,
     "metadata": {},
     "output_type": "execute_result"
    }
   ],
   "source": [
    "nltk.download('punkt')\n",
    "nltk.download('punkt_tab')\n"
   ]
  },
  {
   "cell_type": "code",
   "execution_count": 9,
   "metadata": {
    "colab": {
     "base_uri": "https://localhost:8080/"
    },
    "id": "uTTQezoUjpUh",
    "outputId": "be50b4bc-215d-4e6b-a677-3f330d75a641"
   },
   "outputs": [
    {
     "name": "stdout",
     "output_type": "stream",
     "text": [
      "['Who', 'would', 'have', 'thought', 'that', 'computer', 'programs', 'would', 'be', 'analyzing', 'human', 'sentiments']\n"
     ]
    }
   ],
   "source": [
    "\n",
    "text = \"Who would have thought that computer programs would be analyzing human sentiments\"\n",
    "tokens = word_tokenize(text)\n",
    "print(tokens)\n"
   ]
  },
  {
   "cell_type": "markdown",
   "metadata": {
    "id": "IyvS8qBOm8Vp"
   },
   "source": [
    "Hemos tokenizado la oración anterior utilizando la función word_tokenize() de NLTK, que simplemente divide la oración por espacios en blanco. El resultado es una lista, que es el primer paso hacia la vectorización.\n",
    "\n",
    "En nuestra discusión anterior, tocamos la naturaleza computacionalmente intensiva del enfoque de vectorización debido al tamaño de los vectores. Cuantas más palabras tenga un vector, más dimensiones debemos manejar. Por lo tanto, debemos tratar de racionalizar nuestros vectores, y podemos hacerlo utilizando algunas de las otras funciones útiles de NLTK, como stopwords, lematización y stemming.\n",
    "\n",
    "A continuación, se presenta una lista parcial de las Stop Words en Español e Ingles  de NLTK.\n",
    "\n",
    "Las Stop Words son palabras como \"a\", \"an\", \"the\", \"in\", \"at\", y otras que aparecen con frecuencia en los corpus de texto y no aportan mucha información en la mayoría de los contextos. Estas palabras, en general, son necesarias para completar las oraciones y hacerlas gramaticalmente correctas. A menudo, son las palabras más comunes en un idioma y pueden filtrarse en la mayoría de las tareas de NLP, lo que, en consecuencia, ayuda a reducir el vocabulario o el espacio de búsqueda. No existe una lista única de palabras vacías que esté disponible universalmente, y varían en gran medida según los casos de uso; sin embargo, se mantiene una lista específica de palabras para cada idioma que puede considerarse como palabras vacías específicas de ese idioma, aunque deberían modificarse según el problema que se esté resolviendo.\n"
   ]
  },
  {
   "cell_type": "code",
   "execution_count": 10,
   "metadata": {
    "colab": {
     "base_uri": "https://localhost:8080/"
    },
    "id": "GidZsBn_nIos",
    "outputId": "598cb1d5-02fc-4452-99b8-800e587d61e6"
   },
   "outputs": [
    {
     "name": "stderr",
     "output_type": "stream",
     "text": [
      "[nltk_data] Downloading package stopwords to\n",
      "[nltk_data]     C:\\Users\\juano\\AppData\\Roaming\\nltk_data...\n",
      "[nltk_data]   Package stopwords is already up-to-date!\n"
     ]
    },
    {
     "data": {
      "text/plain": [
       "True"
      ]
     },
     "execution_count": 10,
     "metadata": {},
     "output_type": "execute_result"
    }
   ],
   "source": [
    "nltk.download('stopwords')"
   ]
  },
  {
   "cell_type": "code",
   "execution_count": 11,
   "metadata": {
    "colab": {
     "base_uri": "https://localhost:8080/"
    },
    "id": "UKQQ8IXflFIb",
    "outputId": "7f200cd9-e505-43e4-9677-950a0bd14464"
   },
   "outputs": [
    {
     "name": "stdout",
     "output_type": "stream",
     "text": [
      "['de', 'la', 'que', 'el', 'en', 'y', 'a', 'los', 'del', 'se', 'las', 'por', 'un', 'para', 'con', 'no', 'una', 'su', 'al', 'lo', 'como', 'más', 'pero', 'sus', 'le', 'ya', 'o', 'este', 'sí', 'porque', 'esta', 'entre', 'cuando', 'muy', 'sin', 'sobre', 'también', 'me', 'hasta', 'hay', 'donde', 'quien', 'desde', 'todo', 'nos', 'durante', 'todos', 'uno', 'les', 'ni', 'contra', 'otros', 'ese', 'eso', 'ante', 'ellos', 'e', 'esto', 'mí', 'antes', 'algunos', 'qué', 'unos', 'yo', 'otro', 'otras', 'otra', 'él', 'tanto', 'esa', 'estos', 'mucho', 'quienes', 'nada', 'muchos', 'cual', 'poco', 'ella', 'estar', 'estas', 'algunas', 'algo', 'nosotros', 'mi', 'mis', 'tú', 'te', 'ti', 'tu', 'tus', 'ellas', 'nosotras', 'vosotros', 'vosotras', 'os', 'mío', 'mía', 'míos', 'mías', 'tuyo', 'tuya', 'tuyos', 'tuyas', 'suyo', 'suya', 'suyos', 'suyas', 'nuestro', 'nuestra', 'nuestros', 'nuestras', 'vuestro', 'vuestra', 'vuestros', 'vuestras', 'esos', 'esas', 'estoy', 'estás', 'está', 'estamos', 'estáis', 'están', 'esté', 'estés', 'estemos', 'estéis', 'estén', 'estaré', 'estarás', 'estará', 'estaremos', 'estaréis', 'estarán', 'estaría', 'estarías', 'estaríamos', 'estaríais', 'estarían', 'estaba', 'estabas', 'estábamos', 'estabais', 'estaban', 'estuve', 'estuviste', 'estuvo', 'estuvimos', 'estuvisteis', 'estuvieron', 'estuviera', 'estuvieras', 'estuviéramos', 'estuvierais', 'estuvieran', 'estuviese', 'estuvieses', 'estuviésemos', 'estuvieseis', 'estuviesen', 'estando', 'estado', 'estada', 'estados', 'estadas', 'estad', 'he', 'has', 'ha', 'hemos', 'habéis', 'han', 'haya', 'hayas', 'hayamos', 'hayáis', 'hayan', 'habré', 'habrás', 'habrá', 'habremos', 'habréis', 'habrán', 'habría', 'habrías', 'habríamos', 'habríais', 'habrían', 'había', 'habías', 'habíamos', 'habíais', 'habían', 'hube', 'hubiste', 'hubo', 'hubimos', 'hubisteis', 'hubieron', 'hubiera', 'hubieras', 'hubiéramos', 'hubierais', 'hubieran', 'hubiese', 'hubieses', 'hubiésemos', 'hubieseis', 'hubiesen', 'habiendo', 'habido', 'habida', 'habidos', 'habidas', 'soy', 'eres', 'es', 'somos', 'sois', 'son', 'sea', 'seas', 'seamos', 'seáis', 'sean', 'seré', 'serás', 'será', 'seremos', 'seréis', 'serán', 'sería', 'serías', 'seríamos', 'seríais', 'serían', 'era', 'eras', 'éramos', 'erais', 'eran', 'fui', 'fuiste', 'fue', 'fuimos', 'fuisteis', 'fueron', 'fuera', 'fueras', 'fuéramos', 'fuerais', 'fueran', 'fuese', 'fueses', 'fuésemos', 'fueseis', 'fuesen', 'sintiendo', 'sentido', 'sentida', 'sentidos', 'sentidas', 'siente', 'sentid', 'tengo', 'tienes', 'tiene', 'tenemos', 'tenéis', 'tienen', 'tenga', 'tengas', 'tengamos', 'tengáis', 'tengan', 'tendré', 'tendrás', 'tendrá', 'tendremos', 'tendréis', 'tendrán', 'tendría', 'tendrías', 'tendríamos', 'tendríais', 'tendrían', 'tenía', 'tenías', 'teníamos', 'teníais', 'tenían', 'tuve', 'tuviste', 'tuvo', 'tuvimos', 'tuvisteis', 'tuvieron', 'tuviera', 'tuvieras', 'tuviéramos', 'tuvierais', 'tuvieran', 'tuviese', 'tuvieses', 'tuviésemos', 'tuvieseis', 'tuviesen', 'teniendo', 'tenido', 'tenida', 'tenidos', 'tenidas', 'tened']\n"
     ]
    }
   ],
   "source": [
    "import nltk\n",
    "stopwords = nltk.corpus.stopwords.words('spanish') #spanish#german\n",
    "print(stopwords)\n"
   ]
  },
  {
   "cell_type": "markdown",
   "metadata": {
    "id": "E3Nfxg0xoj2O"
   },
   "source": [
    "Dado que NLTK nos proporciona una lista de palabras, simplemente podemos consultar esta lista y filtrar las palabras de nuestra lista de palabras"
   ]
  },
  {
   "cell_type": "code",
   "execution_count": 12,
   "metadata": {
    "id": "90Qu76UvnnpO"
   },
   "outputs": [],
   "source": [
    "stopwords = nltk.corpus.stopwords.words('english')\n",
    "newtokens=[word for word in tokens if word not in stopwords]\n"
   ]
  },
  {
   "cell_type": "code",
   "execution_count": 13,
   "metadata": {
    "colab": {
     "base_uri": "https://localhost:8080/"
    },
    "id": "SRkjrbeLov8E",
    "outputId": "c8693fa2-76df-401f-f2cc-d6d9f98b113d"
   },
   "outputs": [
    {
     "data": {
      "text/plain": [
       "['Who',\n",
       " 'would',\n",
       " 'thought',\n",
       " 'computer',\n",
       " 'programs',\n",
       " 'would',\n",
       " 'analyzing',\n",
       " 'human',\n",
       " 'sentiments']"
      ]
     },
     "execution_count": 13,
     "metadata": {},
     "output_type": "execute_result"
    }
   ],
   "source": [
    "newtokens"
   ]
  },
  {
   "cell_type": "markdown",
   "metadata": {
    "id": "XzTu9LRZpdL-"
   },
   "source": [
    "Podemos modificar aún más nuestro vector utilizando lematización y stemming, que son técnicas utilizadas para reducir las palabras a su forma raíz. La justificación detrás de este paso es que el espacio n-dimensional en el que estamos navegando no necesita tener ejes separados para una palabra y su forma flexionada (por ejemplo, eat y eating no necesitan ser dos ejes separados). Por lo tanto, deberíamos reducir cada forma flexionada de la palabra a su forma raíz. Sin embargo, este enfoque tiene sus críticos porque, en muchos casos, las formas flexionadas de las palabras dan un significado diferente al de la palabra raíz. Por ejemplo, las oraciones My manager promised me promotion (Mi gerente me prometió un ascenso) y He is a promising prospect (Él es una promesa de futuro) utilizan la forma flexionada de la palabra promise (prometer), pero en contextos completamente diferentes. Por lo tanto, debes realizar stemming y lematización después de considerar sus pros y contras.\n",
    "\n"
   ]
  },
  {
   "cell_type": "code",
   "execution_count": 14,
   "metadata": {
    "colab": {
     "base_uri": "https://localhost:8080/"
    },
    "id": "jb1jYhNPpoXO",
    "outputId": "edbcbb17-d488-4fa8-f71d-a8df75fe5e4e"
   },
   "outputs": [
    {
     "name": "stderr",
     "output_type": "stream",
     "text": [
      "[nltk_data] Downloading package wordnet to\n",
      "[nltk_data]     C:\\Users\\juano\\AppData\\Roaming\\nltk_data...\n",
      "[nltk_data]   Package wordnet is already up-to-date!\n"
     ]
    },
    {
     "data": {
      "text/plain": [
       "True"
      ]
     },
     "execution_count": 14,
     "metadata": {},
     "output_type": "execute_result"
    }
   ],
   "source": [
    "nltk.download('wordnet')"
   ]
  },
  {
   "cell_type": "code",
   "execution_count": 15,
   "metadata": {
    "colab": {
     "base_uri": "https://localhost:8080/"
    },
    "id": "4PEYonceoyr_",
    "outputId": "2e186186-3838-469a-aa04-200a1764c72e"
   },
   "outputs": [
    {
     "name": "stdout",
     "output_type": "stream",
     "text": [
      "['Who', 'would', 'have', 'thought', 'that', 'computer', 'program', 'would', 'be', 'analyzinghuman', 'sentiment']\n"
     ]
    }
   ],
   "source": [
    "from nltk.stem import WordNetLemmatizer\n",
    "text = \"Who would have thought that computer programs would be analyzinghuman sentiments\"\n",
    "tokens = word_tokenize(text)\n",
    "lemmatizer = WordNetLemmatizer()\n",
    "tokens=[lemmatizer.lemmatize(word) for word in tokens]\n",
    "print(tokens)\n"
   ]
  },
  {
   "cell_type": "code",
   "execution_count": 16,
   "metadata": {},
   "outputs": [
    {
     "data": {
      "text/plain": [
       "'program'"
      ]
     },
     "execution_count": 16,
     "metadata": {},
     "output_type": "execute_result"
    }
   ],
   "source": [
    "lemmatizer.lemmatize('programs')"
   ]
  },
  {
   "cell_type": "markdown",
   "metadata": {
    "id": "v532drVMrD9g"
   },
   "source": [
    "La lematización se realiza buscando una palabra en el mapa de palabras raíz incorporado en WordNet. Si la palabra no se encuentra, se devuelve la palabra de entrada sin cambios. Sin embargo, podemos ver que el rendimiento del lematizador no fue bueno y solo pudo reducir \"programs\" y \"sentiments\" de sus formas plurales. Esto muestra que el lematizador depende en gran medida del mapa de palabras raíz y es muy susceptible a transformaciones incorrectas de la raíz de la palabra.\n",
    "\n",
    "## Stemming\n",
    "\n",
    "El stemming es similar a la lematización, pero en lugar de buscar palabras raíz en un diccionario preconstruido, define algunas reglas según las cuales las palabras se reducen a su forma base. Por ejemplo, tiene una regla que indica que cualquier palabra con el sufijo \"ing\" será reducida eliminando dicho sufijo.\n",
    "\n",
    "Imagina llevar todas las palabras \"computer\" (computadora), \"computerization\" (computarización) y \"computerize\" (computarizar) a una sola palabra, \"compute\" (computar). Esto es el stemming (derivación). Como parte del proceso de stemming, se hace un intento rudimentario de eliminar las formas flexionadas de una palabra y llevarlas a una forma base llamada stem (raíz). Las partes eliminadas se conocen como afijos. En el ejemplo anterior, \"compute\" es la forma base y los afijos son \"r\", \"rization\" y \"rize\", respectivamente. Algo importante a tener en cuenta es que la raíz no necesariamente tiene que ser una palabra válida como la conocemos. Por ejemplo, la palabra \"traditional\" (tradicional) se reduciría a \"tradit\", que no es una palabra válida en el diccionario inglés.\n",
    "\n",
    "Los dos algoritmos/métodos más comunes empleados para la derivación son el Porter stemmer y el Snowball stemmer. El Porter stemmer es compatible con el idioma inglés, mientras que el Snowball stemmer, que es una mejora del Porter stemmer, admite múltiples idiomas."
   ]
  },
  {
   "cell_type": "code",
   "execution_count": 17,
   "metadata": {
    "colab": {
     "base_uri": "https://localhost:8080/"
    },
    "id": "07wK6xVzplt9",
    "outputId": "6257604e-ed7d-47aa-b908-140499f5e434"
   },
   "outputs": [
    {
     "name": "stdout",
     "output_type": "stream",
     "text": [
      "['who', 'would', 'have', 'thought', 'that', 'comput', 'program', 'would', 'be', 'analyz', 'human', 'sentiment', 'be', 'i', 'wa', 'am']\n"
     ]
    }
   ],
   "source": [
    "from nltk.stem import PorterStemmer\n",
    "from nltk.tokenize import word_tokenize\n",
    "text = \"Who would have thought that computer programs would be analyzing human sentiments be i was am\"\n",
    "tokens=word_tokenize(text.lower())\n",
    "ps = PorterStemmer()\n",
    "tokens=[ps.stem(word) for word in tokens]\n",
    "print(tokens)"
   ]
  },
  {
   "cell_type": "markdown",
   "metadata": {
    "id": "J6sd2-SFsTun"
   },
   "source": [
    "Según la salida anterior, el stemming logró transformar más palabras que la lematización, pero aún así, está lejos de ser perfecto. Además, notarás que algunas palabras reducidas por stemming ni siquiera son palabras en inglés. Por ejemplo, analyz fue derivada de analyzing al aplicar ciegamente la regla de eliminar el sufijo ing.\n",
    "\n",
    "Los ejemplos anteriores muestran los desafíos de reducir las palabras correctamente a sus respectivas formas raíz utilizando las herramientas de NLTK. No obstante, estas técnicas son bastante populares para el preprocesamiento de texto y la vectorización. También puedes crear soluciones más sofisticadas basadas en estas funciones básicas para crear tu propio lematizador y stemmer."
   ]
  },
  {
   "cell_type": "code",
   "execution_count": 18,
   "metadata": {
    "colab": {
     "base_uri": "https://localhost:8080/"
    },
    "id": "2Yih8uzRwGrE",
    "outputId": "9c007342-cd92-4f52-e98c-6c84386a1902"
   },
   "outputs": [
    {
     "name": "stdout",
     "output_type": "stream",
     "text": [
      "('arabic', 'danish', 'dutch', 'english', 'finnish', 'french', 'german', 'hungarian', 'italian', 'norwegian', 'porter', 'portuguese', 'romanian', 'russian', 'spanish', 'swedish')\n"
     ]
    }
   ],
   "source": [
    "from nltk.stem.snowball import SnowballStemmer\n",
    "print(SnowballStemmer.languages)"
   ]
  },
  {
   "cell_type": "markdown",
   "metadata": {
    "id": "gnrqQtDSwfW9"
   },
   "source": [
    "El Porter stemmer funciona solo con cadenas de texto, mientras que el Snowball stemmer es compatible tanto con cadenas como con datos en Unicode. Además, el Snowball stemmer permite la opción de ignorar palabras vacías (stopwords) como funcionalidad inherente."
   ]
  },
  {
   "cell_type": "code",
   "execution_count": 19,
   "metadata": {
    "colab": {
     "base_uri": "https://localhost:8080/"
    },
    "id": "_gzKd4vxwH2P",
    "outputId": "9b77d883-1f85-4f91-e0af-423d5bebb4b9"
   },
   "outputs": [
    {
     "name": "stdout",
     "output_type": "stream",
     "text": [
      "caress fli die mule die agre own humbl size meet state siez item tradit refer colon plot have gener\n"
     ]
    }
   ],
   "source": [
    "plurals = ['caresses', 'flies', 'dies', 'mules', 'died', 'agreed', 'owned',\n",
    "'humbled', 'sized', 'meeting', 'stating',\n",
    " 'siezing', 'itemization', 'traditional', 'reference', 'colonizer',\n",
    "'plotted', 'having', 'generously']\n",
    "from nltk.stem.porter import PorterStemmer\n",
    "stemmer = PorterStemmer()\n",
    "singles = [stemmer.stem(plural) for plural in plurals]\n",
    "print(' '.join(singles))"
   ]
  },
  {
   "cell_type": "code",
   "execution_count": 20,
   "metadata": {
    "colab": {
     "base_uri": "https://localhost:8080/"
    },
    "id": "_4ccpeuAw2sz",
    "outputId": "c1290869-d141-43ac-a14b-de2955824c78"
   },
   "outputs": [
    {
     "name": "stdout",
     "output_type": "stream",
     "text": [
      "caress fli die mule die agre own humbl size meet state siez item tradit refer colon plot have generous\n"
     ]
    }
   ],
   "source": [
    "stemmer2 = SnowballStemmer(language='english')\n",
    "singles = [stemmer2.stem(plural) for plural in plurals]\n",
    "print(' '.join(singles))"
   ]
  },
  {
   "cell_type": "markdown",
   "metadata": {
    "id": "E0RetejMxdqk"
   },
   "source": [
    "Como se puede observar en los fragmentos de código anteriores, el Snowball stemmer requiere la especificación de un parámetro de idioma. En la mayoría de los casos, su salida es similar a la del Porter stemmer, excepto en el caso de generously, donde el Porter stemmer produce gener y el Snowball stemmer devuelve generous. El ejemplo muestra cómo el Snowball stemmer realiza pequeños ajustes al algoritmo de Porter, logrando mejoras en algunos casos."
   ]
  },
  {
   "cell_type": "code",
   "execution_count": 21,
   "metadata": {},
   "outputs": [],
   "source": [
    "stemmer = PorterStemmer()\n",
    "stemmer2 = SnowballStemmer(language='spanish')\n",
    "lemmatizer = WordNetLemmatizer()\n",
    "import spacy\n",
    "nlp = spacy.load(\"es_core_news_sm\")"
   ]
  },
  {
   "cell_type": "code",
   "execution_count": 22,
   "metadata": {
    "id": "8t5xnMMwxZ2V"
   },
   "outputs": [
    {
     "name": "stdout",
     "output_type": "stream",
     "text": [
      "Texto original:  ['los', 'programadores', 'están', 'programando', 'programas', 'para', 'diferentes', 'plataformas', 'empañados']\n",
      "Prueba con PorterStemmer:  ['lo', 'programador', 'están', 'programando', 'programa', 'para', 'diferent', 'plataforma', 'empañado']\n",
      "Prueba con SnowballStemmer:  ['los', 'program', 'estan', 'program', 'program', 'par', 'diferent', 'plataform', 'empañ']\n",
      "Prueba con wordNetLemmatizer:  ['los', 'programadores', 'están', 'programando', 'programas', 'para', 'diferentes', 'plataformas', 'empañados']\n",
      "Prueba con spacy (WordNetLemmatizer en español) ['el', 'programador', 'estar', 'programar', 'programa', 'para', 'diferente', 'plataforma', 'empañado']\n"
     ]
    }
   ],
   "source": [
    "texto = 'Los programadores están programando programas para diferentes plataformas empañados'\n",
    "tokens=word_tokenize(texto.lower())\n",
    "print('Texto original: ', tokens)\n",
    "prueba_1 = [stemmer.stem(palabra_1) for palabra_1 in tokens]\n",
    "print('Prueba con PorterStemmer: ', prueba_1)\n",
    "prueba_2 = [stemmer2.stem(palabra_2) for palabra_2 in tokens]\n",
    "print('Prueba con SnowballStemmer: ', prueba_2)\n",
    "prueba_3 = [lemmatizer.lemmatize(palabra_3) for palabra_3 in tokens]\n",
    "print('Prueba con wordNetLemmatizer: ', prueba_3)\n",
    "doc = nlp(texto)\n",
    "prueba_4 = [palabra_4.lemma_ for palabra_4 in doc]\n",
    "print('Prueba con spacy (WordNetLemmatizer en español)', prueba_4)"
   ]
  },
  {
   "cell_type": "code",
   "execution_count": 23,
   "metadata": {},
   "outputs": [
    {
     "name": "stdout",
     "output_type": "stream",
     "text": [
      "Los programadores están programando programas para diferentes plataformas empañados\n",
      "Los\n",
      "Palabra: Los, Lema: el\n",
      "programadores\n",
      "Palabra: programadores, Lema: programador\n",
      "están\n",
      "Palabra: están, Lema: estar\n",
      "programando\n",
      "Palabra: programando, Lema: programar\n",
      "programas\n",
      "Palabra: programas, Lema: programa\n",
      "para\n",
      "Palabra: para, Lema: para\n",
      "diferentes\n",
      "Palabra: diferentes, Lema: diferente\n",
      "plataformas\n",
      "Palabra: plataformas, Lema: plataforma\n",
      "empañados\n",
      "Palabra: empañados, Lema: empañado\n"
     ]
    }
   ],
   "source": [
    "import spacy\n",
    "\n",
    "# Carga el modelo para español\n",
    "nlp = spacy.load(\"es_core_news_sm\")\n",
    "\n",
    "# Procesa el texto\n",
    "doc = nlp(texto)\n",
    "print(doc)\n",
    "# Lematización\n",
    "for token in doc:\n",
    "    print(token)\n",
    "    print(f\"Palabra: {token.text}, Lema: {token.lemma_}\")\n"
   ]
  },
  {
   "cell_type": "code",
   "execution_count": null,
   "metadata": {},
   "outputs": [],
   "source": []
  },
  {
   "cell_type": "markdown",
   "metadata": {
    "id": "5tbuftt0IBPe"
   },
   "source": [
    "## Etiquetado de partes de la oración\n",
    "\n",
    "El etiquetado de partes de la oración (POS tagging) identifica la categoría gramatical (sustantivo, verbo, adverbio, etc.) de cada palabra en una oración. Es un paso crucial para muchas aplicaciones de PLN, ya que al identificar la categoría gramatical de una palabra, podemos deducir su significado contextual. Por ejemplo, el significado de la palabra ground es diferente cuando se usa como sustantivo, como en The ground was sodden due to rain (El suelo estaba empapado por la lluvia), en comparación con cuando se usa como adjetivo, como en The restaurant's ground meat recipe is quite popular (La receta de carne molida del restaurante es bastante popular).\n"
   ]
  },
  {
   "cell_type": "code",
   "execution_count": 24,
   "metadata": {
    "colab": {
     "base_uri": "https://localhost:8080/"
    },
    "id": "sXPZ2zXVJO9W",
    "outputId": "77938a03-161e-47d5-8b94-ea9bf8f9bce9"
   },
   "outputs": [
    {
     "name": "stderr",
     "output_type": "stream",
     "text": [
      "[nltk_data] Downloading package averaged_perceptron_tagger to\n",
      "[nltk_data]     C:\\Users\\juano\\AppData\\Roaming\\nltk_data...\n",
      "[nltk_data]   Package averaged_perceptron_tagger is already up-to-\n",
      "[nltk_data]       date!\n",
      "[nltk_data] Downloading package averaged_perceptron_tagger_eng to\n",
      "[nltk_data]     C:\\Users\\juano\\AppData\\Roaming\\nltk_data...\n",
      "[nltk_data]   Package averaged_perceptron_tagger_eng is already up-to-\n",
      "[nltk_data]       date!\n"
     ]
    },
    {
     "data": {
      "text/plain": [
       "True"
      ]
     },
     "execution_count": 24,
     "metadata": {},
     "output_type": "execute_result"
    }
   ],
   "source": [
    "nltk.download('averaged_perceptron_tagger')\n",
    "nltk.download('averaged_perceptron_tagger_eng')"
   ]
  },
  {
   "cell_type": "code",
   "execution_count": 25,
   "metadata": {
    "colab": {
     "base_uri": "https://localhost:8080/"
    },
    "id": "cy0L3ePJsTKI",
    "outputId": "639c22fe-abb9-4f8c-beb7-98150c6bbcea"
   },
   "outputs": [
    {
     "data": {
      "text/plain": [
       "[('your', 'PRP$')]"
      ]
     },
     "execution_count": 25,
     "metadata": {},
     "output_type": "execute_result"
    }
   ],
   "source": [
    "nltk.pos_tag([\"your\"])"
   ]
  },
  {
   "cell_type": "code",
   "execution_count": 26,
   "metadata": {
    "colab": {
     "base_uri": "https://localhost:8080/"
    },
    "id": "DXSUbv4pqozg",
    "outputId": "ff0b94d4-387c-4f56-ba21-b6dd4db78293"
   },
   "outputs": [
    {
     "data": {
      "text/plain": [
       "[('beautiful', 'NN')]"
      ]
     },
     "execution_count": 26,
     "metadata": {},
     "output_type": "execute_result"
    }
   ],
   "source": [
    "nltk.pos_tag([\"beautiful\"])\n"
   ]
  },
  {
   "cell_type": "code",
   "execution_count": 27,
   "metadata": {
    "colab": {
     "base_uri": "https://localhost:8080/"
    },
    "id": "Hn0vIgQ5qoxK",
    "outputId": "7adcd34c-fc30-4c27-f2af-8e925eb37b4f"
   },
   "outputs": [
    {
     "data": {
      "text/plain": [
       "[('eat', 'NN')]"
      ]
     },
     "execution_count": 27,
     "metadata": {},
     "output_type": "execute_result"
    }
   ],
   "source": [
    "nltk.pos_tag([\"eat\"])"
   ]
  },
  {
   "cell_type": "markdown",
   "metadata": {
    "id": "bRb7VdfwJrR0"
   },
   "source": [
    "Podemos pasar una palabra como una lista a la función pos_tag(), la cual devuelve la palabra junto con su categoría gramatical. Podemos generar el POS de cada palabra de una oración iterando sobre la lista de tokens y aplicando la función pos_tag() individualmente. El siguiente código es un ejemplo de cómo se puede hacer el etiquetado de partes de la oración de forma iterativa:"
   ]
  },
  {
   "cell_type": "code",
   "execution_count": 28,
   "metadata": {
    "colab": {
     "base_uri": "https://localhost:8080/"
    },
    "id": "xP4H-ssLqou4",
    "outputId": "7c87933e-2f1b-44b2-99e4-b1967d93c213"
   },
   "outputs": [
    {
     "data": {
      "text/plain": [
       "[[('Usain', 'NN')],\n",
       " [('Bolt', 'NN')],\n",
       " [('is', 'VBZ')],\n",
       " [('the', 'DT')],\n",
       " [('fastest', 'JJS')],\n",
       " [('runner', 'NN')],\n",
       " [('in', 'IN')],\n",
       " [('the', 'DT')],\n",
       " [('world', 'NN')]]"
      ]
     },
     "execution_count": 28,
     "metadata": {},
     "output_type": "execute_result"
    }
   ],
   "source": [
    "from nltk.tokenize import word_tokenize\n",
    "text = \"Usain Bolt is the fastest runner in the world\"\n",
    "tokens = word_tokenize(text)\n",
    "[nltk.pos_tag([word]) for word in tokens]"
   ]
  },
  {
   "cell_type": "code",
   "execution_count": 29,
   "metadata": {
    "colab": {
     "base_uri": "https://localhost:8080/"
    },
    "id": "dKiticUU2TOw",
    "outputId": "383f2864-88c5-4c44-a580-89a2f6411c6d"
   },
   "outputs": [
    {
     "name": "stdout",
     "output_type": "stream",
     "text": [
      "Requirement already satisfied: nltk in d:\\esp_ machine_learning\\pln\\clase 1\\mi_entorno\\lib\\site-packages (3.9.1)\n",
      "Requirement already satisfied: click in d:\\esp_ machine_learning\\pln\\clase 1\\mi_entorno\\lib\\site-packages (from nltk) (8.1.7)\n",
      "Requirement already satisfied: joblib in d:\\esp_ machine_learning\\pln\\clase 1\\mi_entorno\\lib\\site-packages (from nltk) (1.4.2)\n",
      "Requirement already satisfied: regex>=2021.8.3 in d:\\esp_ machine_learning\\pln\\clase 1\\mi_entorno\\lib\\site-packages (from nltk) (2024.11.6)\n",
      "Requirement already satisfied: tqdm in d:\\esp_ machine_learning\\pln\\clase 1\\mi_entorno\\lib\\site-packages (from nltk) (4.67.0)\n",
      "Requirement already satisfied: colorama in d:\\esp_ machine_learning\\pln\\clase 1\\mi_entorno\\lib\\site-packages (from click->nltk) (0.4.6)\n",
      "Note: you may need to restart the kernel to use updated packages.\n"
     ]
    },
    {
     "name": "stderr",
     "output_type": "stream",
     "text": [
      "\n",
      "[notice] A new release of pip is available: 24.0 -> 24.3.1\n",
      "[notice] To update, run: python.exe -m pip install --upgrade pip\n"
     ]
    }
   ],
   "source": [
    "pip install nltk"
   ]
  },
  {
   "cell_type": "code",
   "execution_count": 30,
   "metadata": {
    "colab": {
     "base_uri": "https://localhost:8080/"
    },
    "id": "6VLLdNp22RN4",
    "outputId": "d453dc0e-6e30-4a89-dd93-bf4850bda453"
   },
   "outputs": [
    {
     "name": "stdout",
     "output_type": "stream",
     "text": [
      "$: dollar\n",
      "    $ -$ --$ A$ C$ HK$ M$ NZ$ S$ U.S.$ US$\n",
      "'': closing quotation mark\n",
      "    ' ''\n",
      "(: opening parenthesis\n",
      "    ( [ {\n",
      "): closing parenthesis\n",
      "    ) ] }\n",
      ",: comma\n",
      "    ,\n",
      "--: dash\n",
      "    --\n",
      ".: sentence terminator\n",
      "    . ! ?\n",
      ":: colon or ellipsis\n",
      "    : ; ...\n",
      "CC: conjunction, coordinating\n",
      "    & 'n and both but either et for less minus neither nor or plus so\n",
      "    therefore times v. versus vs. whether yet\n",
      "CD: numeral, cardinal\n",
      "    mid-1890 nine-thirty forty-two one-tenth ten million 0.5 one forty-\n",
      "    seven 1987 twenty '79 zero two 78-degrees eighty-four IX '60s .025\n",
      "    fifteen 271,124 dozen quintillion DM2,000 ...\n",
      "DT: determiner\n",
      "    all an another any both del each either every half la many much nary\n",
      "    neither no some such that the them these this those\n",
      "EX: existential there\n",
      "    there\n",
      "FW: foreign word\n",
      "    gemeinschaft hund ich jeux habeas Haementeria Herr K'ang-si vous\n",
      "    lutihaw alai je jour objets salutaris fille quibusdam pas trop Monte\n",
      "    terram fiche oui corporis ...\n",
      "IN: preposition or conjunction, subordinating\n",
      "    astride among uppon whether out inside pro despite on by throughout\n",
      "    below within for towards near behind atop around if like until below\n",
      "    next into if beside ...\n",
      "JJ: adjective or numeral, ordinal\n",
      "    third ill-mannered pre-war regrettable oiled calamitous first separable\n",
      "    ectoplasmic battery-powered participatory fourth still-to-be-named\n",
      "    multilingual multi-disciplinary ...\n",
      "JJR: adjective, comparative\n",
      "    bleaker braver breezier briefer brighter brisker broader bumper busier\n",
      "    calmer cheaper choosier cleaner clearer closer colder commoner costlier\n",
      "    cozier creamier crunchier cuter ...\n",
      "JJS: adjective, superlative\n",
      "    calmest cheapest choicest classiest cleanest clearest closest commonest\n",
      "    corniest costliest crassest creepiest crudest cutest darkest deadliest\n",
      "    dearest deepest densest dinkiest ...\n",
      "LS: list item marker\n",
      "    A A. B B. C C. D E F First G H I J K One SP-44001 SP-44002 SP-44005\n",
      "    SP-44007 Second Third Three Two * a b c d first five four one six three\n",
      "    two\n",
      "MD: modal auxiliary\n",
      "    can cannot could couldn't dare may might must need ought shall should\n",
      "    shouldn't will would\n",
      "NN: noun, common, singular or mass\n",
      "    common-carrier cabbage knuckle-duster Casino afghan shed thermostat\n",
      "    investment slide humour falloff slick wind hyena override subhumanity\n",
      "    machinist ...\n",
      "NNP: noun, proper, singular\n",
      "    Motown Venneboerger Czestochwa Ranzer Conchita Trumplane Christos\n",
      "    Oceanside Escobar Kreisler Sawyer Cougar Yvette Ervin ODI Darryl CTCA\n",
      "    Shannon A.K.C. Meltex Liverpool ...\n",
      "NNPS: noun, proper, plural\n",
      "    Americans Americas Amharas Amityvilles Amusements Anarcho-Syndicalists\n",
      "    Andalusians Andes Andruses Angels Animals Anthony Antilles Antiques\n",
      "    Apache Apaches Apocrypha ...\n",
      "NNS: noun, common, plural\n",
      "    undergraduates scotches bric-a-brac products bodyguards facets coasts\n",
      "    divestitures storehouses designs clubs fragrances averages\n",
      "    subjectivists apprehensions muses factory-jobs ...\n",
      "PDT: pre-determiner\n",
      "    all both half many quite such sure this\n",
      "POS: genitive marker\n",
      "    ' 's\n",
      "PRP: pronoun, personal\n",
      "    hers herself him himself hisself it itself me myself one oneself ours\n",
      "    ourselves ownself self she thee theirs them themselves they thou thy us\n",
      "PRP$: pronoun, possessive\n",
      "    her his mine my our ours their thy your\n",
      "RB: adverb\n",
      "    occasionally unabatingly maddeningly adventurously professedly\n",
      "    stirringly prominently technologically magisterially predominately\n",
      "    swiftly fiscally pitilessly ...\n",
      "RBR: adverb, comparative\n",
      "    further gloomier grander graver greater grimmer harder harsher\n",
      "    healthier heavier higher however larger later leaner lengthier less-\n",
      "    perfectly lesser lonelier longer louder lower more ...\n",
      "RBS: adverb, superlative\n",
      "    best biggest bluntest earliest farthest first furthest hardest\n",
      "    heartiest highest largest least less most nearest second tightest worst\n",
      "RP: particle\n",
      "    aboard about across along apart around aside at away back before behind\n",
      "    by crop down ever fast for forth from go high i.e. in into just later\n",
      "    low more off on open out over per pie raising start teeth that through\n",
      "    under unto up up-pp upon whole with you\n",
      "SYM: symbol\n",
      "    % & ' '' ''. ) ). * + ,. < = > @ A[fj] U.S U.S.S.R * ** ***\n",
      "TO: \"to\" as preposition or infinitive marker\n",
      "    to\n",
      "UH: interjection\n",
      "    Goodbye Goody Gosh Wow Jeepers Jee-sus Hubba Hey Kee-reist Oops amen\n",
      "    huh howdy uh dammit whammo shucks heck anyways whodunnit honey golly\n",
      "    man baby diddle hush sonuvabitch ...\n",
      "VB: verb, base form\n",
      "    ask assemble assess assign assume atone attention avoid bake balkanize\n",
      "    bank begin behold believe bend benefit bevel beware bless boil bomb\n",
      "    boost brace break bring broil brush build ...\n",
      "VBD: verb, past tense\n",
      "    dipped pleaded swiped regummed soaked tidied convened halted registered\n",
      "    cushioned exacted snubbed strode aimed adopted belied figgered\n",
      "    speculated wore appreciated contemplated ...\n",
      "VBG: verb, present participle or gerund\n",
      "    telegraphing stirring focusing angering judging stalling lactating\n",
      "    hankerin' alleging veering capping approaching traveling besieging\n",
      "    encrypting interrupting erasing wincing ...\n",
      "VBN: verb, past participle\n",
      "    multihulled dilapidated aerosolized chaired languished panelized used\n",
      "    experimented flourished imitated reunifed factored condensed sheared\n",
      "    unsettled primed dubbed desired ...\n",
      "VBP: verb, present tense, not 3rd person singular\n",
      "    predominate wrap resort sue twist spill cure lengthen brush terminate\n",
      "    appear tend stray glisten obtain comprise detest tease attract\n",
      "    emphasize mold postpone sever return wag ...\n",
      "VBZ: verb, present tense, 3rd person singular\n",
      "    bases reconstructs marks mixes displeases seals carps weaves snatches\n",
      "    slumps stretches authorizes smolders pictures emerges stockpiles\n",
      "    seduces fizzes uses bolsters slaps speaks pleads ...\n",
      "WDT: WH-determiner\n",
      "    that what whatever which whichever\n",
      "WP: WH-pronoun\n",
      "    that what whatever whatsoever which who whom whosoever\n",
      "WP$: WH-pronoun, possessive\n",
      "    whose\n",
      "WRB: Wh-adverb\n",
      "    how however whence whenever where whereby whereever wherein whereof why\n",
      "``: opening quotation mark\n",
      "    ` ``\n"
     ]
    },
    {
     "name": "stderr",
     "output_type": "stream",
     "text": [
      "[nltk_data] Downloading package tagsets to\n",
      "[nltk_data]     C:\\Users\\juano\\AppData\\Roaming\\nltk_data...\n",
      "[nltk_data]   Package tagsets is already up-to-date!\n",
      "[nltk_data] Downloading package tagsets_json to\n",
      "[nltk_data]     C:\\Users\\juano\\AppData\\Roaming\\nltk_data...\n",
      "[nltk_data]   Package tagsets_json is already up-to-date!\n"
     ]
    }
   ],
   "source": [
    "import nltk\n",
    "nltk.download('tagsets')\n",
    "nltk.download('tagsets_json')# need to download first time\n",
    "nltk.help.upenn_tagset()"
   ]
  },
  {
   "cell_type": "markdown",
   "metadata": {
    "id": "j3Z7vGLqKLdn"
   },
   "source": [
    "#TextBlob\n",
    "TextBlob es una biblioteca popular que se utiliza para análisis de sentimientos, etiquetado de partes de la oración, traducción, entre otras tareas. Está construida sobre otras bibliotecas, incluyendo NLTK, y ofrece una interfaz muy fácil de usar, lo que la convierte en una herramienta imprescindible para principiantes en procesamiento de lenguaje natural (NLP).\n",
    "\n",
    "Documentación de TextBlob en https://textblob.readthedocs.io/en/dev/ o visitar su página en GitHub en https://github.com/sloria/TextBlob para comenzar a explorarla.\n",
    "\n",
    "El análisis de sentimientos es un área de investigación importante dentro del procesamiento de lenguaje natural (NLP) que busca analizar el texto y evaluar su sentimiento. La biblioteca TextBlob permite a los usuarios analizar el sentimiento de un fragmento de texto de una manera muy conveniente. La documentación de la biblioteca TextBlob (https://textblob.readthedocs.io/en/dev/) es bastante detallada, fácil de leer y contiene tutoriales también.\n",
    "\n"
   ]
  },
  {
   "cell_type": "code",
   "execution_count": 31,
   "metadata": {
    "colab": {
     "base_uri": "https://localhost:8080/"
    },
    "id": "NCU71yVNLrWf",
    "outputId": "69f1be43-d409-46b1-8c0c-524060860ad7"
   },
   "outputs": [
    {
     "name": "stdout",
     "output_type": "stream",
     "text": [
      "Requirement already satisfied: textblob in d:\\esp_ machine_learning\\pln\\clase 1\\mi_entorno\\lib\\site-packages (0.18.0.post0)\n",
      "Requirement already satisfied: nltk>=3.8 in d:\\esp_ machine_learning\\pln\\clase 1\\mi_entorno\\lib\\site-packages (from textblob) (3.9.1)\n",
      "Requirement already satisfied: click in d:\\esp_ machine_learning\\pln\\clase 1\\mi_entorno\\lib\\site-packages (from nltk>=3.8->textblob) (8.1.7)\n",
      "Requirement already satisfied: joblib in d:\\esp_ machine_learning\\pln\\clase 1\\mi_entorno\\lib\\site-packages (from nltk>=3.8->textblob) (1.4.2)\n",
      "Requirement already satisfied: regex>=2021.8.3 in d:\\esp_ machine_learning\\pln\\clase 1\\mi_entorno\\lib\\site-packages (from nltk>=3.8->textblob) (2024.11.6)\n",
      "Requirement already satisfied: tqdm in d:\\esp_ machine_learning\\pln\\clase 1\\mi_entorno\\lib\\site-packages (from nltk>=3.8->textblob) (4.67.0)\n",
      "Requirement already satisfied: colorama in d:\\esp_ machine_learning\\pln\\clase 1\\mi_entorno\\lib\\site-packages (from click->nltk>=3.8->textblob) (0.4.6)\n",
      "Note: you may need to restart the kernel to use updated packages.\n"
     ]
    },
    {
     "name": "stderr",
     "output_type": "stream",
     "text": [
      "\n",
      "[notice] A new release of pip is available: 24.0 -> 24.3.1\n",
      "[notice] To update, run: python.exe -m pip install --upgrade pip\n"
     ]
    }
   ],
   "source": [
    "pip install -U textblob"
   ]
  },
  {
   "cell_type": "markdown",
   "metadata": {
    "id": "PjLrpAPzLqC3"
   },
   "source": [
    "\n",
    "Estos comandos aseguran que la biblioteca se instale y que los corpus necesarios para el análisis estén disponibles."
   ]
  },
  {
   "cell_type": "code",
   "execution_count": 32,
   "metadata": {
    "colab": {
     "base_uri": "https://localhost:8080/"
    },
    "id": "E8QFvZgiqosQ",
    "outputId": "1fae1456-1690-4244-8876-ca0594cd0386"
   },
   "outputs": [
    {
     "data": {
      "text/plain": [
       "Sentiment(polarity=0.5, subjectivity=0.6)"
      ]
     },
     "execution_count": 32,
     "metadata": {},
     "output_type": "execute_result"
    }
   ],
   "source": [
    "from textblob import TextBlob\n",
    "TextBlob(\"I love pizza\").sentiment\n"
   ]
  },
  {
   "cell_type": "markdown",
   "metadata": {
    "id": "vZnQBi57Nn4w"
   },
   "source": [
    "Una vez que se ha importado la biblioteca TextBlob, todo lo que necesitamos hacer para calcular el sentimiento es pasar el texto que se desea analizar y usar el módulo de sentimiento de la biblioteca. El módulo de sentimiento genera una tupla con el puntaje de polaridad y el puntaje de subjetividad.\n",
    "\n",
    "* El puntaje de polaridad varía de -1 a 1, donde -1 indica un sentimiento extremadamente negativo y 1 un sentimiento extremadamente positivo.\n",
    "* El puntaje de subjetividad varía de 0 a 1, donde un valor de 0 implica que la declaración es completamente objetiva o factual, mientras que un valor de 1 implica una declaración altamente subjetiva.\n",
    "\n",
    "Por ejemplo, para la frase \"I love pizza\", obtenemos un puntaje de polaridad de 0.5, lo que sugiere un sentimiento positivo. La subjetividad también se calcula como alta, lo cual parece adecuado."
   ]
  },
  {
   "cell_type": "code",
   "execution_count": 33,
   "metadata": {
    "colab": {
     "base_uri": "https://localhost:8080/"
    },
    "id": "HVhTuAoyqopp",
    "outputId": "eb7e4319-6850-47ef-daad-c67487cd3df3"
   },
   "outputs": [
    {
     "data": {
      "text/plain": [
       "Sentiment(polarity=-0.28125, subjectivity=0.54375)"
      ]
     },
     "execution_count": 33,
     "metadata": {},
     "output_type": "execute_result"
    }
   ],
   "source": [
    "\n",
    "TextBlob(\"The project failed miserably, causing significant financial losses.\").sentiment"
   ]
  },
  {
   "cell_type": "code",
   "execution_count": 34,
   "metadata": {
    "colab": {
     "base_uri": "https://localhost:8080/"
    },
    "id": "m7CW4AYhqonI",
    "outputId": "53877988-cde8-4487-d66d-fe9a72cf6ac2"
   },
   "outputs": [
    {
     "data": {
      "text/plain": [
       "Sentiment(polarity=-1.0, subjectivity=1.0)"
      ]
     },
     "execution_count": 34,
     "metadata": {},
     "output_type": "execute_result"
    }
   ],
   "source": [
    "TextBlob(\"What a terrible thing to say\").sentiment"
   ]
  },
  {
   "cell_type": "markdown",
   "metadata": {
    "id": "zulAaVkKONvY"
   },
   "source": [
    "#Traducción de Texto:\n",
    "TextBlob utiliza la API de Google Translate para proporcionar una interfaz muy sencilla para traducir textos. Simplemente se usa la función translate() para traducir un texto a un idioma deseado (de la lista de idiomas disponibles en Google). El parámetro to en la función translate() determina el idioma al que se traducirá el texto. El resultado de la función translate() será equivalente al que se obtiene en Google Translate.\n",
    "\n"
   ]
  },
  {
   "cell_type": "code",
   "execution_count": 35,
   "metadata": {
    "colab": {
     "base_uri": "https://localhost:8080/"
    },
    "id": "08sk9HhCqokp",
    "outputId": "c0c021ab-38ad-4ce0-8e89-4d34aaa1fe5e"
   },
   "outputs": [
    {
     "name": "stdout",
     "output_type": "stream",
     "text": [
      "Translation to fr: Qui aurait cru que la traduction pouvait être amusante ?\n",
      "Translation to zh-CN: 谁知道翻译也可以很有趣\n",
      "Translation to hi: कौन जानता था कि अनुवाद मज़ेदार हो सकता है\n",
      "Translation to es: ¿Quién iba a pensar que traducir podía ser divertido?\n"
     ]
    }
   ],
   "source": [
    "from deep_translator import GoogleTranslator\n",
    "\n",
    "# Lista de idiomas a los que traducir\n",
    "languages = ['fr', 'zh-CN', 'hi', 'es']\n",
    "\n",
    "# Texto a traducir\n",
    "text = \"Who knew translation could be fun\"\n",
    "\n",
    "# Itera sobre los idiomas y traduce el texto\n",
    "for language in languages:\n",
    "    try:\n",
    "        translated_text = GoogleTranslator(source='en', target=language).translate(text)\n",
    "        print(f\"Translation to {language}: {translated_text}\")\n",
    "    except Exception as e:\n",
    "        print(f\"Error translating to {language}: {e}\")\n",
    "\n"
   ]
  },
  {
   "cell_type": "code",
   "execution_count": 36,
   "metadata": {
    "colab": {
     "base_uri": "https://localhost:8080/"
    },
    "id": "Vpb5Y_G8qofh",
    "outputId": "e84250b7-d168-4880-993b-48418c4f367c"
   },
   "outputs": [
    {
     "name": "stdout",
     "output_type": "stream",
     "text": [
      "Hello how are you?\n"
     ]
    }
   ],
   "source": [
    "#!pip install textblob googletrans==3.1.0a0\n",
    "\n",
    "from textblob import TextBlob\n",
    "from googletrans import Translator\n",
    "\n",
    "blob = TextBlob(\"Hola, ¿cómo estás?\")\n",
    "\n",
    "# Crea un objeto Translator\n",
    "translator = Translator()\n",
    "#Traducción\n",
    "translation = translator.translate(str(blob), src='es', dest='en').text\n",
    "\n",
    "print(translation)\n"
   ]
  },
  {
   "cell_type": "code",
   "execution_count": 37,
   "metadata": {
    "colab": {
     "base_uri": "https://localhost:8080/"
    },
    "id": "2OnUbVfaqoag",
    "outputId": "91d4748b-1148-462d-9500-7d2e42c749b3"
   },
   "outputs": [
    {
     "name": "stdout",
     "output_type": "stream",
     "text": [
      "Sentimiento: Sentiment(polarity=0.0, subjectivity=0.0)\n",
      "Polaridad: 0.0\n",
      "Subjetividad: 0.0\n"
     ]
    }
   ],
   "source": [
    "from textblob import TextBlob\n",
    "\n",
    "# Ejemplo que queremos hacer en español\n",
    "texto = \"Me encanta este lugar, es maravilloso y la comida está deliciosa.\"\n",
    "\n",
    "# Crear un objeto TextBlob\n",
    "blob = TextBlob(texto)\n",
    "\n",
    "# Obtener la polaridad y subjetividad\n",
    "sentimiento = blob.sentiment\n",
    "polaridad = sentimiento.polarity\n",
    "subjetividad = sentimiento.subjectivity\n",
    "\n",
    "print(f\"Sentimiento: {sentimiento}\")\n",
    "print(f\"Polaridad: {polaridad}\")  # Rango entre -1 y 1\n",
    "print(f\"Subjetividad: {subjetividad}\")  # Rango entre 0 y 1\n"
   ]
  },
  {
   "cell_type": "code",
   "execution_count": 38,
   "metadata": {},
   "outputs": [
    {
     "name": "stdout",
     "output_type": "stream",
     "text": [
      "Frase en Español:  El gobierno debería invertir más en educación, no en obras que no beneficiarán a la mayoría.\n",
      "Frase en Ingles:  The government should invest more in education, not in works that will not benefit the majority.\n",
      "Polaridad: 0.5\n",
      "Subjetividad: 0.5\n",
      "Prueba con SnowballStemmer:  ['the', 'government', 'should', 'invest', 'mor', 'in', 'education', ',', 'not', 'in', 'works', 'that', 'will', 'not', 'benefit', 'the', 'majority', '.']\n",
      "Prueba con wordNetLemmatizer:  ['the', 'government', 'should', 'invest', 'more', 'in', 'education', ',', 'not', 'in', 'work', 'that', 'will', 'not', 'benefit', 'the', 'majority', '.']\n",
      "Sin stopwords:  ['government', 'invest', 'education', ',', 'works', 'benefit', 'majority', '.']\n",
      "Frase nueva en Ingles:  government invest education , works benefit majority .\n",
      "Frase nueva en Español:  Educación de inversión del gobierno, las obras benefician a la mayoría.\n",
      "Nueva Polaridad: 0.0\n",
      "Nueva Subjetividad: 0.0\n",
      "\n",
      "\n",
      "Frase en Español:  El cambio climático es una realidad, pero aún hay muchos que no quieren aceptarlo.\n",
      "Frase en Ingles:  Climate change is a reality, but there are still many who do not want to accept it.\n",
      "Polaridad: 0.5\n",
      "Subjetividad: 0.5\n",
      "Prueba con SnowballStemmer:  ['climat', 'chang', 'is', 'a', 'reality', ',', 'but', 'ther', 'are', 'still', 'many', 'who', 'do', 'not', 'want', 'to', 'accept', 'it', '.']\n",
      "Prueba con wordNetLemmatizer:  ['climate', 'change', 'is', 'a', 'reality', ',', 'but', 'there', 'are', 'still', 'many', 'who', 'do', 'not', 'want', 'to', 'accept', 'it', '.']\n",
      "Sin stopwords:  ['climate', 'change', 'reality', ',', 'still', 'many', 'want', 'accept', '.']\n",
      "Frase nueva en Ingles:  climate change reality , still many want accept .\n",
      "Frase nueva en Español:  realidad del cambio climático, todavía muchos quieren aceptar.\n",
      "Nueva Polaridad: 0.5\n",
      "Nueva Subjetividad: 0.5\n",
      "\n",
      "\n",
      "Frase en Español:  Las redes sociales están cambiando la forma en que nos comunicamos, no siempre para bien.\n",
      "Frase en Ingles:  Social networks are changing the way we communicate, not always for good.\n",
      "Polaridad: 0.36666666666666664\n",
      "Subjetividad: 0.33333333333333337\n",
      "Prueba con SnowballStemmer:  ['social', 'networks', 'are', 'changing', 'the', 'way', 'we', 'communicat', ',', 'not', 'always', 'for', 'good', '.']\n",
      "Prueba con wordNetLemmatizer:  ['social', 'network', 'are', 'changing', 'the', 'way', 'we', 'communicate', ',', 'not', 'always', 'for', 'good', '.']\n",
      "Sin stopwords:  ['social', 'networks', 'changing', 'way', 'communicate', ',', 'always', 'good', '.']\n",
      "Frase nueva en Ingles:  social networks changing way communicate , always good .\n",
      "Frase nueva en Español:  Las redes sociales cambian la manera comunicada, siempre bien.\n",
      "Nueva Polaridad: 0.36666666666666664\n",
      "Nueva Subjetividad: 0.33333333333333337\n",
      "\n",
      "\n",
      "Frase en Español:  Creo que las leyes sobre el uso de energía renovable aún necesitan más apoyo y concienciación.\n",
      "Frase en Ingles:  I believe that laws on renewable energy still need more support and awareness.\n",
      "Polaridad: 0.5\n",
      "Subjetividad: 0.5\n",
      "Prueba con SnowballStemmer:  ['i', 'believ', 'that', 'laws', 'on', 'renew', 'energy', 'still', 'need', 'mor', 'support', 'and', 'awareness', '.']\n",
      "Prueba con wordNetLemmatizer:  ['i', 'believe', 'that', 'law', 'on', 'renewable', 'energy', 'still', 'need', 'more', 'support', 'and', 'awareness', '.']\n",
      "Sin stopwords:  ['believe', 'laws', 'renewable', 'energy', 'still', 'need', 'support', 'awareness', '.']\n",
      "Frase nueva en Ingles:  believe laws renewable energy still need support awareness .\n",
      "Frase nueva en Español:  Cree que las leyes de energía renovable aún necesitan conciencia de apoyo.\n",
      "Nueva Polaridad: 0.0\n",
      "Nueva Subjetividad: 0.0\n",
      "\n",
      "\n",
      "Frase en Español:  Los precios de la vivienda están subiendo constantemente, pero parece que a nadie le importa.\n",
      "Frase en Ingles:  Housing prices are constantly climbing, but it seems that nobody cares.\n",
      "Polaridad: 0.0\n",
      "Subjetividad: 0.3333333333333333\n",
      "Prueba con SnowballStemmer:  ['housing', 'pric', 'are', 'constantly', 'climbing', ',', 'but', 'it', 'seems', 'that', 'nobody', 'car', '.']\n",
      "Prueba con wordNetLemmatizer:  ['housing', 'price', 'are', 'constantly', 'climbing', ',', 'but', 'it', 'seems', 'that', 'nobody', 'care', '.']\n",
      "Sin stopwords:  ['housing', 'prices', 'constantly', 'climbing', ',', 'seems', 'nobody', 'cares', '.']\n",
      "Frase nueva en Ingles:  housing prices constantly climbing , seems nobody cares .\n",
      "Frase nueva en Español:  Los precios de la vivienda suben constantemente, parece que a nadie le importa.\n",
      "Nueva Polaridad: 0.0\n",
      "Nueva Subjetividad: 0.3333333333333333\n",
      "\n",
      "\n",
      "Frase en Español:  Algunos piensan que la vacuna es innecesaria, pero los expertos dicen lo contrario.\n",
      "Frase en Ingles:  Some think that the vaccine is unnecessary, but experts say otherwise.\n",
      "Polaridad: -0.4\n",
      "Subjetividad: 0.9\n",
      "Prueba con SnowballStemmer:  ['som', 'think', 'that', 'the', 'vaccin', 'is', 'unnecessary', ',', 'but', 'experts', 'say', 'otherwis', '.']\n",
      "Prueba con wordNetLemmatizer:  ['some', 'think', 'that', 'the', 'vaccine', 'is', 'unnecessary', ',', 'but', 'expert', 'say', 'otherwise', '.']\n",
      "Sin stopwords:  ['think', 'vaccine', 'unnecessary', ',', 'experts', 'say', 'otherwise', '.']\n",
      "Frase nueva en Ingles:  think vaccine unnecessary , experts say otherwise .\n",
      "Frase nueva en Español:  Piense en vacuna innecesaria, los expertos dicen lo contrario.\n",
      "Nueva Polaridad: -0.4\n",
      "Nueva Subjetividad: 0.9\n",
      "\n",
      "\n",
      "Frase en Español:  La economía está en una crisis constante, pero las soluciones no parecen ser claras.\n",
      "Frase en Ingles:  The economy is in a constant crisis, but the solutions do not seem to be clear.\n",
      "Polaridad: 0.05000000000000001\n",
      "Subjetividad: 0.3583333333333333\n",
      "Prueba con SnowballStemmer:  ['the', 'economy', 'is', 'in', 'a', 'constant', 'crisis', ',', 'but', 'the', 'solutions', 'do', 'not', 'seem', 'to', 'be', 'cle', '.']\n",
      "Prueba con wordNetLemmatizer:  ['the', 'economy', 'is', 'in', 'a', 'constant', 'crisis', ',', 'but', 'the', 'solution', 'do', 'not', 'seem', 'to', 'be', 'clear', '.']\n",
      "Sin stopwords:  ['economy', 'constant', 'crisis', ',', 'solutions', 'seem', 'clear', '.']\n",
      "Frase nueva en Ingles:  economy constant crisis , solutions seem clear .\n",
      "Frase nueva en Español:  Crisis constante de la economía, las soluciones parecen claras.\n",
      "Nueva Polaridad: 0.05000000000000001\n",
      "Nueva Subjetividad: 0.3583333333333333\n",
      "\n",
      "\n",
      "Frase en Español:  Siempre he pensado que la educación universitaria debería ser gratuita para todos, sin importar el contexto.\n",
      "Frase en Ingles:  I have always thought that university education should be free for all, regardless of context.\n",
      "Polaridad: 0.4\n",
      "Subjetividad: 0.8\n",
      "Prueba con SnowballStemmer:  ['i', 'hav', 'always', 'thought', 'that', 'university', 'education', 'should', 'be', 'fre', 'for', 'all', ',', 'regardless', 'of', 'context', '.']\n",
      "Prueba con wordNetLemmatizer:  ['i', 'have', 'always', 'thought', 'that', 'university', 'education', 'should', 'be', 'free', 'for', 'all', ',', 'regardless', 'of', 'context', '.']\n",
      "Sin stopwords:  ['always', 'thought', 'university', 'education', 'free', ',', 'regardless', 'context', '.']\n",
      "Frase nueva en Ingles:  always thought university education free , regardless context .\n",
      "Frase nueva en Español:  Siempre pensé en la educación universitaria gratis, independientemente del contexto.\n",
      "Nueva Polaridad: 0.4\n",
      "Nueva Subjetividad: 0.8\n",
      "\n",
      "\n"
     ]
    }
   ],
   "source": [
    "frases = [\"El gobierno debería invertir más en educación, no en obras que no beneficiarán a la mayoría.\",\n",
    "\"El cambio climático es una realidad, pero aún hay muchos que no quieren aceptarlo.\",\n",
    "\"Las redes sociales están cambiando la forma en que nos comunicamos, no siempre para bien.\",\n",
    "\"Creo que las leyes sobre el uso de energía renovable aún necesitan más apoyo y concienciación.\",\n",
    "\"Los precios de la vivienda están subiendo constantemente, pero parece que a nadie le importa.\",\n",
    "\"Algunos piensan que la vacuna es innecesaria, pero los expertos dicen lo contrario.\",\n",
    "\"La economía está en una crisis constante, pero las soluciones no parecen ser claras.\",\n",
    "\"Siempre he pensado que la educación universitaria debería ser gratuita para todos, sin importar el contexto.\"]\n",
    "\n",
    "for frase in frases:\n",
    "  print('Frase en Español: ', frase)\n",
    "  \n",
    "  blob = TextBlob(frase)\n",
    "  translation = translator.translate(str(blob), src='es', dest='en').text\n",
    "  print('Frase en Ingles: ', translation)\n",
    "  \n",
    "  blob_t = TextBlob(translation)\n",
    "  sentimiento = blob_t.sentiment\n",
    "  polaridad = sentimiento.polarity\n",
    "  subjetividad = sentimiento.subjectivity\n",
    "\n",
    "  print(f\"Polaridad: {polaridad}\")\n",
    "  print(f\"Subjetividad: {subjetividad}\")\n",
    "  \n",
    "  tokens=word_tokenize(translation.lower())\n",
    "  prueba_2 = [stemmer2.stem(palabra_2) for palabra_2 in tokens]\n",
    "  print('Prueba con SnowballStemmer: ', prueba_2)\n",
    "  \n",
    "  prueba_3 = [lemmatizer.lemmatize(palabra_3) for palabra_3 in tokens]\n",
    "  print('Prueba con wordNetLemmatizer: ', prueba_3)\n",
    "  \n",
    "  stopwords = nltk.corpus.stopwords.words('english')\n",
    "  newtokens=[word for word in tokens if word not in stopwords]\n",
    "  print('Sin stopwords: ', newtokens)\n",
    "  \n",
    "  \n",
    "  sentence = ' '.join(newtokens)\n",
    "  print('Frase nueva en Ingles: ', sentence)\n",
    "  \n",
    "  translation_2 = translator.translate(str(sentence), src='en', dest='es').text\n",
    "  print('Frase nueva en Español: ', translation_2)\n",
    "  \n",
    "  blob_t = TextBlob(sentence)\n",
    "  sentimiento_t = blob_t.sentiment\n",
    "  polaridad_t = sentimiento_t.polarity\n",
    "  subjetividad_t = sentimiento_t.subjectivity\n",
    "\n",
    "  print(f\"Nueva Polaridad: {polaridad_t}\")\n",
    "  print(f\"Nueva Subjetividad: {subjetividad_t}\")\n",
    "  print(\"\\n\")"
   ]
  },
  {
   "cell_type": "markdown",
   "metadata": {
    "id": "2Wj-IoUvyJzt"
   },
   "source": [
    "#Conversión a minúsculas (Case folding)\n",
    "\n",
    "Otra estrategia que ayuda con la normalización se llama conversión a minúsculas (case folding). En este proceso, todas las letras de un corpus de texto se convierten a minúsculas. Por ejemplo, The y the se tratarán de la misma forma en un escenario de conversión a minúsculas, mientras que serían tratadas de manera diferente en un escenario sin esta conversión. Esta técnica es útil en sistemas de recuperación de información, como los motores de búsqueda.\n",
    "\n",
    "En el caso de un nombre propio como Lamborghini, se tratará como lamborghini; es decir, si el usuario escribe Lamborghini o lamborghini, los resultados serán los mismos.\n",
    "\n",
    "Sin embargo, en situaciones en las que los nombres propios derivan de términos comunes, la conversión a minúsculas puede volverse un obstáculo, ya que la distinción entre mayúsculas y minúsculas se vuelve importante. Por ejemplo, General Motors está compuesto de términos comunes, pero es un nombre propio. Aplicar la conversión a minúsculas en este caso podría causar problemas. Otro inconveniente es cuando los acrónimos se convierten a minúsculas, ya que existe una alta probabilidad de que se asocien a términos comunes. Un ejemplo ampliamente usado es CAT, que representa Common Admission Test en India, y que podría convertirse en cat.\n",
    "\n",
    "Una posible solución es construir modelos de aprendizaje automático que utilicen características de una oración para determinar qué palabras o tokens deben estar en minúsculas y cuáles no; sin embargo, este enfoque no siempre es efectivo cuando los usuarios suelen escribir en minúsculas. Por lo tanto, convertir todo a minúsculas sigue siendo una solución prudente"
   ]
  },
  {
   "cell_type": "code",
   "execution_count": 39,
   "metadata": {
    "colab": {
     "base_uri": "https://localhost:8080/",
     "height": 35
    },
    "id": "40wu86XlyJXM",
    "outputId": "e24f4f61-9bd9-45ac-e4f6-17dbadc49b0b"
   },
   "outputs": [
    {
     "data": {
      "text/plain": [
       "'we are putting in efforts to enhance our understanding of lemmatization'"
      ]
     },
     "execution_count": 39,
     "metadata": {},
     "output_type": "execute_result"
    }
   ],
   "source": [
    "s = \"We are putting in efforts to enhance our understanding of Lemmatization\"\n",
    "s = s.lower()\n",
    "s"
   ]
  },
  {
   "cell_type": "markdown",
   "metadata": {
    "id": "AkacE7_OybPE"
   },
   "source": [
    "# N-gramas\n",
    "\n",
    "Hasta ahora, nos hemos centrado en tokens de tamaño 1, es decir, una sola palabra. Las oraciones generalmente contienen nombres de personas, lugares y otros términos compuestos abiertos, como living room (sala de estar) y coffee mug (taza de café). Estas frases transmiten un significado específico cuando se usan dos o más palabras juntas. Cuando se usan de forma individual, el significado cambia por completo y se pierde el significado implícito de los términos compuestos. El uso de múltiples tokens para representar este significado implícito puede ser muy beneficioso para las tareas de NLP que se están realizando. Aunque tales ocurrencias son poco frecuentes, siguen llevando mucha información. Se deben emplear técnicas para interpretar estos casos también.\n",
    "\n",
    "En general, estos se agrupan bajo el término general de n-gramas. Cuando n es igual a 1, se denominan unigramas. Los bigramas o 2-gramas se refieren a pares de palabras, como dinner table (mesa de cena). Frases como the United Arab Emirates (los Emiratos Árabes Unidos), que constan de tres palabras, se denominan trigramas o 3-gramas. Este sistema de denominación se puede extender a n-gramas de mayor longitud, pero la mayoría de las tareas de NLP utilizan solo trigramas o menores.\n",
    "\n",
    "Vamos a entender cómo funciona esto con la siguiente oración:\n",
    "\n",
    "* Natural Language Processing is the way to go\n",
    "La frase Natural Language Processing\n",
    "\n",
    "lleva un significado implícito que se perdería si cada una de las palabras de la frase se procesara de forma individual; sin embargo, al usar trigramas, estas frases pueden extraerse juntas y el significado se captura. En general, todas las tareas de NLP utilizan unigramas, bigramas y trigramas juntos para capturar toda la información."
   ]
  },
  {
   "cell_type": "code",
   "execution_count": 40,
   "metadata": {
    "colab": {
     "base_uri": "https://localhost:8080/"
    },
    "id": "44EnqbYc0xj0",
    "outputId": "29fae81a-51d0-4dfa-a923-a9cbff2980e9"
   },
   "outputs": [
    {
     "data": {
      "text/plain": [
       "['Natural Language',\n",
       " 'Language Processing',\n",
       " 'Processing is',\n",
       " 'is the',\n",
       " 'the way',\n",
       " 'way to',\n",
       " 'to go']"
      ]
     },
     "execution_count": 40,
     "metadata": {},
     "output_type": "execute_result"
    }
   ],
   "source": [
    "from nltk.util import ngrams\n",
    "s = \"Natural Language Processing is the way to go\"\n",
    "tokens = s.split()\n",
    "bigrams = list(ngrams(tokens, 2))\n",
    "[\" \".join(token) for token in bigrams]\n"
   ]
  },
  {
   "cell_type": "code",
   "execution_count": 41,
   "metadata": {
    "colab": {
     "base_uri": "https://localhost:8080/"
    },
    "id": "jNPu1a3T04ak",
    "outputId": "3903eb8f-8f8f-42e7-f8ad-af76c7077811"
   },
   "outputs": [
    {
     "data": {
      "text/plain": [
       "['Natural Language Processing',\n",
       " 'Language Processing is',\n",
       " 'Processing is the',\n",
       " 'is the way',\n",
       " 'the way to',\n",
       " 'way to go']"
      ]
     },
     "execution_count": 41,
     "metadata": {},
     "output_type": "execute_result"
    }
   ],
   "source": [
    "s = \"Natural Language Processing is the way to go\"\n",
    "tokens = s.split()\n",
    "trigrams = list(ngrams(tokens, 3))\n",
    "[\" \".join(token) for token in trigrams]"
   ]
  },
  {
   "cell_type": "markdown",
   "metadata": {
    "id": "vfRdWlllXeiN"
   },
   "source": [
    "## Bibliotecas y metodología de web scraping\n",
    "Al hablar sobre NLTK, resaltamos la importancia de un corpus o un repositorio grande de texto para la investigación en procesamiento de lenguaje natural (NLP). Si bien los corpus disponibles son bastante útiles, los investigadores de NLP pueden necesitar texto sobre un tema específico. Por ejemplo, alguien que intente construir un analizador de sentimientos para los mercados financieros puede no encontrar útil un corpus de discursos presidenciales, reseñas de películas, etc. Por lo tanto, los investigadores de NLP pueden tener que obtener datos de otras fuentes. El web scraping es una herramienta extremadamente útil en este sentido, ya que permite a los usuarios recuperar información de fuentes web de forma programada.\n",
    "\n",
    "Antes de comenzar a discutir sobre el web scraping, se debe tener en cuenta la importancia de cumplir con las políticas de los sitios web en cuanto a la recolección de datos. La mayoría de los sitios web permiten el web scraping para uso individual y no comercial, pero siempre se debe verificar la política antes de realizar el scraping en un sitio."
   ]
  },
  {
   "cell_type": "code",
   "execution_count": 42,
   "metadata": {
    "colab": {
     "base_uri": "https://localhost:8080/"
    },
    "id": "LJcBFRQnqoS8",
    "outputId": "637b7bcd-1f0e-4500-9644-8be1a891b7a2"
   },
   "outputs": [
    {
     "name": "stdout",
     "output_type": "stream",
     "text": [
      "Requirement already satisfied: beautifulsoup4 in d:\\esp_ machine_learning\\pln\\clase 1\\mi_entorno\\lib\\site-packages (4.12.3)\n",
      "Requirement already satisfied: requests in d:\\esp_ machine_learning\\pln\\clase 1\\mi_entorno\\lib\\site-packages (2.32.3)\n",
      "Requirement already satisfied: soupsieve>1.2 in d:\\esp_ machine_learning\\pln\\clase 1\\mi_entorno\\lib\\site-packages (from beautifulsoup4) (2.6)\n",
      "Requirement already satisfied: charset-normalizer<4,>=2 in d:\\esp_ machine_learning\\pln\\clase 1\\mi_entorno\\lib\\site-packages (from requests) (3.4.0)\n",
      "Requirement already satisfied: idna<4,>=2.5 in d:\\esp_ machine_learning\\pln\\clase 1\\mi_entorno\\lib\\site-packages (from requests) (2.10)\n",
      "Requirement already satisfied: urllib3<3,>=1.21.1 in d:\\esp_ machine_learning\\pln\\clase 1\\mi_entorno\\lib\\site-packages (from requests) (2.2.3)\n",
      "Requirement already satisfied: certifi>=2017.4.17 in d:\\esp_ machine_learning\\pln\\clase 1\\mi_entorno\\lib\\site-packages (from requests) (2024.8.30)\n",
      "Note: you may need to restart the kernel to use updated packages.\n"
     ]
    },
    {
     "name": "stderr",
     "output_type": "stream",
     "text": [
      "\n",
      "[notice] A new release of pip is available: 24.0 -> 24.3.1\n",
      "[notice] To update, run: python.exe -m pip install --upgrade pip\n"
     ]
    }
   ],
   "source": [
    "pip install beautifulsoup4 requests\n"
   ]
  },
  {
   "cell_type": "code",
   "execution_count": 43,
   "metadata": {
    "colab": {
     "base_uri": "https://localhost:8080/"
    },
    "id": "ymN9JN3zqoQo",
    "outputId": "1ac6232f-6ea9-488e-da1a-d75e55a7dfee"
   },
   "outputs": [
    {
     "name": "stdout",
     "output_type": "stream",
     "text": [
      "None\n",
      "/\n",
      "/\n",
      "/cloud-scraper\n",
      "/pricing\n",
      "/documentation\n",
      "/tutorials\n",
      "/how-to-videos\n",
      "/test-sites\n",
      "https://forum.webscraper.io/\n",
      "https://chromewebstore.google.com/detail/web-scraper-free-web-scra/jnhgnonknehpejjnehehllkliplmbmhn?hl=en\n",
      "https://cloud.webscraper.io/\n",
      "/test-sites/e-commerce/allinone\n",
      "/test-sites/e-commerce/allinone/computers\n",
      "/test-sites/e-commerce/allinone/phones\n",
      "/test-sites/e-commerce/allinone/product/89\n",
      "/test-sites/e-commerce/allinone/product/112\n",
      "/test-sites/e-commerce/allinone/product/105\n",
      "/\n",
      "/cloud-scraper\n",
      "/about-us\n",
      "/contact\n",
      "/privacy-policy\n",
      "/extension-privacy-policy\n",
      "https://webscraper.io/downloads/Web_Scraper_Media_Kit.zip\n",
      "/jobs\n",
      "/blog\n",
      "/documentation\n",
      "/tutorials\n",
      "/screenshots\n",
      "/test-sites\n",
      "https://forum.webscraper.io/\n",
      "https://status.webscraper.io/\n",
      "mailto:info@webscraper.io\n",
      "https://www.facebook.com/webscraperio/\n",
      "https://twitter.com/webscraperio\n",
      "https://lv.linkedin.com/company/web-scraper\n",
      "https://youtube.com/@WebScraper/videos\n",
      "https://chromewebstore.google.com/detail/web-scraper-free-web-scra/jnhgnonknehpejjnehehllkliplmbmhn?hl=en\n"
     ]
    }
   ],
   "source": [
    "import requests\n",
    "from bs4 import BeautifulSoup\n",
    "\n",
    "# URL de la página web que quieres analizar\n",
    "url = \"https://webscraper.io/test-sites/e-commerce/allinone\"\n",
    "\n",
    "# Realizar la solicitud HTTP para obtener el contenido de la página\n",
    "response = requests.get(url)\n",
    "\n",
    "# Comprobar que la solicitud fue exitosa (código 200)\n",
    "if response.status_code == 200:\n",
    "    # Parsear el contenido HTML con BeautifulSoup\n",
    "    soup = BeautifulSoup(response.text, \"html.parser\")\n",
    "\n",
    "    # Ejemplo de extracción: obtener todos los enlaces (etiquetas <a>)\n",
    "    enlaces = soup.find_all(\"a\")\n",
    "\n",
    "    # Imprimir todos los enlaces encontrados\n",
    "    for enlace in enlaces:\n",
    "        print(enlace.get('href'))\n",
    "else:\n",
    "    print(f\"Error al acceder a la página. Código de estado: {response.status_code}\")\n"
   ]
  },
  {
   "cell_type": "code",
   "execution_count": 44,
   "metadata": {
    "colab": {
     "base_uri": "https://localhost:8080/",
     "height": 139
    },
    "id": "BprtV-16qoNg",
    "outputId": "8845b4d4-4c4f-4a55-a1a5-96eba17fa30b"
   },
   "outputs": [
    {
     "data": {
      "text/plain": [
       "'<!DOCTYPE html>\\n<html lang=\"en\">\\n<head>\\n\\t<!-- Google Tag Manager -->\\n<script nonce=\"MMY4LR76taWaSdiPo2CZE6WQjftbaVRx\">(function (w, d, s, l, i) {\\n\\t\\tw[l] = w[l] || [];\\n\\t\\tw[l].push({\\n\\t\\t\\t\\'gtm.start\\':\\n\\t\\t\\t\\tnew Date().getTime(), event: \\'gtm.js\\'\\n\\t\\t});\\n\\t\\tvar f = d.getElementsByTagName(s)[0],\\n\\t\\t\\tj = d.createElement(s), dl = l != \\'dataLayer\\' ? \\'&l=\\' + l : \\'\\';\\n\\t\\tj.async = true;\\n\\t\\tj.src =\\n\\t\\t\\t\\'https://www.googletagmanager.com/gtm.js?id=\\' + i + dl;\\n\\t\\tf.parentNode.insertBefore(j, f);\\n\\t})(window, document, \\'script\\', \\'dataLayer\\', \\'GTM-NVFPDWB\\');</script>\\n<!-- End Google Tag Manager -->\\n\\t<title>Allinone | Web Scraper Test Sites</title>\\n\\t<meta charset=\"utf-8\">\\n\\t<meta http-equiv=\"X-UA-Compatible\" content=\"IE=edge,chrome=1\">\\n\\n\\t<meta name=\"keywords\"\\n\\t\\t  content=\"web scraping,Web Scraper,Chrome extension,Crawling,Cross platform scraper\"/>\\n\\t<meta name=\"description\"\\n\\t\\t  content=\"The most popular web scraping extension. Start scraping in minutes. Automate your tasks with our Cloud Scraper. No software to download, no coding needed.\"/>\\n\\t<link rel=\"icon\" sizes=\"128x128\" href=\"/favicon.png\" type=\"image/png\">\\n\\t<link rel=\"icon\" href=\"/favicon.ico\" sizes=\"16x16 32x32\" type=\"image/x-icon\">\\n\\t<link rel=\"apple-touch-icon\" href=\"/logo-icon.png\" type=\"image/png\">\\n\\t<link rel=\"icon\" href=\"/icon.svg\" type=\"image/svg+xml\">\\n\\n\\t<meta name=\"viewport\" content=\"width=device-width, initial-scale=1.0\">\\n\\t\\n\\t<link rel=\"preconnect\" href=\"https://fonts.googleapis.com\">\\n\\t<link rel=\"preconnect\" href=\"https://fonts.gstatic.com\" crossorigin>\\n\\t<link href=\"https://fonts.googleapis.com/css2?family=Roboto:wght@400;500;600&display=swap\" rel=\"stylesheet\">\\n\\t<link href=\"https://fonts.googleapis.com/css2?family=Montserrat:wght@300;400;500;600;700;900&display=swap\" rel=\"stylesheet\">\\n\\n\\t<link rel=\"stylesheet\" href=\"/css/app.css?id=5b52ac68297d0e7f8456d77584b76430\">\\n\\t<link rel=\"stylesheet\" href=\"/css/ws-icons.font.css?id=bc6c0d86aeabab8583f9814643f23faa\">\\n\\n\\t<link rel=\"canonical\" href=\"https://webscraper.io/test-sites/e-commerce/allinone\">\\n\\t<meta property=\"og:title\" content=\"Allinone | Web Scraper Test Sites\">\\n\\t<meta property=\"og:description\" content=\"The most popular web scraping extension. Start scraping in minutes. Automate your tasks with our Cloud Scraper. No software to download, no coding needed.\">\\n\\t<meta property=\"og:type\" content=\"website\">\\n\\t<meta property=\"og:url\" content=\"https://webscraper.io/test-sites/e-commerce/allinone\">\\n\\t<meta property=\"og:image\" content=\"https://webscraper.io/webscraper-logo-header.png\">\\n\\n\\t<script defer src=\"/js/app.js?id=f1a54bee4c20f88abac224402c61522d\"></script>\\n\\n\\t\\n</head>\\n<body>\\n<!-- Google Tag Manager (noscript) -->\\n<noscript>\\n\\t<iframe src=\"https://www.googletagmanager.com/ns.html?id=GTM-NVFPDWB\"\\n\\t        height=\"0\" width=\"0\" style=\"display:none;visibility:hidden\"></iframe>\\n</noscript>\\n<!-- End Google Tag Manager (noscript) -->\\n<header role=\"banner\" class=\"navbar fixed-top navbar-expand-lg navbar-dark navbar-static svg-background\" id=\"navbar-top\">\\n\\t<div class=\"container\">\\n\\n\\t\\t<div class=\"navbar-header\">\\n\\n\\t\\t\\t<a data-bs-toggle=\"collapse-side\" data-bs-target=\".side-collapse\" data-bs-target-2=\".side-collapse-container\">\\n\\t\\t\\t\\t<button type=\"button\" class=\"navbar-toggler float-end collapsed\" data-bs-toggle=\"collapse\"\\n\\t\\t\\t\\t\\t\\tdata-bs-target=\"#navbar\" data-bs-target-2=\".side-collapse-container\" data-bs-target-3=\".side-collapse\"\\n\\t\\t\\t\\t\\t\\taria-expanded=\"false\" aria-controls=\"navbar\">\\n\\n\\t\\t\\t\\t\\t<span class=\"visually-hidden\">Toggle navigation</span>\\n\\t\\t\\t\\t\\t<span class=\"icon-bar top-bar\"></span>\\n\\t\\t\\t\\t\\t<span class=\"icon-bar middle-bar\"></span>\\n\\t\\t\\t\\t\\t<span class=\"icon-bar bottom-bar\"></span>\\n\\t\\t\\t\\t\\t<span class=\"icon-bar extra-bottom-bar\"></span>\\n\\n\\t\\t\\t\\t</button>\\n\\t\\t\\t</a>\\n\\t\\t\\t<div class=\"navbar-brand\">\\n\\t\\t\\t\\t<a href=\"/\"><img src=\"/img/logo_white.svg\" alt=\"Web Scraper\"></a>\\n\\t\\t\\t</div>\\n\\t\\t</div>\\n\\n\\t\\t<div class=\"side-collapse in\">\\n\\t\\t\\t<nav id=\"navbar\" role=\"navigation\" class=\"navbar-collapse collapse\">\\n\\t\\t\\t\\t<ul class=\"nav navbar-nav navbar-right\">\\n\\t\\t\\t\\t\\t<li class=\"nav-item\">\\n\\t\\t\\t\\t\\t\\t<a href=\"/\" class=\"nav-link menuitm\">\\n\\t\\t\\t\\t\\t\\t\\t<p>Web Scraper</p>\\n\\t\\t\\t\\t\\t\\t\\t<div class=\"crta\"></div>\\n\\t\\t\\t\\t\\t\\t</a>\\n\\t\\t\\t\\t\\t</li>\\n\\t\\t\\t\\t\\t<li class=\"nav-item\">\\n\\t\\t\\t\\t\\t\\t<a href=\"/cloud-scraper\" class=\"nav-link menuitm\" id=\"cloud-nav-link\">\\n\\t\\t\\t\\t\\t\\t\\t<p>Cloud Scraper</p>\\n\\t\\t\\t\\t\\t\\t\\t<div class=\"crta\"></div>\\n\\t\\t\\t\\t\\t\\t</a>\\n\\t\\t\\t\\t\\t</li>\\n\\t\\t\\t\\t\\t<li class=\"nav-item\">\\n\\t\\t\\t\\t\\t\\t<a href=\"/pricing\" class=\"nav-link menuitm\" id=\"pricing-nav-link\">\\n\\t\\t\\t\\t\\t\\t\\t<p>Pricing</p>\\n\\t\\t\\t\\t\\t\\t\\t<div class=\"crta\"></div>\\n\\t\\t\\t\\t\\t\\t</a>\\n\\t\\t\\t\\t\\t</li>\\n\\t\\t\\t\\t\\t<li class=\"nav-item dropdown\">\\n\\t\\t\\t\\t\\t\\t<button class=\"menuitm nav-link dropdown-toggle\" id=\"dropdownMenuLink\" role=\"button\" data-bs-toggle=\"dropdown\" aria-haspopup=\"true\" aria-expanded=\"false\">\\n\\t\\t\\t\\t\\t\\t\\t<p>Learn</p>\\n\\t\\t\\t\\t\\t\\t\\t<span class=\"crta\"></span>\\n\\t\\t\\t\\t\\t\\t</button>\\n\\t\\t\\t\\t\\t\\t<ul class=\"dropdown-menu\" aria-labelledby=\"dropdownMenuLink\">\\n\\t\\t\\t\\t\\t\\t\\t<li>\\n\\t\\t\\t\\t\\t\\t\\t\\t<a href=\"/documentation\" class=\"dropdown-item\">Documentation</a>\\n\\t\\t\\t\\t\\t\\t\\t</li>\\n\\t\\t\\t\\t\\t\\t\\t<li>\\n\\t\\t\\t\\t\\t\\t\\t\\t<a href=\"/tutorials\" class=\"dropdown-item\">Video Tutorials</a>\\n\\t\\t\\t\\t\\t\\t\\t</li>\\n\\t\\t\\t\\t\\t\\t\\t<li>\\n\\t\\t\\t\\t\\t\\t\\t\\t<a href=\"/how-to-videos\" class=\"dropdown-item\">How to</a>\\n\\t\\t\\t\\t\\t\\t\\t</li>\\n\\t\\t\\t\\t\\t\\t\\t<li>\\n\\t\\t\\t\\t\\t\\t\\t\\t<a href=\"/test-sites\" class=\"dropdown-item\">Test Sites</a>\\n\\t\\t\\t\\t\\t\\t\\t</li>\\n\\t\\t\\t\\t\\t\\t\\t<li>\\n\\t\\t\\t\\t\\t\\t\\t\\t<a href=\"https://forum.webscraper.io/\" target=\"_blank\" rel=\"noopener\" class=\"dropdown-item\">Forum</a>\\n\\t\\t\\t\\t\\t\\t\\t</li>\\n\\t\\t\\t\\t\\t\\t</ul>\\n\\t\\t\\t\\t\\t</li>\\n\\t\\t\\t\\t\\t<li class=\"nav-item\">\\n\\t\\t\\t\\t\\t\\t<a href=\"https://chromewebstore.google.com/detail/web-scraper-free-web-scra/jnhgnonknehpejjnehehllkliplmbmhn?hl=en\" target=\"_blank\" class=\"nav-link btn-menu1 install-extension\">Install</a>\\n\\t\\t\\t\\t\\t</li>\\n\\t\\t\\t\\t\\t<li class=\"nav-item\">\\n\\t\\t\\t\\t\\t\\t<a href=\"https://cloud.webscraper.io/\" class=\"nav-link btn-menu2\">Cloud Login</a>\\n\\t\\t\\t\\t\\t</li>\\n\\t\\t\\t\\t</ul>\\n\\t\\t\\t</nav>\\n\\t\\t</div>\\n\\t</div>\\n</header>\\n\\n<div class=\"wrapper\">\\n\\t\\t<div class=\"formenu-here container-fluid\">\\n\\n\\t</div>\\n\\t<div class=\"container-fluid blog-hero\">\\n\\t\\t<div class=\"container\">\\n\\t\\t\\t<div class=\"row\">\\n\\t\\t\\t\\t<div class=\"col-lg-12\">\\n\\t\\t\\t\\t\\t<h1>Test Sites</h1>\\n\\t\\t\\t\\t</div>\\n\\t\\t\\t</div>\\n\\t\\t</div>\\n\\t</div>\\n\\n\\t<div class=\"container test-site\">\\n\\t\\t<div class=\"row\">\\n\\t\\t\\t<div class=\"col-lg-3 sidebar\">\\n\\t\\t\\t\\t\\t<div class=\"navbar-light sidebar\" role=\"navigation\">\\n\\t<div class=\"sidebar-nav navbar-collapse\">\\n\\t\\t<ul class=\"nav flex-column\" id=\"side-menu\">\\n\\n\\t\\t\\t<li class=\"nav-item  active \">\\n\\t\\t\\t\\t<a href=\"/test-sites/e-commerce/allinone\" class=\"nav-link\">Home</a>\\n\\t\\t\\t</li>\\n\\n\\t\\t\\t\\t\\t\\t<li class=\"nav-item \">\\n\\t\\t\\t\\t<a href=\"/test-sites/e-commerce/allinone/computers\" class=\"category-link nav-link \" aria-label=\"Navigation category\">\\n\\t\\t\\t\\t\\tComputers\\n\\t\\t\\t\\t\\t<i class=\"ws-icon  ws-icon-right \" aria-hidden=\"true\"></i>\\n\\t\\t\\t\\t</a>\\n\\n\\t\\t\\t\\t\\t\\t\\t\\t</li>\\n\\t\\t\\t\\t\\t\\t<li class=\"nav-item \">\\n\\t\\t\\t\\t<a href=\"/test-sites/e-commerce/allinone/phones\" class=\"category-link nav-link \" aria-label=\"Navigation category\">\\n\\t\\t\\t\\t\\tPhones\\n\\t\\t\\t\\t\\t<i class=\"ws-icon  ws-icon-right \" aria-hidden=\"true\"></i>\\n\\t\\t\\t\\t</a>\\n\\n\\t\\t\\t\\t\\t\\t\\t\\t</li>\\n\\t\\t\\t\\t\\t</ul>\\n\\t</div>\\n</div>\\n\\n\\t\\t\\t</div>\\n\\t\\t\\t<div class=\"col-lg-9\">\\n\\t\\t\\t\\t\\n\\t<div class=\"jumbotron\">\\n\\t\\t<h2>E-commerce training site</h2>\\n\\t\\t<p class=\"lead\">\\n\\t\\t\\tWelcome to WebScraper e-commerce site. You can use this site for training\\n\\t\\t\\tto learn how to use the Web Scraper. Items listed here are not for sale.\\n\\t\\t</p>\\n\\t</div>\\n\\n\\t<h3>Top items being scraped right now</h3>\\n\\n\\t<div class=\"row\">\\n\\t\\t\\t<div class=\"col-md-4 col-xl-4 col-lg-4\">\\n\\t<div class=\"card thumbnail\">\\n\\t\\t<div class=\"product-wrapper card-body\">\\n\\t\\t\\t<img class=\"img-fluid card-img-top image img-responsive\" alt=\"item\" src=\"/images/test-sites/e-commerce/items/cart2.png\">\\n\\t\\t\\t<div class=\"caption\">\\n\\t\\t\\t\\t<h4 class=\"price float-end card-title pull-right\">$487.8</h4>\\n\\t\\t\\t\\t<h4>\\n\\t\\t\\t\\t\\t<a href=\"/test-sites/e-commerce/allinone/product/89\" class=\"title\" title=\"Lenovo V510 Black\">Lenovo V510 Bl...</a>\\n\\t\\t\\t\\t</h4>\\n\\t\\t\\t\\t<p class=\"description card-text\">Lenovo V510 Black, 15.6&quot; HD, Core i3-6006U, 4GB, 128GB SSD, Windows 10 Home</p>\\n\\n\\t\\t\\t</div>\\n\\t\\t\\t<div class=\"ratings\">\\n\\t\\t\\t\\t<p class=\"review-count float-end\">9 reviews</p>\\n\\t\\t\\t\\t<p data-rating=\"2\">\\n\\t\\t\\t\\t\\t\\t\\t\\t\\t\\t<span class=\"ws-icon ws-icon-star\"></span>\\n\\t\\t\\t\\t\\t\\t\\t\\t\\t\\t<span class=\"ws-icon ws-icon-star\"></span>\\n\\t\\t\\t\\t\\t\\t\\t\\t\\t</p>\\n\\t\\t\\t</div>\\n\\t\\t</div>\\n\\t</div>\\n</div>\\n\\t\\t\\t<div class=\"col-md-4 col-xl-4 col-lg-4\">\\n\\t<div class=\"card thumbnail\">\\n\\t\\t<div class=\"product-wrapper card-body\">\\n\\t\\t\\t<img class=\"img-fluid card-img-top image img-responsive\" alt=\"item\" src=\"/images/test-sites/e-commerce/items/cart2.png\">\\n\\t\\t\\t<div class=\"caption\">\\n\\t\\t\\t\\t<h4 class=\"price float-end card-title pull-right\">$1144.4</h4>\\n\\t\\t\\t\\t<h4>\\n\\t\\t\\t\\t\\t<a href=\"/test-sites/e-commerce/allinone/product/112\" class=\"title\" title=\"Dell Latitude 5580\">Dell Latitude...</a>\\n\\t\\t\\t\\t</h4>\\n\\t\\t\\t\\t<p class=\"description card-text\">Dell Latitude 5580, 15.6&quot; FHD, Core i5-7300U, 8GB, 256GB SSD, Windows 10 Pro</p>\\n\\n\\t\\t\\t</div>\\n\\t\\t\\t<div class=\"ratings\">\\n\\t\\t\\t\\t<p class=\"review-count float-end\">10 reviews</p>\\n\\t\\t\\t\\t<p data-rating=\"3\">\\n\\t\\t\\t\\t\\t\\t\\t\\t\\t\\t<span class=\"ws-icon ws-icon-star\"></span>\\n\\t\\t\\t\\t\\t\\t\\t\\t\\t\\t<span class=\"ws-icon ws-icon-star\"></span>\\n\\t\\t\\t\\t\\t\\t\\t\\t\\t\\t<span class=\"ws-icon ws-icon-star\"></span>\\n\\t\\t\\t\\t\\t\\t\\t\\t\\t</p>\\n\\t\\t\\t</div>\\n\\t\\t</div>\\n\\t</div>\\n</div>\\n\\t\\t\\t<div class=\"col-md-4 col-xl-4 col-lg-4\">\\n\\t<div class=\"card thumbnail\">\\n\\t\\t<div class=\"product-wrapper card-body\">\\n\\t\\t\\t<img class=\"img-fluid card-img-top image img-responsive\" alt=\"item\" src=\"/images/test-sites/e-commerce/items/cart2.png\">\\n\\t\\t\\t<div class=\"caption\">\\n\\t\\t\\t\\t<h4 class=\"price float-end card-title pull-right\">$1124.2</h4>\\n\\t\\t\\t\\t<h4>\\n\\t\\t\\t\\t\\t<a href=\"/test-sites/e-commerce/allinone/product/105\" class=\"title\" title=\"Dell Inspiron 17 2in1 (7779) Silver\">Dell Inspiron...</a>\\n\\t\\t\\t\\t</h4>\\n\\t\\t\\t\\t<p class=\"description card-text\">Dell Inspiron 17 2in1 (7779) Silver, 17.3&quot; FHD Touch, Core i5-7200U, 12GB, 1TB, GeForce GT940MX 2GB, Windows 10 Home</p>\\n\\n\\t\\t\\t</div>\\n\\t\\t\\t<div class=\"ratings\">\\n\\t\\t\\t\\t<p class=\"review-count float-end\">10 reviews</p>\\n\\t\\t\\t\\t<p data-rating=\"3\">\\n\\t\\t\\t\\t\\t\\t\\t\\t\\t\\t<span class=\"ws-icon ws-icon-star\"></span>\\n\\t\\t\\t\\t\\t\\t\\t\\t\\t\\t<span class=\"ws-icon ws-icon-star\"></span>\\n\\t\\t\\t\\t\\t\\t\\t\\t\\t\\t<span class=\"ws-icon ws-icon-star\"></span>\\n\\t\\t\\t\\t\\t\\t\\t\\t\\t</p>\\n\\t\\t\\t</div>\\n\\t\\t</div>\\n\\t</div>\\n</div>\\n\\t</div>\\n\\n<div id=\"static-pagination\">\\n\\t</div>\\n\\t\\t\\t</div>\\n\\t\\t</div>\\n\\t</div>\\n\\t<div class=\"clearfix\"></div>\\n\\t<div class=\"push\"></div>\\n</div>\\n\\n<div class=\"container-fluid footer\" id=\"layout-footer\">\\n\\t<div class=\"container\">\\n\\t\\t<div class=\"row\">\\n\\t\\t\\t<div class=\"col-lg-3\">\\n\\t\\t\\t\\t<ul>\\n\\t\\t\\t\\t\\t<li><p>Products</p></li>\\n\\t\\t\\t\\t\\t<li>\\n\\t\\t\\t\\t\\t\\t<a href=\"/\">Web Scraper browser extension</a>\\n\\t\\t\\t\\t\\t</li>\\n\\t\\t\\t\\t\\t<li>\\n\\t\\t\\t\\t\\t\\t<a href=\"/cloud-scraper\">Web Scraper Cloud</a>\\n\\t\\t\\t\\t\\t</li>\\n\\t\\t\\t\\t</ul>\\n\\t\\t\\t</div>\\n\\t\\t\\t<div class=\"col-lg-3\">\\n\\t\\t\\t\\t<ul>\\n\\t\\t\\t\\t\\t<li><p>Company</p></li>\\n\\t\\t\\t\\t\\t<li>\\n\\t\\t\\t\\t\\t\\t<a href=\"/about-us\">About us</a>\\n\\t\\t\\t\\t\\t</li>\\n\\t\\t\\t\\t\\t<li>\\n\\t\\t\\t\\t\\t\\t<a href=\"/contact\">Contact</a>\\n\\t\\t\\t\\t\\t</li>\\n\\t\\t\\t\\t\\t<li>\\n\\t\\t\\t\\t\\t\\t<a href=\"/privacy-policy\">Website Privacy Policy</a>\\n\\t\\t\\t\\t\\t</li>\\n\\t\\t\\t\\t\\t<li>\\n\\t\\t\\t\\t\\t\\t<a href=\"/extension-privacy-policy\">Browser Extension Privacy Policy</a>\\n\\t\\t\\t\\t\\t</li>\\n\\t\\t\\t\\t\\t<li>\\n\\t\\t\\t\\t\\t\\t<a href=\"https://webscraper.io/downloads/Web_Scraper_Media_Kit.zip\">Media kit</a>\\n\\t\\t\\t\\t\\t</li>\\n\\t\\t\\t\\t\\t<li><a href=\"/jobs\">Jobs</a></li>\\n\\t\\t\\t\\t</ul>\\n\\t\\t\\t</div>\\n\\t\\t\\t<div class=\"col-lg-3\">\\n\\t\\t\\t\\t<ul>\\n\\t\\t\\t\\t\\t<li><p>Resources</p></li>\\n\\t\\t\\t\\t\\t<li><a href=\"/blog\">Blog</a></li>\\n\\t\\t\\t\\t\\t<li>\\n\\t\\t\\t\\t\\t\\t<a href=\"/documentation\">Documentation</a>\\n\\t\\t\\t\\t\\t</li>\\n\\t\\t\\t\\t\\t<li>\\n\\t\\t\\t\\t\\t\\t<a href=\"/tutorials\">Video Tutorials</a>\\n\\t\\t\\t\\t\\t</li>\\n\\t\\t\\t\\t\\t<li>\\n\\t\\t\\t\\t\\t\\t<a href=\"/screenshots\">Screenshots</a>\\n\\t\\t\\t\\t\\t</li>\\n\\t\\t\\t\\t\\t<li>\\n\\t\\t\\t\\t\\t\\t<a href=\"/test-sites\">Test Sites</a>\\n\\t\\t\\t\\t\\t</li>\\n\\t\\t\\t\\t\\t<li>\\n\\t\\t\\t\\t\\t\\t<a target=\"_blank\" href=\"https://forum.webscraper.io/\" rel=\"noopener\">Forum</a>\\n\\t\\t\\t\\t\\t</li>\\n\\t\\t\\t\\t\\t<li>\\n\\t\\t\\t\\t\\t\\t<a target=\"_blank\" href=\"https://status.webscraper.io/\" rel=\"noopener\">Status</a>\\n\\t\\t\\t\\t\\t</li>\\n\\t\\t\\t\\t</ul>\\n\\t\\t\\t</div>\\n\\t\\t\\t<div class=\"col-lg-3\">\\n\\t\\t\\t\\t<ul>\\n\\t\\t\\t\\t\\t<li><p>CONTACT US</p></li>\\n\\t\\t\\t\\t\\t<li>\\n\\t\\t\\t\\t\\t\\t<a href=\"mailto:info@webscraper.io\">info@webscraper.io</a>\\n\\t\\t\\t\\t\\t</li>\\n\\t\\t\\t\\t\\t<li>Ubelu 5-71,<br> Adazi, Latvia, LV-2164</li>\\n\\t\\t\\t\\t</ul>\\n\\t\\t\\t\\t<ul class=\"smedia\">\\n\\t\\t\\t\\t\\t<li>\\n\\t\\t\\t\\t\\t\\t<a href=\"https://www.facebook.com/webscraperio/\" target=\"_blank\" rel=\"noopener\" aria-label=\"Web Scraper on Facebook\">\\n\\t\\t\\t\\t\\t\\t\\t<i class=\"ws-icon ws-icon-facebook-f\"></i>\\n\\t\\t\\t\\t\\t\\t</a>\\n\\t\\t\\t\\t\\t</li>\\n\\t\\t\\t\\t\\t<li>\\n\\t\\t\\t\\t\\t\\t<a href=\"https://twitter.com/webscraperio\" target=\"_blank\" rel=\"noopener\" aria-label=\"Web Scraper on X\">\\n\\t\\t\\t\\t\\t\\t\\t<i class=\"ws-icon ws-icon-twitter\"></i>\\n\\t\\t\\t\\t\\t\\t</a>\\n\\t\\t\\t\\t\\t</li>\\n\\t\\t\\t\\t\\t<li>\\n\\t\\t\\t\\t\\t\\t<a href=\"https://lv.linkedin.com/company/web-scraper\" target=\"_blank\" rel=\"noopener\" aria-label=\"Web Scraper on LinkedIn\">\\n\\t\\t\\t\\t\\t\\t\\t<i class=\"ws-icon ws-icon-linkedin\"></i>\\n\\t\\t\\t\\t\\t\\t</a>\\n\\t\\t\\t\\t\\t</li>\\n\\t\\t\\t\\t\\t<li>\\n\\t\\t\\t\\t\\t\\t<a href=\"https://youtube.com/@WebScraper/videos\" target=\"_blank\" rel=\"noopener\" aria-label=\"Web Scraper on Youtube\">\\n\\t\\t\\t\\t\\t\\t\\t<i class=\"ws-icon ws-icon-youtube\"></i>\\n\\t\\t\\t\\t\\t\\t</a>\\n\\t\\t\\t\\t\\t</li>\\n\\t\\t\\t\\t\\t<li>\\n\\t\\t\\t\\t\\t\\t<a class=\"install-extension browser-icon-dark\" href=\"https://chromewebstore.google.com/detail/web-scraper-free-web-scra/jnhgnonknehpejjnehehllkliplmbmhn?hl=en\" target=\"_blank\" rel=\"noopener\" aria-label=\"Download the Web Scraper extension\">\\n\\t\\t\\t\\t\\t\\t\\t<i class=\"ws-icon ws-icon-chrome-dark\"></i>\\n\\t\\t\\t\\t\\t\\t</a>\\n\\t\\t\\t\\t\\t</li>\\n\\t\\t\\t\\t</ul>\\n\\t\\t\\t</div>\\n\\t\\t</div>\\n\\t\\t<div class=\"row\">\\n\\t\\t\\t<div class=\"col-lg-12\">\\n\\t\\t\\t\\t<p class=\"copyright\">Copyright &copy 2024\\n\\t\\t\\t\\t\\t<b>Web Scraper</b> | All rights reserved</p>\\n\\t\\t\\t</div>\\n\\t\\t</div>\\n\\t</div>\\n</div>\\n\\n\\n</body>\\n</html>\\n'"
      ]
     },
     "execution_count": 44,
     "metadata": {},
     "output_type": "execute_result"
    }
   ],
   "source": [
    "requests.get(url).text"
   ]
  },
  {
   "cell_type": "markdown",
   "metadata": {
    "id": "5VaEefQKhIIu"
   },
   "source": [
    "El código HTML generalmente se divide en secciones, con una página típica teniendo una sección de encabezado y una sección de cuerpo. La sección del cuerpo se divide aún más en elementos, con cada elemento teniendo atributos representados por una etiqueta específica. En la captura de pantalla anterior, podemos ver los varios elementos, clases y etiquetas del código HTML. Necesitaremos navegar a través de este código que parece complejo y extraer la información relevante (en nuestro caso, el título del producto, el precio y la calificación). Esta tarea, que parece compleja, se puede realizar de manera bastante conveniente utilizando cualquiera de las bibliotecas de web scraping disponibles. BeautifulSoup es uno de los scrapers más populares. Obligatorio para la clase revisar la documentación de BeautifulSoup (https://www.crummy.com/software/BeautifulSoup/bs4/doc/).\n",
    "\n",
    "Usamos el módulo BeautifulSoup y le pasamos el código HTML (request.text) y un parámetro llamado HTML Parser, que crea un objeto de análisis HTML de BeautifulSoup. Ahora podemos aplicar muchas de las funciones versátiles de BeautifulSoup a este objeto y extraer la información que buscamos. Pero antes de comenzar a hacer eso, tendremos que familiarizarnos con la página web que estamos tratando de hacer scraping e identificar en qué parte de la página web se encuentran los elementos que nos interesan. En el código HTML del sitio web de comercio electrónico, podemos ver que los detalles de cada producto están codificados dentro de una etiqueta &lt;div&gt; (div se refiere a división en HTML) con las clases col-sm-4 col-lg-4 col-md-4. Si expandes la etiqueta &lt;div&gt; haciendo clic en la flecha, verás que dentro de la etiqueta &lt;div&gt; hay otras etiquetas y elementos que almacenan varias piezas de información.\n",
    "\n"
   ]
  },
  {
   "cell_type": "code",
   "execution_count": 45,
   "metadata": {
    "id": "QxZTU_aGqoK_"
   },
   "outputs": [],
   "source": [
    "titles = []\n",
    "prices = []\n",
    "ratings = []\n",
    "description = []\n",
    "url = 'https://webscraper.io/test-sites/e-commerce/allinone'\n",
    "request = requests.get(url)\n",
    "soup = BeautifulSoup(request.text, \"html.parser\")\n",
    "for product in soup.find_all('div', {'class': 'col-md-4 col-xl-4 col-lg-4'}):\n",
    " for pr in product.find_all('div', {'class': 'caption'}):\n",
    "\n",
    "  for p in pr.find_all('h4', {'class': 'price float-end card-title pull-right'}):\n",
    "    prices.append(p.text)\n",
    "  for title in pr.find_all('a' , {'title'}):\n",
    "    titles.append(title.get('title'))\n",
    "  for des in pr.find_all('p', {'class': 'description card-text'}):\n",
    "   description.append(des.text)\n",
    "  for rt in product.find_all('div', {'class': 'ratings'}):\n",
    "    ratings.append(len(rt.find_all('span',{'class': 'ws-icon ws-icon-star'})))\n",
    "  \n",
    "\n"
   ]
  },
  {
   "cell_type": "code",
   "execution_count": 46,
   "metadata": {},
   "outputs": [
    {
     "data": {
      "text/plain": [
       "[2, 3, 3]"
      ]
     },
     "execution_count": 46,
     "metadata": {},
     "output_type": "execute_result"
    }
   ],
   "source": [
    "ratings"
   ]
  },
  {
   "cell_type": "code",
   "execution_count": 47,
   "metadata": {
    "id": "u_i7cgualUd9"
   },
   "outputs": [],
   "source": [
    "import pandas as pd\n",
    "product_df = pd.DataFrame(zip(titles,prices,ratings,description), columns = ['Titles','Prices', 'Ratings', 'Description'])\n",
    "#product_df.to_csv(\"ecommerce.csv\",index=False)"
   ]
  },
  {
   "cell_type": "code",
   "execution_count": 48,
   "metadata": {
    "colab": {
     "base_uri": "https://localhost:8080/",
     "height": 143
    },
    "id": "80EXcsAmqoGW",
    "outputId": "7361fc2b-ae44-47f9-e4f8-646d506d739d"
   },
   "outputs": [
    {
     "data": {
      "text/html": [
       "<div>\n",
       "<style scoped>\n",
       "    .dataframe tbody tr th:only-of-type {\n",
       "        vertical-align: middle;\n",
       "    }\n",
       "\n",
       "    .dataframe tbody tr th {\n",
       "        vertical-align: top;\n",
       "    }\n",
       "\n",
       "    .dataframe thead th {\n",
       "        text-align: right;\n",
       "    }\n",
       "</style>\n",
       "<table border=\"1\" class=\"dataframe\">\n",
       "  <thead>\n",
       "    <tr style=\"text-align: right;\">\n",
       "      <th></th>\n",
       "      <th>Titles</th>\n",
       "      <th>Prices</th>\n",
       "      <th>Ratings</th>\n",
       "      <th>Description</th>\n",
       "    </tr>\n",
       "  </thead>\n",
       "  <tbody>\n",
       "    <tr>\n",
       "      <th>0</th>\n",
       "      <td>Lenovo V510 Black</td>\n",
       "      <td>$487.8</td>\n",
       "      <td>2</td>\n",
       "      <td>Lenovo V510 Black, 15.6\" HD, Core i3-6006U, 4G...</td>\n",
       "    </tr>\n",
       "    <tr>\n",
       "      <th>1</th>\n",
       "      <td>Dell Latitude 5580</td>\n",
       "      <td>$1144.4</td>\n",
       "      <td>3</td>\n",
       "      <td>Dell Latitude 5580, 15.6\" FHD, Core i5-7300U, ...</td>\n",
       "    </tr>\n",
       "    <tr>\n",
       "      <th>2</th>\n",
       "      <td>Dell Inspiron 17 2in1 (7779) Silver</td>\n",
       "      <td>$1124.2</td>\n",
       "      <td>3</td>\n",
       "      <td>Dell Inspiron 17 2in1 (7779) Silver, 17.3\" FHD...</td>\n",
       "    </tr>\n",
       "  </tbody>\n",
       "</table>\n",
       "</div>"
      ],
      "text/plain": [
       "                                Titles   Prices  Ratings  \\\n",
       "0                    Lenovo V510 Black   $487.8        2   \n",
       "1                   Dell Latitude 5580  $1144.4        3   \n",
       "2  Dell Inspiron 17 2in1 (7779) Silver  $1124.2        3   \n",
       "\n",
       "                                         Description  \n",
       "0  Lenovo V510 Black, 15.6\" HD, Core i3-6006U, 4G...  \n",
       "1  Dell Latitude 5580, 15.6\" FHD, Core i5-7300U, ...  \n",
       "2  Dell Inspiron 17 2in1 (7779) Silver, 17.3\" FHD...  "
      ]
     },
     "execution_count": 48,
     "metadata": {},
     "output_type": "execute_result"
    }
   ],
   "source": [
    "product_df"
   ]
  },
  {
   "cell_type": "markdown",
   "metadata": {
    "id": "4KkwlsL8n07c"
   },
   "source": [
    "#Taller 1:"
   ]
  },
  {
   "cell_type": "code",
   "execution_count": 49,
   "metadata": {
    "id": "jF6VspDnqoDu"
   },
   "outputs": [],
   "source": [
    "import requests\n",
    "from bs4 import BeautifulSoup\n",
    "\n",
    "# URL de la página web que quieres analizar\n",
    "url = \"https://www.mercadolibre.com.co/ofertas\"\n",
    "\n",
    "# Realizar la solicitud HTTP para obtener el contenido de la página\n",
    "response = requests.get(url)\n",
    "\n",
    "# Comprobar que la solicitud fue exitosa (código 200)\n",
    "if response.status_code == 200:\n",
    "    # Parsear el contenido HTML con BeautifulSoup\n",
    "    soup = BeautifulSoup(response.text, \"html.parser\")\n",
    "\n",
    "    # Ejemplo de extracción: obtener todos los enlaces (etiquetas <a>)\n",
    "    enlaces = soup.find_all(\"a\")\n",
    "    \n",
    "else:\n",
    "    print(f\"Error al acceder a la página. Código de estado: {response.status_code}\")\n",
    "    "
   ]
  },
  {
   "cell_type": "code",
   "execution_count": 89,
   "metadata": {
    "id": "Hm9SGTm-aRpE"
   },
   "outputs": [],
   "source": [
    "links = []\n",
    "nombre = []\n",
    "precio = []\n",
    "vendedor = []\n",
    "caracteristicas = []\n",
    "calificacion_v = []\n",
    "comentarios = []\n",
    "estado = []\n",
    "c_ventas = []\n",
    "calificacion_p = []\n",
    "c_opiniones = []\n",
    "\n",
    "url = 'https://www.mercadolibre.com.co/ofertas'\n",
    "\n",
    "\n",
    "request = requests.get(url)\n",
    "soup = BeautifulSoup(request.text, \"html.parser\")\n",
    "\n",
    "\n",
    "for product in soup.find_all('div', {'class': 'items-with-smart-groups'}):\n",
    "  for link in product.find_all('a', {'class': 'poly-component__title'}):\n",
    "    while len(links)<= 30:\n",
    "      links.append(link.get('href'))\n",
    "      \n",
    "      break\n",
    "    \n",
    "    \n",
    "for entry in links:\n",
    "  request = requests.get(entry)\n",
    "  soup = BeautifulSoup(request.text, \"html.parser\")\n",
    "  for product in soup.find_all('h1', {'class':'ui-pdp-title'}):\n",
    "    if product:\n",
    "        nombre.append(product.text.strip())\n",
    "    else:\n",
    "        print(f\"[AVISO] No se encontró el nombre del producto en: {entry}\")\n",
    "    \n",
    "    \n",
    "  for valor in soup.find_all('div', {'class':'ui-pdp-price__second-line'}):\n",
    "    for price in valor.find_all('span', {'class':'andes-money-amount__fraction'}):\n",
    "      if price:\n",
    "            precios = int(price.text.strip().replace('.', ''))\n",
    "            precio.append(precios)\n",
    "      else:\n",
    "          print(f\"[AVISO] No se encontró el precio en: {entry}\")\n",
    "      \n",
    "      \n",
    "  for seller in soup.find_all('span', {'class':'ui-pdp-seller__label-text-with-icon'}):\n",
    "    vendedor.append(seller.text)\n",
    "  for seller_2 in soup.find_all('div', {'class':'ui-pdp-seller__header__title'}):\n",
    "    for seller_3 in seller_2.find_all('span', {'class':\"\"}):\n",
    "      if seller_3:\n",
    "                vendedor.append(seller_3.text.strip())\n",
    "      else:\n",
    "                print(f\"[AVISO] No se encontró el vendedor en: {entry}\")\n",
    "\n",
    "  \n",
    "  for description in soup.find_all('p', {'class':'ui-pdp-description__content'}):\n",
    "    if description:\n",
    "        caracteristicas.append(description.text.strip())\n",
    "    else:\n",
    "        print(f\"[AVISO] No se encontró la descripción en: {entry}\")\n",
    "\n",
    "  \n",
    "  for rating in soup.find_all('ul', {'class':'ui-seller-data-status__thermometer thermometer-large'}):\n",
    "    if rating:\n",
    "        calificacion_v.append(rating.get('value'))\n",
    "    else:\n",
    "        print(f\"[AVISO] No se encontró la calificación en: {entry}\")\n",
    "    \n",
    "    \n",
    "  for comments in soup.find_all('div', {'class':'ui-review-capability-comments'}):\n",
    "    particion = []\n",
    "    if comments:\n",
    "      for comments_2 in comments.find_all('div'):\n",
    "        for comments_3 in comments_2.find_all('p', {'class':'ui-review-capability-comments__comment__content ui-review-capability-comments__comment__content'}):\n",
    "          particion.append(comments_3.text.strip())\n",
    "      comentarios.append(' '.join(particion))\n",
    "    else:\n",
    "        print(f\"[AVISO] No se encontró la sección de comentarios en: {entry}\")\n",
    "  \n",
    "  \n",
    "  for sells in soup.find_all('span', {'class': 'ui-pdp-subtitle'}):\n",
    "    texto = sells.text.strip()\n",
    "    if \"|\" in texto:\n",
    "        partes = texto.split('|')\n",
    "        estado_v = partes[0].strip()\n",
    "        ventas = partes[1].strip()\n",
    "        ventas = ventas.replace('+', '').replace('vendidos', '').strip()\n",
    "        if \"mil\" in ventas:\n",
    "            ventas = ventas.replace(\"mil\", \"\").strip()\n",
    "            if ventas == \"\":\n",
    "                ventas = 1000\n",
    "            else:\n",
    "                ventas = int(ventas) * 1000\n",
    "        else:\n",
    "            try:\n",
    "                ventas = int(ventas)\n",
    "            except ValueError:\n",
    "                print(f\"[AVISO] No se pudo convertir ventas a número: {ventas}\")\n",
    "                ventas = 0\n",
    "        estado.append(estado_v)\n",
    "        c_ventas.append(ventas)\n",
    "    else:\n",
    "        print(f\"[AVISO] No se encontró el delimitador '|' en el texto: {texto}\")\n",
    "    \n",
    "    \n",
    "  for valoration in soup.find_all('span', {'class':'ui-pdp-review__rating'}):\n",
    "    if valoration:\n",
    "      calificacion_p.append(valoration.text)\n",
    "    else:\n",
    "        print(f\"[AVISO] No se encontró la sección de comentarios en: {entry}\")\n",
    "  \n",
    "    \n",
    "  for opinions in soup.find_all('span', {'class':'ui-pdp-review__amount'}):\n",
    "    if opinions:\n",
    "      c_opiniones.append(opinions.text.strip('()'))\n",
    "    else:\n",
    "        print(f\"[AVISO] No se encontró la sección de comentarios en: {entry}\")\n",
    "        \n",
    "          \n",
    "product_df = pd.DataFrame(zip(nombre,precio,c_ventas,calificacion_p,c_opiniones,vendedor,caracteristicas,calificacion_v,comentarios),\n",
    "                          columns = ['Nombre', 'Precio','Cantidad Ventas','Calificacion Producto','Cantidad Opiniones', 'Vendedor', 'Descripcion', 'Rating Vendedor', 'Comentarios'])\n",
    "product_df.to_csv(\"ecommerce.csv\",index=False)"
   ]
  },
  {
   "cell_type": "code",
   "execution_count": 90,
   "metadata": {
    "id": "afs_j_6BaRj1"
   },
   "outputs": [
    {
     "data": {
      "text/html": [
       "<div>\n",
       "<style scoped>\n",
       "    .dataframe tbody tr th:only-of-type {\n",
       "        vertical-align: middle;\n",
       "    }\n",
       "\n",
       "    .dataframe tbody tr th {\n",
       "        vertical-align: top;\n",
       "    }\n",
       "\n",
       "    .dataframe thead th {\n",
       "        text-align: right;\n",
       "    }\n",
       "</style>\n",
       "<table border=\"1\" class=\"dataframe\">\n",
       "  <thead>\n",
       "    <tr style=\"text-align: right;\">\n",
       "      <th></th>\n",
       "      <th>Nombre</th>\n",
       "      <th>Precio</th>\n",
       "      <th>Cantidad Ventas</th>\n",
       "      <th>Calificacion Producto</th>\n",
       "      <th>Cantidad Opiniones</th>\n",
       "      <th>Vendedor</th>\n",
       "      <th>Descripcion</th>\n",
       "      <th>Rating Vendedor</th>\n",
       "      <th>Comentarios</th>\n",
       "    </tr>\n",
       "  </thead>\n",
       "  <tbody>\n",
       "    <tr>\n",
       "      <th>0</th>\n",
       "      <td>Xiaomi POCO Poco X6 Pro 5G Dual SIM 512 GB neg...</td>\n",
       "      <td>1304900</td>\n",
       "      <td>1000</td>\n",
       "      <td>4.9</td>\n",
       "      <td>2095</td>\n",
       "      <td>CELUMOVIL STORE</td>\n",
       "      <td>Fotografía profesional en tu bolsilloDescubre ...</td>\n",
       "      <td>5</td>\n",
       "      <td>Es un dispositivo muy poderoso,muchas gracias.</td>\n",
       "    </tr>\n",
       "    <tr>\n",
       "      <th>1</th>\n",
       "      <td>Nintendo Switch Oled 64gb Standard Color Rojo ...</td>\n",
       "      <td>1189900</td>\n",
       "      <td>1000</td>\n",
       "      <td>4.9</td>\n",
       "      <td>1919</td>\n",
       "      <td>CELUMOVIL STORE</td>\n",
       "      <td>La consola Switch ofrece entretenimiento diari...</td>\n",
       "      <td>5</td>\n",
       "      <td></td>\n",
       "    </tr>\n",
       "    <tr>\n",
       "      <th>2</th>\n",
       "      <td>Tarjeta de video Nvidia MSI  Ventus 2X GeForce...</td>\n",
       "      <td>1469900</td>\n",
       "      <td>100</td>\n",
       "      <td>4.9</td>\n",
       "      <td>78</td>\n",
       "      <td>TAURET.COMPUTADORES</td>\n",
       "      <td>Este componente electrónico procesa la informa...</td>\n",
       "      <td>5</td>\n",
       "      <td>Genial rendimiento y eso que no he actualizado...</td>\n",
       "    </tr>\n",
       "    <tr>\n",
       "      <th>3</th>\n",
       "      <td>Jbl Partybox Encore Essential - Altavoz De Fie...</td>\n",
       "      <td>909900</td>\n",
       "      <td>100</td>\n",
       "      <td>4.8</td>\n",
       "      <td>85</td>\n",
       "      <td>Ixcomercio Colombia</td>\n",
       "      <td>JBL PartyBox Encore Essential - Altavoz portát...</td>\n",
       "      <td>5</td>\n",
       "      <td>Muy buena relación precio calidad y potencia, ...</td>\n",
       "    </tr>\n",
       "    <tr>\n",
       "      <th>4</th>\n",
       "      <td>Audífonos Sony Noise Cancelling Bluetooth Hi-r...</td>\n",
       "      <td>819900</td>\n",
       "      <td>5000</td>\n",
       "      <td>4.9</td>\n",
       "      <td>1328</td>\n",
       "      <td>SONY COLOMBIA</td>\n",
       "      <td>Sony, sin lugar a dudas es una de las marcas m...</td>\n",
       "      <td>5</td>\n",
       "      <td>Una retrochimba. Llevo al rededor de unas sema...</td>\n",
       "    </tr>\n",
       "    <tr>\n",
       "      <th>5</th>\n",
       "      <td>Impresora multifunción a color Epson EcoTank l...</td>\n",
       "      <td>1179900</td>\n",
       "      <td>500</td>\n",
       "      <td>4.7</td>\n",
       "      <td>180</td>\n",
       "      <td>Epson</td>\n",
       "      <td>Epson busca que sus clientes obtengan el máxim...</td>\n",
       "      <td>5</td>\n",
       "      <td>Hasta el momento todo marcha muy bien, gracias...</td>\n",
       "    </tr>\n",
       "    <tr>\n",
       "      <th>6</th>\n",
       "      <td>Xiaomi POCO Poco X6 Pro 5G Dual SIM 512 GB ama...</td>\n",
       "      <td>1304900</td>\n",
       "      <td>1000</td>\n",
       "      <td>4.9</td>\n",
       "      <td>2095</td>\n",
       "      <td>CELUMOVIL STORE</td>\n",
       "      <td>Fotografía profesional en tu bolsilloDescubre ...</td>\n",
       "      <td>5</td>\n",
       "      <td>Es un dispositivo muy poderoso,muchas gracias.</td>\n",
       "    </tr>\n",
       "    <tr>\n",
       "      <th>7</th>\n",
       "      <td>Nintendo Switch Oled 64gb Color Blanco/negro</td>\n",
       "      <td>1189900</td>\n",
       "      <td>1000</td>\n",
       "      <td>4.9</td>\n",
       "      <td>1919</td>\n",
       "      <td>CELUMOVIL STORE</td>\n",
       "      <td>Aviso legal• La duración de la batería depende...</td>\n",
       "      <td>5</td>\n",
       "      <td></td>\n",
       "    </tr>\n",
       "    <tr>\n",
       "      <th>8</th>\n",
       "      <td>Hidrolavadora Electrica Trent Hlt203 1400w Alt...</td>\n",
       "      <td>193956</td>\n",
       "      <td>5000</td>\n",
       "      <td>4.8</td>\n",
       "      <td>2729</td>\n",
       "      <td>FEMMTO COLOMBIA</td>\n",
       "      <td>Optimiza tus tareas de limpieza con esta hidro...</td>\n",
       "      <td>5</td>\n",
       "      <td>Excelente producto lo recomiendo y es economic...</td>\n",
       "    </tr>\n",
       "    <tr>\n",
       "      <th>9</th>\n",
       "      <td>Portátil Asus E1504ga-nj103 Core I3 Ram 8 Gb S...</td>\n",
       "      <td>1200000</td>\n",
       "      <td>1000</td>\n",
       "      <td>4.8</td>\n",
       "      <td>213</td>\n",
       "      <td>PCTEL BTA</td>\n",
       "      <td>Aviso legal• La duración de la batería depende...</td>\n",
       "      <td>5</td>\n",
       "      <td>No cuenta con lector de huellas digitales y en...</td>\n",
       "    </tr>\n",
       "    <tr>\n",
       "      <th>10</th>\n",
       "      <td>Bateria 10 Piezas Antiadherente Talent - Imusa...</td>\n",
       "      <td>199900</td>\n",
       "      <td>1000</td>\n",
       "      <td>4.8</td>\n",
       "      <td>646</td>\n",
       "      <td>GROUPESEBANDEAN</td>\n",
       "      <td>Productos Originales directamente desde ImusaS...</td>\n",
       "      <td>5</td>\n",
       "      <td>Excelente producto a simple vista, veremos la ...</td>\n",
       "    </tr>\n",
       "    <tr>\n",
       "      <th>11</th>\n",
       "      <td>E-reader Kindle 11va Generación 16gb Negro Con...</td>\n",
       "      <td>520000</td>\n",
       "      <td>1000</td>\n",
       "      <td>4.9</td>\n",
       "      <td>485</td>\n",
       "      <td>PCTELCOMPUTO</td>\n",
       "      <td>Con este E-reader Kindle, podrás almacenar los...</td>\n",
       "      <td>5</td>\n",
       "      <td>Producto súper recomendado!. Excelente product...</td>\n",
       "    </tr>\n",
       "    <tr>\n",
       "      <th>12</th>\n",
       "      <td>Silla Oficina Escritorio Ergonomica Giratoria ...</td>\n",
       "      <td>156400</td>\n",
       "      <td>500</td>\n",
       "      <td>4.5</td>\n",
       "      <td>45</td>\n",
       "      <td>SASCOMERCIALLACABRERA</td>\n",
       "      <td>¡Bienvenido a Comercial La Cabrera S.A.S, tu t...</td>\n",
       "      <td>5</td>\n",
       "      <td>Es muy aparente, cómoda y cumple con sus propó...</td>\n",
       "    </tr>\n",
       "    <tr>\n",
       "      <th>13</th>\n",
       "      <td>Consola Sony Playstation 5 Slim Version Lector...</td>\n",
       "      <td>2380900</td>\n",
       "      <td>500</td>\n",
       "      <td>4.8</td>\n",
       "      <td>242</td>\n",
       "      <td>MRBLISCOM</td>\n",
       "      <td>CONSOLA PLAY STATION 5 SLIM - CON UNIDAD DE DI...</td>\n",
       "      <td>5</td>\n",
       "      <td>La consola es original, sin embargo es importa...</td>\n",
       "    </tr>\n",
       "    <tr>\n",
       "      <th>14</th>\n",
       "      <td>Samsung Galaxy A55 5G Dual SIM 256 GB rosa 8 G...</td>\n",
       "      <td>1386900</td>\n",
       "      <td>500</td>\n",
       "      <td>4.9</td>\n",
       "      <td>772</td>\n",
       "      <td>ARTEZCOM</td>\n",
       "      <td>Capacidad y eficiencia  Con su potente procesa...</td>\n",
       "      <td>5</td>\n",
       "      <td>Llevo ya casi un mes con él y es un excelente ...</td>\n",
       "    </tr>\n",
       "    <tr>\n",
       "      <th>15</th>\n",
       "      <td>Portátil Asus Tuf Gaming F15 Intel Core I5 125...</td>\n",
       "      <td>3299000</td>\n",
       "      <td>25</td>\n",
       "      <td>5.0</td>\n",
       "      <td>6</td>\n",
       "      <td>TECNOPLAZA COLOMBIA</td>\n",
       "      <td>Aviso legal• La duración de la batería depende...</td>\n",
       "      <td>5</td>\n",
       "      <td>De lo mejor en portatiles que hay.</td>\n",
       "    </tr>\n",
       "    <tr>\n",
       "      <th>16</th>\n",
       "      <td>Televisor Hyundai 43 Smart Fhd Android By Google</td>\n",
       "      <td>899900</td>\n",
       "      <td>1000</td>\n",
       "      <td>4.6</td>\n",
       "      <td>234</td>\n",
       "      <td>HYUNDAI LATINOAMERICA</td>\n",
       "      <td>Disfruta de la experiencia visual y de entrete...</td>\n",
       "      <td>5</td>\n",
       "      <td>Es un excelente producto y mucho más económico...</td>\n",
       "    </tr>\n",
       "    <tr>\n",
       "      <th>17</th>\n",
       "      <td>Hot Wheels City Pista De Juguete Ultimate Gara...</td>\n",
       "      <td>577900</td>\n",
       "      <td>100</td>\n",
       "      <td>4.9</td>\n",
       "      <td>28</td>\n",
       "      <td>Hot Wheels</td>\n",
       "      <td>Hot Wheels City Pista De Juguete Ultimate Gara...</td>\n",
       "      <td>5</td>\n",
       "      <td>Excelente tal y como lo esperaba. Muy buen pro...</td>\n",
       "    </tr>\n",
       "    <tr>\n",
       "      <th>18</th>\n",
       "      <td>Bateria De Cocina Imusa Antiadherente Talent 9...</td>\n",
       "      <td>194900</td>\n",
       "      <td>1000</td>\n",
       "      <td>4.9</td>\n",
       "      <td>381</td>\n",
       "      <td>GROUPESEBANDEAN</td>\n",
       "      <td>Batería de Cocina Imusa Antiadherente Talent d...</td>\n",
       "      <td>5</td>\n",
       "      <td>Muy excelente.\\nMejor de lo que me esperaba.\\n...</td>\n",
       "    </tr>\n",
       "    <tr>\n",
       "      <th>19</th>\n",
       "      <td>Monitor Gamer Samsung 24 Odyssey G3 Pivot Free...</td>\n",
       "      <td>669900</td>\n",
       "      <td>500</td>\n",
       "      <td>4.9</td>\n",
       "      <td>186</td>\n",
       "      <td>TEKNOPOLISCOLOMBIA</td>\n",
       "      <td>Samsung se compromete en ofrecer productos de ...</td>\n",
       "      <td>5</td>\n",
       "      <td>Está una chimba.</td>\n",
       "    </tr>\n",
       "    <tr>\n",
       "      <th>20</th>\n",
       "      <td>Xiaomi Redmi 13C Dual SIM 256 GB midnight blac...</td>\n",
       "      <td>479940</td>\n",
       "      <td>1000</td>\n",
       "      <td>4.7</td>\n",
       "      <td>3552</td>\n",
       "      <td>OFFERBUYS</td>\n",
       "      <td>Fotografía profesional en tu bolsilloDescubre ...</td>\n",
       "      <td>5</td>\n",
       "      <td>Muy buen producto.</td>\n",
       "    </tr>\n",
       "    <tr>\n",
       "      <th>21</th>\n",
       "      <td>Disco Solido 500 Gb Crucial Bx500</td>\n",
       "      <td>129900</td>\n",
       "      <td>10000</td>\n",
       "      <td>4.9</td>\n",
       "      <td>2896</td>\n",
       "      <td>LUOKKA TECHNOLOGY2</td>\n",
       "      <td>El Disco Sólido 500 GB Crucial BX500 es la ele...</td>\n",
       "      <td>5</td>\n",
       "      <td>Excelentes prestaciones, como pueden ver en la...</td>\n",
       "    </tr>\n",
       "    <tr>\n",
       "      <th>22</th>\n",
       "      <td>Portátil Lenovo Ryzen 5 5500u Ram 24gb Ssd 512...</td>\n",
       "      <td>1736000</td>\n",
       "      <td>100</td>\n",
       "      <td>4.8</td>\n",
       "      <td>61</td>\n",
       "      <td>DISTRIMAK</td>\n",
       "      <td>======-- DISTRIMAK.CO --======Portátil Lenovo ...</td>\n",
       "      <td>5</td>\n",
       "      <td>Respecto a la relación calidad/precio, conside...</td>\n",
       "    </tr>\n",
       "    <tr>\n",
       "      <th>23</th>\n",
       "      <td>Mesa Portafolio Plegable 180cm Resistente Exte...</td>\n",
       "      <td>170999</td>\n",
       "      <td>5000</td>\n",
       "      <td>4.8</td>\n",
       "      <td>862</td>\n",
       "      <td>EASYSHOP COLOMBIA</td>\n",
       "      <td>La Mesa Portafolio Plegable 180cm Resistente E...</td>\n",
       "      <td>5</td>\n",
       "      <td>La compré para usarla como escritorio ya que n...</td>\n",
       "    </tr>\n",
       "    <tr>\n",
       "      <th>24</th>\n",
       "      <td>Verde - Arbol De Navidad Pino Artificial 1.80m...</td>\n",
       "      <td>107500</td>\n",
       "      <td>1000</td>\n",
       "      <td>4.8</td>\n",
       "      <td>205</td>\n",
       "      <td>SKYBRANDS COLOMBIASAS</td>\n",
       "      <td>PRODUCTO:Nombre: Árbol de Navidad Pino Artific...</td>\n",
       "      <td>5</td>\n",
       "      <td>Tal como se veía en la imagen, muy buen produc...</td>\n",
       "    </tr>\n",
       "    <tr>\n",
       "      <th>25</th>\n",
       "      <td>Impresora Multifunción a color Epson EcoTank L...</td>\n",
       "      <td>954900</td>\n",
       "      <td>100</td>\n",
       "      <td>4.8</td>\n",
       "      <td>26</td>\n",
       "      <td>IXCOMERCIO COLOMBIA</td>\n",
       "      <td>Epson busca que sus clientes obtengan el máxim...</td>\n",
       "      <td>5</td>\n",
       "      <td>Bien producto. Empaque y tintas originales. Ha...</td>\n",
       "    </tr>\n",
       "    <tr>\n",
       "      <th>26</th>\n",
       "      <td>Samsung Galaxy A35 5g 256 GB Azul oscuro 8 GB RAM</td>\n",
       "      <td>939900</td>\n",
       "      <td>500</td>\n",
       "      <td>4.8</td>\n",
       "      <td>303</td>\n",
       "      <td>HDC_TIENDA</td>\n",
       "      <td>El Galaxy A35 5G es el teléfono celular ideal ...</td>\n",
       "      <td>5</td>\n",
       "      <td>Muy bueno producto.</td>\n",
       "    </tr>\n",
       "    <tr>\n",
       "      <th>27</th>\n",
       "      <td>Audífonos Sony Bluetooth Noise Cancelling | Wh...</td>\n",
       "      <td>1187900</td>\n",
       "      <td>1000</td>\n",
       "      <td>4.8</td>\n",
       "      <td>726</td>\n",
       "      <td>SONY COLOMBIA</td>\n",
       "      <td>Los audífonos WH-1000XM5 brindan una experienc...</td>\n",
       "      <td>5</td>\n",
       "      <td>Nunca tuve la oportunidad de usar unos audífon...</td>\n",
       "    </tr>\n",
       "    <tr>\n",
       "      <th>28</th>\n",
       "      <td>Portatil Msi Gf63 Core I5-12450h-16gb 1tb Ssd-...</td>\n",
       "      <td>2700000</td>\n",
       "      <td>5</td>\n",
       "      <td>4.2</td>\n",
       "      <td>5</td>\n",
       "      <td>Ultra Gamer</td>\n",
       "      <td>MSI THIN GF63 12UCX 898USCARACTERÍSTICAS:Proce...</td>\n",
       "      <td>5</td>\n",
       "      <td>Buena herramienta para trabajos rápidos de dis...</td>\n",
       "    </tr>\n",
       "    <tr>\n",
       "      <th>29</th>\n",
       "      <td>Disco Externo 2 Tb Toshiba Canvio Basics Usb 3.0</td>\n",
       "      <td>283900</td>\n",
       "      <td>1000</td>\n",
       "      <td>4.9</td>\n",
       "      <td>653</td>\n",
       "      <td>Toshiba</td>\n",
       "      <td>Maximiza tu capacidad de almacenamiento con el...</td>\n",
       "      <td>5</td>\n",
       "      <td>Salió perfecto el producto, lo uso como memori...</td>\n",
       "    </tr>\n",
       "    <tr>\n",
       "      <th>30</th>\n",
       "      <td>Silla Escritorio Ergonomica Sillon Oficina Gir...</td>\n",
       "      <td>489902</td>\n",
       "      <td>1000</td>\n",
       "      <td>4.7</td>\n",
       "      <td>492</td>\n",
       "      <td>FEMMTO COLOMBIA</td>\n",
       "      <td>La selección de una silla adecuada es muy impo...</td>\n",
       "      <td>5</td>\n",
       "      <td>Excelente producto… cumple con mis expectativa...</td>\n",
       "    </tr>\n",
       "  </tbody>\n",
       "</table>\n",
       "</div>"
      ],
      "text/plain": [
       "                                               Nombre   Precio  \\\n",
       "0   Xiaomi POCO Poco X6 Pro 5G Dual SIM 512 GB neg...  1304900   \n",
       "1   Nintendo Switch Oled 64gb Standard Color Rojo ...  1189900   \n",
       "2   Tarjeta de video Nvidia MSI  Ventus 2X GeForce...  1469900   \n",
       "3   Jbl Partybox Encore Essential - Altavoz De Fie...   909900   \n",
       "4   Audífonos Sony Noise Cancelling Bluetooth Hi-r...   819900   \n",
       "5   Impresora multifunción a color Epson EcoTank l...  1179900   \n",
       "6   Xiaomi POCO Poco X6 Pro 5G Dual SIM 512 GB ama...  1304900   \n",
       "7        Nintendo Switch Oled 64gb Color Blanco/negro  1189900   \n",
       "8   Hidrolavadora Electrica Trent Hlt203 1400w Alt...   193956   \n",
       "9   Portátil Asus E1504ga-nj103 Core I3 Ram 8 Gb S...  1200000   \n",
       "10  Bateria 10 Piezas Antiadherente Talent - Imusa...   199900   \n",
       "11  E-reader Kindle 11va Generación 16gb Negro Con...   520000   \n",
       "12  Silla Oficina Escritorio Ergonomica Giratoria ...   156400   \n",
       "13  Consola Sony Playstation 5 Slim Version Lector...  2380900   \n",
       "14  Samsung Galaxy A55 5G Dual SIM 256 GB rosa 8 G...  1386900   \n",
       "15  Portátil Asus Tuf Gaming F15 Intel Core I5 125...  3299000   \n",
       "16   Televisor Hyundai 43 Smart Fhd Android By Google   899900   \n",
       "17  Hot Wheels City Pista De Juguete Ultimate Gara...   577900   \n",
       "18  Bateria De Cocina Imusa Antiadherente Talent 9...   194900   \n",
       "19  Monitor Gamer Samsung 24 Odyssey G3 Pivot Free...   669900   \n",
       "20  Xiaomi Redmi 13C Dual SIM 256 GB midnight blac...   479940   \n",
       "21                  Disco Solido 500 Gb Crucial Bx500   129900   \n",
       "22  Portátil Lenovo Ryzen 5 5500u Ram 24gb Ssd 512...  1736000   \n",
       "23  Mesa Portafolio Plegable 180cm Resistente Exte...   170999   \n",
       "24  Verde - Arbol De Navidad Pino Artificial 1.80m...   107500   \n",
       "25  Impresora Multifunción a color Epson EcoTank L...   954900   \n",
       "26  Samsung Galaxy A35 5g 256 GB Azul oscuro 8 GB RAM   939900   \n",
       "27  Audífonos Sony Bluetooth Noise Cancelling | Wh...  1187900   \n",
       "28  Portatil Msi Gf63 Core I5-12450h-16gb 1tb Ssd-...  2700000   \n",
       "29   Disco Externo 2 Tb Toshiba Canvio Basics Usb 3.0   283900   \n",
       "30  Silla Escritorio Ergonomica Sillon Oficina Gir...   489902   \n",
       "\n",
       "    Cantidad Ventas Calificacion Producto Cantidad Opiniones  \\\n",
       "0              1000                   4.9               2095   \n",
       "1              1000                   4.9               1919   \n",
       "2               100                   4.9                 78   \n",
       "3               100                   4.8                 85   \n",
       "4              5000                   4.9               1328   \n",
       "5               500                   4.7                180   \n",
       "6              1000                   4.9               2095   \n",
       "7              1000                   4.9               1919   \n",
       "8              5000                   4.8               2729   \n",
       "9              1000                   4.8                213   \n",
       "10             1000                   4.8                646   \n",
       "11             1000                   4.9                485   \n",
       "12              500                   4.5                 45   \n",
       "13              500                   4.8                242   \n",
       "14              500                   4.9                772   \n",
       "15               25                   5.0                  6   \n",
       "16             1000                   4.6                234   \n",
       "17              100                   4.9                 28   \n",
       "18             1000                   4.9                381   \n",
       "19              500                   4.9                186   \n",
       "20             1000                   4.7               3552   \n",
       "21            10000                   4.9               2896   \n",
       "22              100                   4.8                 61   \n",
       "23             5000                   4.8                862   \n",
       "24             1000                   4.8                205   \n",
       "25              100                   4.8                 26   \n",
       "26              500                   4.8                303   \n",
       "27             1000                   4.8                726   \n",
       "28                5                   4.2                  5   \n",
       "29             1000                   4.9                653   \n",
       "30             1000                   4.7                492   \n",
       "\n",
       "                 Vendedor                                        Descripcion  \\\n",
       "0         CELUMOVIL STORE  Fotografía profesional en tu bolsilloDescubre ...   \n",
       "1         CELUMOVIL STORE  La consola Switch ofrece entretenimiento diari...   \n",
       "2     TAURET.COMPUTADORES  Este componente electrónico procesa la informa...   \n",
       "3     Ixcomercio Colombia  JBL PartyBox Encore Essential - Altavoz portát...   \n",
       "4           SONY COLOMBIA  Sony, sin lugar a dudas es una de las marcas m...   \n",
       "5                   Epson  Epson busca que sus clientes obtengan el máxim...   \n",
       "6         CELUMOVIL STORE  Fotografía profesional en tu bolsilloDescubre ...   \n",
       "7         CELUMOVIL STORE  Aviso legal• La duración de la batería depende...   \n",
       "8         FEMMTO COLOMBIA  Optimiza tus tareas de limpieza con esta hidro...   \n",
       "9               PCTEL BTA  Aviso legal• La duración de la batería depende...   \n",
       "10        GROUPESEBANDEAN  Productos Originales directamente desde ImusaS...   \n",
       "11           PCTELCOMPUTO  Con este E-reader Kindle, podrás almacenar los...   \n",
       "12  SASCOMERCIALLACABRERA  ¡Bienvenido a Comercial La Cabrera S.A.S, tu t...   \n",
       "13              MRBLISCOM  CONSOLA PLAY STATION 5 SLIM - CON UNIDAD DE DI...   \n",
       "14               ARTEZCOM  Capacidad y eficiencia  Con su potente procesa...   \n",
       "15    TECNOPLAZA COLOMBIA  Aviso legal• La duración de la batería depende...   \n",
       "16  HYUNDAI LATINOAMERICA  Disfruta de la experiencia visual y de entrete...   \n",
       "17             Hot Wheels  Hot Wheels City Pista De Juguete Ultimate Gara...   \n",
       "18        GROUPESEBANDEAN  Batería de Cocina Imusa Antiadherente Talent d...   \n",
       "19     TEKNOPOLISCOLOMBIA  Samsung se compromete en ofrecer productos de ...   \n",
       "20              OFFERBUYS  Fotografía profesional en tu bolsilloDescubre ...   \n",
       "21     LUOKKA TECHNOLOGY2  El Disco Sólido 500 GB Crucial BX500 es la ele...   \n",
       "22              DISTRIMAK  ======-- DISTRIMAK.CO --======Portátil Lenovo ...   \n",
       "23      EASYSHOP COLOMBIA  La Mesa Portafolio Plegable 180cm Resistente E...   \n",
       "24  SKYBRANDS COLOMBIASAS  PRODUCTO:Nombre: Árbol de Navidad Pino Artific...   \n",
       "25    IXCOMERCIO COLOMBIA  Epson busca que sus clientes obtengan el máxim...   \n",
       "26             HDC_TIENDA  El Galaxy A35 5G es el teléfono celular ideal ...   \n",
       "27          SONY COLOMBIA  Los audífonos WH-1000XM5 brindan una experienc...   \n",
       "28            Ultra Gamer  MSI THIN GF63 12UCX 898USCARACTERÍSTICAS:Proce...   \n",
       "29                Toshiba  Maximiza tu capacidad de almacenamiento con el...   \n",
       "30        FEMMTO COLOMBIA  La selección de una silla adecuada es muy impo...   \n",
       "\n",
       "   Rating Vendedor                                        Comentarios  \n",
       "0                5    Es un dispositivo muy poderoso,muchas gracias.   \n",
       "1                5                                                     \n",
       "2                5  Genial rendimiento y eso que no he actualizado...  \n",
       "3                5  Muy buena relación precio calidad y potencia, ...  \n",
       "4                5  Una retrochimba. Llevo al rededor de unas sema...  \n",
       "5                5  Hasta el momento todo marcha muy bien, gracias...  \n",
       "6                5    Es un dispositivo muy poderoso,muchas gracias.   \n",
       "7                5                                                     \n",
       "8                5  Excelente producto lo recomiendo y es economic...  \n",
       "9                5  No cuenta con lector de huellas digitales y en...  \n",
       "10               5  Excelente producto a simple vista, veremos la ...  \n",
       "11               5  Producto súper recomendado!. Excelente product...  \n",
       "12               5  Es muy aparente, cómoda y cumple con sus propó...  \n",
       "13               5  La consola es original, sin embargo es importa...  \n",
       "14               5  Llevo ya casi un mes con él y es un excelente ...  \n",
       "15               5                 De lo mejor en portatiles que hay.  \n",
       "16               5  Es un excelente producto y mucho más económico...  \n",
       "17               5  Excelente tal y como lo esperaba. Muy buen pro...  \n",
       "18               5  Muy excelente.\\nMejor de lo que me esperaba.\\n...  \n",
       "19               5                                   Está una chimba.  \n",
       "20               5                                 Muy buen producto.  \n",
       "21               5  Excelentes prestaciones, como pueden ver en la...  \n",
       "22               5  Respecto a la relación calidad/precio, conside...  \n",
       "23               5  La compré para usarla como escritorio ya que n...  \n",
       "24               5  Tal como se veía en la imagen, muy buen produc...  \n",
       "25               5  Bien producto. Empaque y tintas originales. Ha...  \n",
       "26               5                                Muy bueno producto.  \n",
       "27               5  Nunca tuve la oportunidad de usar unos audífon...  \n",
       "28               5  Buena herramienta para trabajos rápidos de dis...  \n",
       "29               5  Salió perfecto el producto, lo uso como memori...  \n",
       "30               5  Excelente producto… cumple con mis expectativa...  "
      ]
     },
     "execution_count": 90,
     "metadata": {},
     "output_type": "execute_result"
    }
   ],
   "source": [
    "product_df"
   ]
  },
  {
   "cell_type": "code",
   "execution_count": 98,
   "metadata": {},
   "outputs": [],
   "source": [
    "df_total = pd.read_csv('ecommerce.csv')"
   ]
  },
  {
   "cell_type": "code",
   "execution_count": 99,
   "metadata": {},
   "outputs": [
    {
     "data": {
      "text/plain": [
       "0       Es un dispositivo muy poderoso,muchas gracias. \n",
       "1                                                   NaN\n",
       "2     Genial rendimiento y eso que no he actualizado...\n",
       "3     Muy buena relación precio calidad y potencia, ...\n",
       "4     Una retrochimba. Llevo al rededor de unas sema...\n",
       "5     Hasta el momento todo marcha muy bien, gracias...\n",
       "6       Es un dispositivo muy poderoso,muchas gracias. \n",
       "7                                                   NaN\n",
       "8     Excelente producto lo recomiendo y es economic...\n",
       "9     No cuenta con lector de huellas digitales y en...\n",
       "10    Excelente producto a simple vista, veremos la ...\n",
       "11    Producto súper recomendado!. Excelente product...\n",
       "12    Es muy aparente, cómoda y cumple con sus propó...\n",
       "13    La consola es original, sin embargo es importa...\n",
       "14    Llevo ya casi un mes con él y es un excelente ...\n",
       "15                   De lo mejor en portatiles que hay.\n",
       "16    Es un excelente producto y mucho más económico...\n",
       "17    Excelente tal y como lo esperaba. Muy buen pro...\n",
       "18    Muy excelente.\\nMejor de lo que me esperaba.\\n...\n",
       "19                                     Está una chimba.\n",
       "20                                   Muy buen producto.\n",
       "21    Excelentes prestaciones, como pueden ver en la...\n",
       "22    Respecto a la relación calidad/precio, conside...\n",
       "23    La compré para usarla como escritorio ya que n...\n",
       "24    Tal como se veía en la imagen, muy buen produc...\n",
       "25    Bien producto. Empaque y tintas originales. Ha...\n",
       "26                                  Muy bueno producto.\n",
       "27    Nunca tuve la oportunidad de usar unos audífon...\n",
       "28    Buena herramienta para trabajos rápidos de dis...\n",
       "29    Salió perfecto el producto, lo uso como memori...\n",
       "30    Excelente producto… cumple con mis expectativa...\n",
       "Name: Comentarios, dtype: object"
      ]
     },
     "execution_count": 99,
     "metadata": {},
     "output_type": "execute_result"
    }
   ],
   "source": [
    "df_total['Comentarios']"
   ]
  },
  {
   "cell_type": "code",
   "execution_count": 100,
   "metadata": {},
   "outputs": [
    {
     "name": "stdout",
     "output_type": "stream",
     "text": [
      "<class 'pandas.core.frame.DataFrame'>\n",
      "RangeIndex: 31 entries, 0 to 30\n",
      "Data columns (total 9 columns):\n",
      " #   Column                 Non-Null Count  Dtype  \n",
      "---  ------                 --------------  -----  \n",
      " 0   Nombre                 31 non-null     object \n",
      " 1   Precio                 31 non-null     int64  \n",
      " 2   Cantidad Ventas        31 non-null     int64  \n",
      " 3   Calificacion Producto  31 non-null     float64\n",
      " 4   Cantidad Opiniones     31 non-null     int64  \n",
      " 5   Vendedor               31 non-null     object \n",
      " 6   Descripcion            31 non-null     object \n",
      " 7   Rating Vendedor        31 non-null     int64  \n",
      " 8   Comentarios            29 non-null     object \n",
      "dtypes: float64(1), int64(4), object(4)\n",
      "memory usage: 2.3+ KB\n"
     ]
    }
   ],
   "source": [
    "df_total.info()"
   ]
  },
  {
   "cell_type": "code",
   "execution_count": 115,
   "metadata": {},
   "outputs": [],
   "source": [
    "no_null = df_total[df_total[\"Comentarios\"].notna()]\n",
    "data = no_null.head(20).reset_index()\n",
    "df = data.drop(columns=['index'])"
   ]
  },
  {
   "cell_type": "code",
   "execution_count": 116,
   "metadata": {},
   "outputs": [
    {
     "data": {
      "text/html": [
       "<div>\n",
       "<style scoped>\n",
       "    .dataframe tbody tr th:only-of-type {\n",
       "        vertical-align: middle;\n",
       "    }\n",
       "\n",
       "    .dataframe tbody tr th {\n",
       "        vertical-align: top;\n",
       "    }\n",
       "\n",
       "    .dataframe thead th {\n",
       "        text-align: right;\n",
       "    }\n",
       "</style>\n",
       "<table border=\"1\" class=\"dataframe\">\n",
       "  <thead>\n",
       "    <tr style=\"text-align: right;\">\n",
       "      <th></th>\n",
       "      <th>Nombre</th>\n",
       "      <th>Precio</th>\n",
       "      <th>Cantidad Ventas</th>\n",
       "      <th>Calificacion Producto</th>\n",
       "      <th>Cantidad Opiniones</th>\n",
       "      <th>Vendedor</th>\n",
       "      <th>Descripcion</th>\n",
       "      <th>Rating Vendedor</th>\n",
       "      <th>Comentarios</th>\n",
       "    </tr>\n",
       "  </thead>\n",
       "  <tbody>\n",
       "    <tr>\n",
       "      <th>0</th>\n",
       "      <td>Xiaomi POCO Poco X6 Pro 5G Dual SIM 512 GB neg...</td>\n",
       "      <td>1304900</td>\n",
       "      <td>1000</td>\n",
       "      <td>4.9</td>\n",
       "      <td>2095</td>\n",
       "      <td>CELUMOVIL STORE</td>\n",
       "      <td>Fotografía profesional en tu bolsilloDescubre ...</td>\n",
       "      <td>5</td>\n",
       "      <td>Es un dispositivo muy poderoso,muchas gracias.</td>\n",
       "    </tr>\n",
       "    <tr>\n",
       "      <th>1</th>\n",
       "      <td>Tarjeta de video Nvidia MSI  Ventus 2X GeForce...</td>\n",
       "      <td>1469900</td>\n",
       "      <td>100</td>\n",
       "      <td>4.9</td>\n",
       "      <td>78</td>\n",
       "      <td>TAURET.COMPUTADORES</td>\n",
       "      <td>Este componente electrónico procesa la informa...</td>\n",
       "      <td>5</td>\n",
       "      <td>Genial rendimiento y eso que no he actualizado...</td>\n",
       "    </tr>\n",
       "    <tr>\n",
       "      <th>2</th>\n",
       "      <td>Jbl Partybox Encore Essential - Altavoz De Fie...</td>\n",
       "      <td>909900</td>\n",
       "      <td>100</td>\n",
       "      <td>4.8</td>\n",
       "      <td>85</td>\n",
       "      <td>Ixcomercio Colombia</td>\n",
       "      <td>JBL PartyBox Encore Essential - Altavoz portát...</td>\n",
       "      <td>5</td>\n",
       "      <td>Muy buena relación precio calidad y potencia, ...</td>\n",
       "    </tr>\n",
       "    <tr>\n",
       "      <th>3</th>\n",
       "      <td>Audífonos Sony Noise Cancelling Bluetooth Hi-r...</td>\n",
       "      <td>819900</td>\n",
       "      <td>5000</td>\n",
       "      <td>4.9</td>\n",
       "      <td>1328</td>\n",
       "      <td>SONY COLOMBIA</td>\n",
       "      <td>Sony, sin lugar a dudas es una de las marcas m...</td>\n",
       "      <td>5</td>\n",
       "      <td>Una retrochimba. Llevo al rededor de unas sema...</td>\n",
       "    </tr>\n",
       "    <tr>\n",
       "      <th>4</th>\n",
       "      <td>Impresora multifunción a color Epson EcoTank l...</td>\n",
       "      <td>1179900</td>\n",
       "      <td>500</td>\n",
       "      <td>4.7</td>\n",
       "      <td>180</td>\n",
       "      <td>Epson</td>\n",
       "      <td>Epson busca que sus clientes obtengan el máxim...</td>\n",
       "      <td>5</td>\n",
       "      <td>Hasta el momento todo marcha muy bien, gracias...</td>\n",
       "    </tr>\n",
       "    <tr>\n",
       "      <th>5</th>\n",
       "      <td>Xiaomi POCO Poco X6 Pro 5G Dual SIM 512 GB ama...</td>\n",
       "      <td>1304900</td>\n",
       "      <td>1000</td>\n",
       "      <td>4.9</td>\n",
       "      <td>2095</td>\n",
       "      <td>CELUMOVIL STORE</td>\n",
       "      <td>Fotografía profesional en tu bolsilloDescubre ...</td>\n",
       "      <td>5</td>\n",
       "      <td>Es un dispositivo muy poderoso,muchas gracias.</td>\n",
       "    </tr>\n",
       "    <tr>\n",
       "      <th>6</th>\n",
       "      <td>Hidrolavadora Electrica Trent Hlt203 1400w Alt...</td>\n",
       "      <td>193956</td>\n",
       "      <td>5000</td>\n",
       "      <td>4.8</td>\n",
       "      <td>2729</td>\n",
       "      <td>FEMMTO COLOMBIA</td>\n",
       "      <td>Optimiza tus tareas de limpieza con esta hidro...</td>\n",
       "      <td>5</td>\n",
       "      <td>Excelente producto lo recomiendo y es economic...</td>\n",
       "    </tr>\n",
       "    <tr>\n",
       "      <th>7</th>\n",
       "      <td>Portátil Asus E1504ga-nj103 Core I3 Ram 8 Gb S...</td>\n",
       "      <td>1200000</td>\n",
       "      <td>1000</td>\n",
       "      <td>4.8</td>\n",
       "      <td>213</td>\n",
       "      <td>PCTEL BTA</td>\n",
       "      <td>Aviso legal• La duración de la batería depende...</td>\n",
       "      <td>5</td>\n",
       "      <td>No cuenta con lector de huellas digitales y en...</td>\n",
       "    </tr>\n",
       "    <tr>\n",
       "      <th>8</th>\n",
       "      <td>Bateria 10 Piezas Antiadherente Talent - Imusa...</td>\n",
       "      <td>199900</td>\n",
       "      <td>1000</td>\n",
       "      <td>4.8</td>\n",
       "      <td>646</td>\n",
       "      <td>GROUPESEBANDEAN</td>\n",
       "      <td>Productos Originales directamente desde ImusaS...</td>\n",
       "      <td>5</td>\n",
       "      <td>Excelente producto a simple vista, veremos la ...</td>\n",
       "    </tr>\n",
       "    <tr>\n",
       "      <th>9</th>\n",
       "      <td>E-reader Kindle 11va Generación 16gb Negro Con...</td>\n",
       "      <td>520000</td>\n",
       "      <td>1000</td>\n",
       "      <td>4.9</td>\n",
       "      <td>485</td>\n",
       "      <td>PCTELCOMPUTO</td>\n",
       "      <td>Con este E-reader Kindle, podrás almacenar los...</td>\n",
       "      <td>5</td>\n",
       "      <td>Producto súper recomendado!. Excelente product...</td>\n",
       "    </tr>\n",
       "    <tr>\n",
       "      <th>10</th>\n",
       "      <td>Silla Oficina Escritorio Ergonomica Giratoria ...</td>\n",
       "      <td>156400</td>\n",
       "      <td>500</td>\n",
       "      <td>4.5</td>\n",
       "      <td>45</td>\n",
       "      <td>SASCOMERCIALLACABRERA</td>\n",
       "      <td>¡Bienvenido a Comercial La Cabrera S.A.S, tu t...</td>\n",
       "      <td>5</td>\n",
       "      <td>Es muy aparente, cómoda y cumple con sus propó...</td>\n",
       "    </tr>\n",
       "    <tr>\n",
       "      <th>11</th>\n",
       "      <td>Consola Sony Playstation 5 Slim Version Lector...</td>\n",
       "      <td>2380900</td>\n",
       "      <td>500</td>\n",
       "      <td>4.8</td>\n",
       "      <td>242</td>\n",
       "      <td>MRBLISCOM</td>\n",
       "      <td>CONSOLA PLAY STATION 5 SLIM - CON UNIDAD DE DI...</td>\n",
       "      <td>5</td>\n",
       "      <td>La consola es original, sin embargo es importa...</td>\n",
       "    </tr>\n",
       "    <tr>\n",
       "      <th>12</th>\n",
       "      <td>Samsung Galaxy A55 5G Dual SIM 256 GB rosa 8 G...</td>\n",
       "      <td>1386900</td>\n",
       "      <td>500</td>\n",
       "      <td>4.9</td>\n",
       "      <td>772</td>\n",
       "      <td>ARTEZCOM</td>\n",
       "      <td>Capacidad y eficiencia  Con su potente procesa...</td>\n",
       "      <td>5</td>\n",
       "      <td>Llevo ya casi un mes con él y es un excelente ...</td>\n",
       "    </tr>\n",
       "    <tr>\n",
       "      <th>13</th>\n",
       "      <td>Portátil Asus Tuf Gaming F15 Intel Core I5 125...</td>\n",
       "      <td>3299000</td>\n",
       "      <td>25</td>\n",
       "      <td>5.0</td>\n",
       "      <td>6</td>\n",
       "      <td>TECNOPLAZA COLOMBIA</td>\n",
       "      <td>Aviso legal• La duración de la batería depende...</td>\n",
       "      <td>5</td>\n",
       "      <td>De lo mejor en portatiles que hay.</td>\n",
       "    </tr>\n",
       "    <tr>\n",
       "      <th>14</th>\n",
       "      <td>Televisor Hyundai 43 Smart Fhd Android By Google</td>\n",
       "      <td>899900</td>\n",
       "      <td>1000</td>\n",
       "      <td>4.6</td>\n",
       "      <td>234</td>\n",
       "      <td>HYUNDAI LATINOAMERICA</td>\n",
       "      <td>Disfruta de la experiencia visual y de entrete...</td>\n",
       "      <td>5</td>\n",
       "      <td>Es un excelente producto y mucho más económico...</td>\n",
       "    </tr>\n",
       "    <tr>\n",
       "      <th>15</th>\n",
       "      <td>Hot Wheels City Pista De Juguete Ultimate Gara...</td>\n",
       "      <td>577900</td>\n",
       "      <td>100</td>\n",
       "      <td>4.9</td>\n",
       "      <td>28</td>\n",
       "      <td>Hot Wheels</td>\n",
       "      <td>Hot Wheels City Pista De Juguete Ultimate Gara...</td>\n",
       "      <td>5</td>\n",
       "      <td>Excelente tal y como lo esperaba. Muy buen pro...</td>\n",
       "    </tr>\n",
       "    <tr>\n",
       "      <th>16</th>\n",
       "      <td>Bateria De Cocina Imusa Antiadherente Talent 9...</td>\n",
       "      <td>194900</td>\n",
       "      <td>1000</td>\n",
       "      <td>4.9</td>\n",
       "      <td>381</td>\n",
       "      <td>GROUPESEBANDEAN</td>\n",
       "      <td>Batería de Cocina Imusa Antiadherente Talent d...</td>\n",
       "      <td>5</td>\n",
       "      <td>Muy excelente.\\nMejor de lo que me esperaba.\\n...</td>\n",
       "    </tr>\n",
       "    <tr>\n",
       "      <th>17</th>\n",
       "      <td>Monitor Gamer Samsung 24 Odyssey G3 Pivot Free...</td>\n",
       "      <td>669900</td>\n",
       "      <td>500</td>\n",
       "      <td>4.9</td>\n",
       "      <td>186</td>\n",
       "      <td>TEKNOPOLISCOLOMBIA</td>\n",
       "      <td>Samsung se compromete en ofrecer productos de ...</td>\n",
       "      <td>5</td>\n",
       "      <td>Está una chimba.</td>\n",
       "    </tr>\n",
       "    <tr>\n",
       "      <th>18</th>\n",
       "      <td>Xiaomi Redmi 13C Dual SIM 256 GB midnight blac...</td>\n",
       "      <td>479940</td>\n",
       "      <td>1000</td>\n",
       "      <td>4.7</td>\n",
       "      <td>3552</td>\n",
       "      <td>OFFERBUYS</td>\n",
       "      <td>Fotografía profesional en tu bolsilloDescubre ...</td>\n",
       "      <td>5</td>\n",
       "      <td>Muy buen producto.</td>\n",
       "    </tr>\n",
       "    <tr>\n",
       "      <th>19</th>\n",
       "      <td>Disco Solido 500 Gb Crucial Bx500</td>\n",
       "      <td>129900</td>\n",
       "      <td>10000</td>\n",
       "      <td>4.9</td>\n",
       "      <td>2896</td>\n",
       "      <td>LUOKKA TECHNOLOGY2</td>\n",
       "      <td>El Disco Sólido 500 GB Crucial BX500 es la ele...</td>\n",
       "      <td>5</td>\n",
       "      <td>Excelentes prestaciones, como pueden ver en la...</td>\n",
       "    </tr>\n",
       "  </tbody>\n",
       "</table>\n",
       "</div>"
      ],
      "text/plain": [
       "                                               Nombre   Precio  \\\n",
       "0   Xiaomi POCO Poco X6 Pro 5G Dual SIM 512 GB neg...  1304900   \n",
       "1   Tarjeta de video Nvidia MSI  Ventus 2X GeForce...  1469900   \n",
       "2   Jbl Partybox Encore Essential - Altavoz De Fie...   909900   \n",
       "3   Audífonos Sony Noise Cancelling Bluetooth Hi-r...   819900   \n",
       "4   Impresora multifunción a color Epson EcoTank l...  1179900   \n",
       "5   Xiaomi POCO Poco X6 Pro 5G Dual SIM 512 GB ama...  1304900   \n",
       "6   Hidrolavadora Electrica Trent Hlt203 1400w Alt...   193956   \n",
       "7   Portátil Asus E1504ga-nj103 Core I3 Ram 8 Gb S...  1200000   \n",
       "8   Bateria 10 Piezas Antiadherente Talent - Imusa...   199900   \n",
       "9   E-reader Kindle 11va Generación 16gb Negro Con...   520000   \n",
       "10  Silla Oficina Escritorio Ergonomica Giratoria ...   156400   \n",
       "11  Consola Sony Playstation 5 Slim Version Lector...  2380900   \n",
       "12  Samsung Galaxy A55 5G Dual SIM 256 GB rosa 8 G...  1386900   \n",
       "13  Portátil Asus Tuf Gaming F15 Intel Core I5 125...  3299000   \n",
       "14   Televisor Hyundai 43 Smart Fhd Android By Google   899900   \n",
       "15  Hot Wheels City Pista De Juguete Ultimate Gara...   577900   \n",
       "16  Bateria De Cocina Imusa Antiadherente Talent 9...   194900   \n",
       "17  Monitor Gamer Samsung 24 Odyssey G3 Pivot Free...   669900   \n",
       "18  Xiaomi Redmi 13C Dual SIM 256 GB midnight blac...   479940   \n",
       "19                  Disco Solido 500 Gb Crucial Bx500   129900   \n",
       "\n",
       "    Cantidad Ventas  Calificacion Producto  Cantidad Opiniones  \\\n",
       "0              1000                    4.9                2095   \n",
       "1               100                    4.9                  78   \n",
       "2               100                    4.8                  85   \n",
       "3              5000                    4.9                1328   \n",
       "4               500                    4.7                 180   \n",
       "5              1000                    4.9                2095   \n",
       "6              5000                    4.8                2729   \n",
       "7              1000                    4.8                 213   \n",
       "8              1000                    4.8                 646   \n",
       "9              1000                    4.9                 485   \n",
       "10              500                    4.5                  45   \n",
       "11              500                    4.8                 242   \n",
       "12              500                    4.9                 772   \n",
       "13               25                    5.0                   6   \n",
       "14             1000                    4.6                 234   \n",
       "15              100                    4.9                  28   \n",
       "16             1000                    4.9                 381   \n",
       "17              500                    4.9                 186   \n",
       "18             1000                    4.7                3552   \n",
       "19            10000                    4.9                2896   \n",
       "\n",
       "                 Vendedor                                        Descripcion  \\\n",
       "0         CELUMOVIL STORE  Fotografía profesional en tu bolsilloDescubre ...   \n",
       "1     TAURET.COMPUTADORES  Este componente electrónico procesa la informa...   \n",
       "2     Ixcomercio Colombia  JBL PartyBox Encore Essential - Altavoz portát...   \n",
       "3           SONY COLOMBIA  Sony, sin lugar a dudas es una de las marcas m...   \n",
       "4                   Epson  Epson busca que sus clientes obtengan el máxim...   \n",
       "5         CELUMOVIL STORE  Fotografía profesional en tu bolsilloDescubre ...   \n",
       "6         FEMMTO COLOMBIA  Optimiza tus tareas de limpieza con esta hidro...   \n",
       "7               PCTEL BTA  Aviso legal• La duración de la batería depende...   \n",
       "8         GROUPESEBANDEAN  Productos Originales directamente desde ImusaS...   \n",
       "9            PCTELCOMPUTO  Con este E-reader Kindle, podrás almacenar los...   \n",
       "10  SASCOMERCIALLACABRERA  ¡Bienvenido a Comercial La Cabrera S.A.S, tu t...   \n",
       "11              MRBLISCOM  CONSOLA PLAY STATION 5 SLIM - CON UNIDAD DE DI...   \n",
       "12               ARTEZCOM  Capacidad y eficiencia  Con su potente procesa...   \n",
       "13    TECNOPLAZA COLOMBIA  Aviso legal• La duración de la batería depende...   \n",
       "14  HYUNDAI LATINOAMERICA  Disfruta de la experiencia visual y de entrete...   \n",
       "15             Hot Wheels  Hot Wheels City Pista De Juguete Ultimate Gara...   \n",
       "16        GROUPESEBANDEAN  Batería de Cocina Imusa Antiadherente Talent d...   \n",
       "17     TEKNOPOLISCOLOMBIA  Samsung se compromete en ofrecer productos de ...   \n",
       "18              OFFERBUYS  Fotografía profesional en tu bolsilloDescubre ...   \n",
       "19     LUOKKA TECHNOLOGY2  El Disco Sólido 500 GB Crucial BX500 es la ele...   \n",
       "\n",
       "    Rating Vendedor                                        Comentarios  \n",
       "0                 5    Es un dispositivo muy poderoso,muchas gracias.   \n",
       "1                 5  Genial rendimiento y eso que no he actualizado...  \n",
       "2                 5  Muy buena relación precio calidad y potencia, ...  \n",
       "3                 5  Una retrochimba. Llevo al rededor de unas sema...  \n",
       "4                 5  Hasta el momento todo marcha muy bien, gracias...  \n",
       "5                 5    Es un dispositivo muy poderoso,muchas gracias.   \n",
       "6                 5  Excelente producto lo recomiendo y es economic...  \n",
       "7                 5  No cuenta con lector de huellas digitales y en...  \n",
       "8                 5  Excelente producto a simple vista, veremos la ...  \n",
       "9                 5  Producto súper recomendado!. Excelente product...  \n",
       "10                5  Es muy aparente, cómoda y cumple con sus propó...  \n",
       "11                5  La consola es original, sin embargo es importa...  \n",
       "12                5  Llevo ya casi un mes con él y es un excelente ...  \n",
       "13                5                 De lo mejor en portatiles que hay.  \n",
       "14                5  Es un excelente producto y mucho más económico...  \n",
       "15                5  Excelente tal y como lo esperaba. Muy buen pro...  \n",
       "16                5  Muy excelente.\\nMejor de lo que me esperaba.\\n...  \n",
       "17                5                                   Está una chimba.  \n",
       "18                5                                 Muy buen producto.  \n",
       "19                5  Excelentes prestaciones, como pueden ver en la...  "
      ]
     },
     "execution_count": 116,
     "metadata": {},
     "output_type": "execute_result"
    }
   ],
   "source": [
    "df"
   ]
  },
  {
   "cell_type": "code",
   "execution_count": 117,
   "metadata": {},
   "outputs": [],
   "source": [
    "polaridad_inicial = []\n",
    "polaridad_final = []\n",
    "subjetividad_inicial = []\n",
    "subjetividad_final = []\n",
    "\n",
    "\n",
    "frases = df['Comentarios']\n",
    "for frase in frases:\n",
    "  \n",
    "  blob = TextBlob(frase)\n",
    "  translation = translator.translate(str(blob), src='es', dest='en').text\n",
    "  \n",
    "  \n",
    "  blob_t = TextBlob(translation)\n",
    "  sentimiento = blob_t.sentiment\n",
    "  polaridad = sentimiento.polarity\n",
    "  subjetividad = sentimiento.subjectivity\n",
    "  polaridad_inicial.append(polaridad)\n",
    "  subjetividad_inicial.append(subjetividad)\n",
    "\n",
    "  \n",
    "  tokens=word_tokenize(translation.lower())\n",
    "  prueba_2 = [stemmer2.stem(palabra_2) for palabra_2 in tokens]\n",
    "\n",
    "  \n",
    "  prueba_3 = [lemmatizer.lemmatize(palabra_3) for palabra_3 in tokens]\n",
    "\n",
    "  \n",
    "  stopwords = nltk.corpus.stopwords.words('english')\n",
    "  newtokens=[word for word in tokens if word not in stopwords]\n",
    "\n",
    "  \n",
    "  \n",
    "  sentence = ' '.join(newtokens)\n",
    "\n",
    "  \n",
    "  translation_2 = translator.translate(str(sentence), src='en', dest='es').text\n",
    "\n",
    "  \n",
    "  blob_t = TextBlob(sentence)\n",
    "  sentimiento_t = blob_t.sentiment\n",
    "  polaridad_t = sentimiento_t.polarity\n",
    "  subjetividad_t = sentimiento_t.subjectivity\n",
    "  polaridad_final.append(polaridad_t)\n",
    "  subjetividad_final.append(subjetividad_t)\n",
    "sentimiento_df = pd.DataFrame(zip(polaridad_inicial,subjetividad_inicial,polaridad_final,subjetividad_final), \n",
    "                              columns=['Polaridad Inicial','Subjetividad Inicial','Polaridad Final','Subjetividad Final'])"
   ]
  },
  {
   "cell_type": "code",
   "execution_count": 119,
   "metadata": {},
   "outputs": [
    {
     "data": {
      "text/html": [
       "<div>\n",
       "<style scoped>\n",
       "    .dataframe tbody tr th:only-of-type {\n",
       "        vertical-align: middle;\n",
       "    }\n",
       "\n",
       "    .dataframe tbody tr th {\n",
       "        vertical-align: top;\n",
       "    }\n",
       "\n",
       "    .dataframe thead th {\n",
       "        text-align: right;\n",
       "    }\n",
       "</style>\n",
       "<table border=\"1\" class=\"dataframe\">\n",
       "  <thead>\n",
       "    <tr style=\"text-align: right;\">\n",
       "      <th></th>\n",
       "      <th>Nombre</th>\n",
       "      <th>Precio</th>\n",
       "      <th>Cantidad Ventas</th>\n",
       "      <th>Calificacion Producto</th>\n",
       "      <th>Cantidad Opiniones</th>\n",
       "      <th>Vendedor</th>\n",
       "      <th>Descripcion</th>\n",
       "      <th>Rating Vendedor</th>\n",
       "      <th>Comentarios</th>\n",
       "      <th>Polaridad Inicial</th>\n",
       "      <th>Subjetividad Inicial</th>\n",
       "      <th>Polaridad Final</th>\n",
       "      <th>Subjetividad Final</th>\n",
       "    </tr>\n",
       "  </thead>\n",
       "  <tbody>\n",
       "    <tr>\n",
       "      <th>0</th>\n",
       "      <td>Xiaomi POCO Poco X6 Pro 5G Dual SIM 512 GB neg...</td>\n",
       "      <td>1304900</td>\n",
       "      <td>1000</td>\n",
       "      <td>4.9</td>\n",
       "      <td>2095</td>\n",
       "      <td>CELUMOVIL STORE</td>\n",
       "      <td>Fotografía profesional en tu bolsilloDescubre ...</td>\n",
       "      <td>5</td>\n",
       "      <td>Es un dispositivo muy poderoso,muchas gracias.</td>\n",
       "      <td>0.325000</td>\n",
       "      <td>0.630000</td>\n",
       "      <td>0.250000</td>\n",
       "      <td>0.600000</td>\n",
       "    </tr>\n",
       "    <tr>\n",
       "      <th>1</th>\n",
       "      <td>Tarjeta de video Nvidia MSI  Ventus 2X GeForce...</td>\n",
       "      <td>1469900</td>\n",
       "      <td>100</td>\n",
       "      <td>4.9</td>\n",
       "      <td>78</td>\n",
       "      <td>TAURET.COMPUTADORES</td>\n",
       "      <td>Este componente electrónico procesa la informa...</td>\n",
       "      <td>5</td>\n",
       "      <td>Genial rendimiento y eso que no he actualizado...</td>\n",
       "      <td>0.401429</td>\n",
       "      <td>0.528571</td>\n",
       "      <td>0.472000</td>\n",
       "      <td>0.578000</td>\n",
       "    </tr>\n",
       "    <tr>\n",
       "      <th>2</th>\n",
       "      <td>Jbl Partybox Encore Essential - Altavoz De Fie...</td>\n",
       "      <td>909900</td>\n",
       "      <td>100</td>\n",
       "      <td>4.8</td>\n",
       "      <td>85</td>\n",
       "      <td>Ixcomercio Colombia</td>\n",
       "      <td>JBL PartyBox Encore Essential - Altavoz portát...</td>\n",
       "      <td>5</td>\n",
       "      <td>Muy buena relación precio calidad y potencia, ...</td>\n",
       "      <td>0.742000</td>\n",
       "      <td>0.676000</td>\n",
       "      <td>0.700000</td>\n",
       "      <td>0.640000</td>\n",
       "    </tr>\n",
       "    <tr>\n",
       "      <th>3</th>\n",
       "      <td>Audífonos Sony Noise Cancelling Bluetooth Hi-r...</td>\n",
       "      <td>819900</td>\n",
       "      <td>5000</td>\n",
       "      <td>4.9</td>\n",
       "      <td>1328</td>\n",
       "      <td>SONY COLOMBIA</td>\n",
       "      <td>Sony, sin lugar a dudas es una de las marcas m...</td>\n",
       "      <td>5</td>\n",
       "      <td>Una retrochimba. Llevo al rededor de unas sema...</td>\n",
       "      <td>0.228333</td>\n",
       "      <td>0.598333</td>\n",
       "      <td>0.278846</td>\n",
       "      <td>0.644231</td>\n",
       "    </tr>\n",
       "    <tr>\n",
       "      <th>4</th>\n",
       "      <td>Impresora multifunción a color Epson EcoTank l...</td>\n",
       "      <td>1179900</td>\n",
       "      <td>500</td>\n",
       "      <td>4.7</td>\n",
       "      <td>180</td>\n",
       "      <td>Epson</td>\n",
       "      <td>Epson busca que sus clientes obtengan el máxim...</td>\n",
       "      <td>5</td>\n",
       "      <td>Hasta el momento todo marcha muy bien, gracias...</td>\n",
       "      <td>0.562500</td>\n",
       "      <td>0.560000</td>\n",
       "      <td>0.714063</td>\n",
       "      <td>0.625000</td>\n",
       "    </tr>\n",
       "    <tr>\n",
       "      <th>5</th>\n",
       "      <td>Xiaomi POCO Poco X6 Pro 5G Dual SIM 512 GB ama...</td>\n",
       "      <td>1304900</td>\n",
       "      <td>1000</td>\n",
       "      <td>4.9</td>\n",
       "      <td>2095</td>\n",
       "      <td>CELUMOVIL STORE</td>\n",
       "      <td>Fotografía profesional en tu bolsilloDescubre ...</td>\n",
       "      <td>5</td>\n",
       "      <td>Es un dispositivo muy poderoso,muchas gracias.</td>\n",
       "      <td>0.325000</td>\n",
       "      <td>0.630000</td>\n",
       "      <td>0.250000</td>\n",
       "      <td>0.600000</td>\n",
       "    </tr>\n",
       "    <tr>\n",
       "      <th>6</th>\n",
       "      <td>Hidrolavadora Electrica Trent Hlt203 1400w Alt...</td>\n",
       "      <td>193956</td>\n",
       "      <td>5000</td>\n",
       "      <td>4.8</td>\n",
       "      <td>2729</td>\n",
       "      <td>FEMMTO COLOMBIA</td>\n",
       "      <td>Optimiza tus tareas de limpieza con esta hidro...</td>\n",
       "      <td>5</td>\n",
       "      <td>Excelente producto lo recomiendo y es economic...</td>\n",
       "      <td>0.970000</td>\n",
       "      <td>0.926667</td>\n",
       "      <td>0.900000</td>\n",
       "      <td>0.866667</td>\n",
       "    </tr>\n",
       "    <tr>\n",
       "      <th>7</th>\n",
       "      <td>Portátil Asus E1504ga-nj103 Core I3 Ram 8 Gb S...</td>\n",
       "      <td>1200000</td>\n",
       "      <td>1000</td>\n",
       "      <td>4.8</td>\n",
       "      <td>213</td>\n",
       "      <td>PCTEL BTA</td>\n",
       "      <td>Aviso legal• La duración de la batería depende...</td>\n",
       "      <td>5</td>\n",
       "      <td>No cuenta con lector de huellas digitales y en...</td>\n",
       "      <td>0.272250</td>\n",
       "      <td>0.418000</td>\n",
       "      <td>0.258929</td>\n",
       "      <td>0.414286</td>\n",
       "    </tr>\n",
       "    <tr>\n",
       "      <th>8</th>\n",
       "      <td>Bateria 10 Piezas Antiadherente Talent - Imusa...</td>\n",
       "      <td>199900</td>\n",
       "      <td>1000</td>\n",
       "      <td>4.8</td>\n",
       "      <td>646</td>\n",
       "      <td>GROUPESEBANDEAN</td>\n",
       "      <td>Productos Originales directamente desde ImusaS...</td>\n",
       "      <td>5</td>\n",
       "      <td>Excelente producto a simple vista, veremos la ...</td>\n",
       "      <td>0.400000</td>\n",
       "      <td>0.600000</td>\n",
       "      <td>0.400000</td>\n",
       "      <td>0.600000</td>\n",
       "    </tr>\n",
       "    <tr>\n",
       "      <th>9</th>\n",
       "      <td>E-reader Kindle 11va Generación 16gb Negro Con...</td>\n",
       "      <td>520000</td>\n",
       "      <td>1000</td>\n",
       "      <td>4.9</td>\n",
       "      <td>485</td>\n",
       "      <td>PCTELCOMPUTO</td>\n",
       "      <td>Con este E-reader Kindle, podrás almacenar los...</td>\n",
       "      <td>5</td>\n",
       "      <td>Producto súper recomendado!. Excelente product...</td>\n",
       "      <td>0.226190</td>\n",
       "      <td>0.495238</td>\n",
       "      <td>0.327778</td>\n",
       "      <td>0.611111</td>\n",
       "    </tr>\n",
       "    <tr>\n",
       "      <th>10</th>\n",
       "      <td>Silla Oficina Escritorio Ergonomica Giratoria ...</td>\n",
       "      <td>156400</td>\n",
       "      <td>500</td>\n",
       "      <td>4.5</td>\n",
       "      <td>45</td>\n",
       "      <td>SASCOMERCIALLACABRERA</td>\n",
       "      <td>¡Bienvenido a Comercial La Cabrera S.A.S, tu t...</td>\n",
       "      <td>5</td>\n",
       "      <td>Es muy aparente, cómoda y cumple con sus propó...</td>\n",
       "      <td>0.593750</td>\n",
       "      <td>0.758750</td>\n",
       "      <td>0.537500</td>\n",
       "      <td>0.687500</td>\n",
       "    </tr>\n",
       "    <tr>\n",
       "      <th>11</th>\n",
       "      <td>Consola Sony Playstation 5 Slim Version Lector...</td>\n",
       "      <td>2380900</td>\n",
       "      <td>500</td>\n",
       "      <td>4.8</td>\n",
       "      <td>242</td>\n",
       "      <td>MRBLISCOM</td>\n",
       "      <td>CONSOLA PLAY STATION 5 SLIM - CON UNIDAD DE DI...</td>\n",
       "      <td>5</td>\n",
       "      <td>La consola es original, sin embargo es importa...</td>\n",
       "      <td>0.124286</td>\n",
       "      <td>0.633571</td>\n",
       "      <td>0.145833</td>\n",
       "      <td>0.641667</td>\n",
       "    </tr>\n",
       "    <tr>\n",
       "      <th>12</th>\n",
       "      <td>Samsung Galaxy A55 5G Dual SIM 256 GB rosa 8 G...</td>\n",
       "      <td>1386900</td>\n",
       "      <td>500</td>\n",
       "      <td>4.9</td>\n",
       "      <td>772</td>\n",
       "      <td>ARTEZCOM</td>\n",
       "      <td>Capacidad y eficiencia  Con su potente procesa...</td>\n",
       "      <td>5</td>\n",
       "      <td>Llevo ya casi un mes con él y es un excelente ...</td>\n",
       "      <td>0.283733</td>\n",
       "      <td>0.558600</td>\n",
       "      <td>0.313968</td>\n",
       "      <td>0.563810</td>\n",
       "    </tr>\n",
       "    <tr>\n",
       "      <th>13</th>\n",
       "      <td>Portátil Asus Tuf Gaming F15 Intel Core I5 125...</td>\n",
       "      <td>3299000</td>\n",
       "      <td>25</td>\n",
       "      <td>5.0</td>\n",
       "      <td>6</td>\n",
       "      <td>TECNOPLAZA COLOMBIA</td>\n",
       "      <td>Aviso legal• La duración de la batería depende...</td>\n",
       "      <td>5</td>\n",
       "      <td>De lo mejor en portatiles que hay.</td>\n",
       "      <td>1.000000</td>\n",
       "      <td>0.300000</td>\n",
       "      <td>1.000000</td>\n",
       "      <td>0.300000</td>\n",
       "    </tr>\n",
       "    <tr>\n",
       "      <th>14</th>\n",
       "      <td>Televisor Hyundai 43 Smart Fhd Android By Google</td>\n",
       "      <td>899900</td>\n",
       "      <td>1000</td>\n",
       "      <td>4.6</td>\n",
       "      <td>234</td>\n",
       "      <td>HYUNDAI LATINOAMERICA</td>\n",
       "      <td>Disfruta de la experiencia visual y de entrete...</td>\n",
       "      <td>5</td>\n",
       "      <td>Es un excelente producto y mucho más económico...</td>\n",
       "      <td>0.662500</td>\n",
       "      <td>0.650000</td>\n",
       "      <td>0.625000</td>\n",
       "      <td>0.650000</td>\n",
       "    </tr>\n",
       "    <tr>\n",
       "      <th>15</th>\n",
       "      <td>Hot Wheels City Pista De Juguete Ultimate Gara...</td>\n",
       "      <td>577900</td>\n",
       "      <td>100</td>\n",
       "      <td>4.9</td>\n",
       "      <td>28</td>\n",
       "      <td>Hot Wheels</td>\n",
       "      <td>Hot Wheels City Pista De Juguete Ultimate Gara...</td>\n",
       "      <td>5</td>\n",
       "      <td>Excelente tal y como lo esperaba. Muy buen pro...</td>\n",
       "      <td>0.633333</td>\n",
       "      <td>0.633333</td>\n",
       "      <td>0.850000</td>\n",
       "      <td>0.800000</td>\n",
       "    </tr>\n",
       "    <tr>\n",
       "      <th>16</th>\n",
       "      <td>Bateria De Cocina Imusa Antiadherente Talent 9...</td>\n",
       "      <td>194900</td>\n",
       "      <td>1000</td>\n",
       "      <td>4.9</td>\n",
       "      <td>381</td>\n",
       "      <td>GROUPESEBANDEAN</td>\n",
       "      <td>Batería de Cocina Imusa Antiadherente Talent d...</td>\n",
       "      <td>5</td>\n",
       "      <td>Muy excelente.\\nMejor de lo que me esperaba.\\n...</td>\n",
       "      <td>0.475000</td>\n",
       "      <td>0.725000</td>\n",
       "      <td>0.475000</td>\n",
       "      <td>0.725000</td>\n",
       "    </tr>\n",
       "    <tr>\n",
       "      <th>17</th>\n",
       "      <td>Monitor Gamer Samsung 24 Odyssey G3 Pivot Free...</td>\n",
       "      <td>669900</td>\n",
       "      <td>500</td>\n",
       "      <td>4.9</td>\n",
       "      <td>186</td>\n",
       "      <td>TEKNOPOLISCOLOMBIA</td>\n",
       "      <td>Samsung se compromete en ofrecer productos de ...</td>\n",
       "      <td>5</td>\n",
       "      <td>Está una chimba.</td>\n",
       "      <td>0.000000</td>\n",
       "      <td>0.000000</td>\n",
       "      <td>0.000000</td>\n",
       "      <td>0.000000</td>\n",
       "    </tr>\n",
       "    <tr>\n",
       "      <th>18</th>\n",
       "      <td>Xiaomi Redmi 13C Dual SIM 256 GB midnight blac...</td>\n",
       "      <td>479940</td>\n",
       "      <td>1000</td>\n",
       "      <td>4.7</td>\n",
       "      <td>3552</td>\n",
       "      <td>OFFERBUYS</td>\n",
       "      <td>Fotografía profesional en tu bolsilloDescubre ...</td>\n",
       "      <td>5</td>\n",
       "      <td>Muy buen producto.</td>\n",
       "      <td>0.910000</td>\n",
       "      <td>0.780000</td>\n",
       "      <td>0.700000</td>\n",
       "      <td>0.600000</td>\n",
       "    </tr>\n",
       "    <tr>\n",
       "      <th>19</th>\n",
       "      <td>Disco Solido 500 Gb Crucial Bx500</td>\n",
       "      <td>129900</td>\n",
       "      <td>10000</td>\n",
       "      <td>4.9</td>\n",
       "      <td>2896</td>\n",
       "      <td>LUOKKA TECHNOLOGY2</td>\n",
       "      <td>El Disco Sólido 500 GB Crucial BX500 es la ele...</td>\n",
       "      <td>5</td>\n",
       "      <td>Excelentes prestaciones, como pueden ver en la...</td>\n",
       "      <td>0.302576</td>\n",
       "      <td>0.614697</td>\n",
       "      <td>0.324167</td>\n",
       "      <td>0.588333</td>\n",
       "    </tr>\n",
       "  </tbody>\n",
       "</table>\n",
       "</div>"
      ],
      "text/plain": [
       "                                               Nombre   Precio  \\\n",
       "0   Xiaomi POCO Poco X6 Pro 5G Dual SIM 512 GB neg...  1304900   \n",
       "1   Tarjeta de video Nvidia MSI  Ventus 2X GeForce...  1469900   \n",
       "2   Jbl Partybox Encore Essential - Altavoz De Fie...   909900   \n",
       "3   Audífonos Sony Noise Cancelling Bluetooth Hi-r...   819900   \n",
       "4   Impresora multifunción a color Epson EcoTank l...  1179900   \n",
       "5   Xiaomi POCO Poco X6 Pro 5G Dual SIM 512 GB ama...  1304900   \n",
       "6   Hidrolavadora Electrica Trent Hlt203 1400w Alt...   193956   \n",
       "7   Portátil Asus E1504ga-nj103 Core I3 Ram 8 Gb S...  1200000   \n",
       "8   Bateria 10 Piezas Antiadherente Talent - Imusa...   199900   \n",
       "9   E-reader Kindle 11va Generación 16gb Negro Con...   520000   \n",
       "10  Silla Oficina Escritorio Ergonomica Giratoria ...   156400   \n",
       "11  Consola Sony Playstation 5 Slim Version Lector...  2380900   \n",
       "12  Samsung Galaxy A55 5G Dual SIM 256 GB rosa 8 G...  1386900   \n",
       "13  Portátil Asus Tuf Gaming F15 Intel Core I5 125...  3299000   \n",
       "14   Televisor Hyundai 43 Smart Fhd Android By Google   899900   \n",
       "15  Hot Wheels City Pista De Juguete Ultimate Gara...   577900   \n",
       "16  Bateria De Cocina Imusa Antiadherente Talent 9...   194900   \n",
       "17  Monitor Gamer Samsung 24 Odyssey G3 Pivot Free...   669900   \n",
       "18  Xiaomi Redmi 13C Dual SIM 256 GB midnight blac...   479940   \n",
       "19                  Disco Solido 500 Gb Crucial Bx500   129900   \n",
       "\n",
       "    Cantidad Ventas  Calificacion Producto  Cantidad Opiniones  \\\n",
       "0              1000                    4.9                2095   \n",
       "1               100                    4.9                  78   \n",
       "2               100                    4.8                  85   \n",
       "3              5000                    4.9                1328   \n",
       "4               500                    4.7                 180   \n",
       "5              1000                    4.9                2095   \n",
       "6              5000                    4.8                2729   \n",
       "7              1000                    4.8                 213   \n",
       "8              1000                    4.8                 646   \n",
       "9              1000                    4.9                 485   \n",
       "10              500                    4.5                  45   \n",
       "11              500                    4.8                 242   \n",
       "12              500                    4.9                 772   \n",
       "13               25                    5.0                   6   \n",
       "14             1000                    4.6                 234   \n",
       "15              100                    4.9                  28   \n",
       "16             1000                    4.9                 381   \n",
       "17              500                    4.9                 186   \n",
       "18             1000                    4.7                3552   \n",
       "19            10000                    4.9                2896   \n",
       "\n",
       "                 Vendedor                                        Descripcion  \\\n",
       "0         CELUMOVIL STORE  Fotografía profesional en tu bolsilloDescubre ...   \n",
       "1     TAURET.COMPUTADORES  Este componente electrónico procesa la informa...   \n",
       "2     Ixcomercio Colombia  JBL PartyBox Encore Essential - Altavoz portát...   \n",
       "3           SONY COLOMBIA  Sony, sin lugar a dudas es una de las marcas m...   \n",
       "4                   Epson  Epson busca que sus clientes obtengan el máxim...   \n",
       "5         CELUMOVIL STORE  Fotografía profesional en tu bolsilloDescubre ...   \n",
       "6         FEMMTO COLOMBIA  Optimiza tus tareas de limpieza con esta hidro...   \n",
       "7               PCTEL BTA  Aviso legal• La duración de la batería depende...   \n",
       "8         GROUPESEBANDEAN  Productos Originales directamente desde ImusaS...   \n",
       "9            PCTELCOMPUTO  Con este E-reader Kindle, podrás almacenar los...   \n",
       "10  SASCOMERCIALLACABRERA  ¡Bienvenido a Comercial La Cabrera S.A.S, tu t...   \n",
       "11              MRBLISCOM  CONSOLA PLAY STATION 5 SLIM - CON UNIDAD DE DI...   \n",
       "12               ARTEZCOM  Capacidad y eficiencia  Con su potente procesa...   \n",
       "13    TECNOPLAZA COLOMBIA  Aviso legal• La duración de la batería depende...   \n",
       "14  HYUNDAI LATINOAMERICA  Disfruta de la experiencia visual y de entrete...   \n",
       "15             Hot Wheels  Hot Wheels City Pista De Juguete Ultimate Gara...   \n",
       "16        GROUPESEBANDEAN  Batería de Cocina Imusa Antiadherente Talent d...   \n",
       "17     TEKNOPOLISCOLOMBIA  Samsung se compromete en ofrecer productos de ...   \n",
       "18              OFFERBUYS  Fotografía profesional en tu bolsilloDescubre ...   \n",
       "19     LUOKKA TECHNOLOGY2  El Disco Sólido 500 GB Crucial BX500 es la ele...   \n",
       "\n",
       "    Rating Vendedor                                        Comentarios  \\\n",
       "0                 5    Es un dispositivo muy poderoso,muchas gracias.    \n",
       "1                 5  Genial rendimiento y eso que no he actualizado...   \n",
       "2                 5  Muy buena relación precio calidad y potencia, ...   \n",
       "3                 5  Una retrochimba. Llevo al rededor de unas sema...   \n",
       "4                 5  Hasta el momento todo marcha muy bien, gracias...   \n",
       "5                 5    Es un dispositivo muy poderoso,muchas gracias.    \n",
       "6                 5  Excelente producto lo recomiendo y es economic...   \n",
       "7                 5  No cuenta con lector de huellas digitales y en...   \n",
       "8                 5  Excelente producto a simple vista, veremos la ...   \n",
       "9                 5  Producto súper recomendado!. Excelente product...   \n",
       "10                5  Es muy aparente, cómoda y cumple con sus propó...   \n",
       "11                5  La consola es original, sin embargo es importa...   \n",
       "12                5  Llevo ya casi un mes con él y es un excelente ...   \n",
       "13                5                 De lo mejor en portatiles que hay.   \n",
       "14                5  Es un excelente producto y mucho más económico...   \n",
       "15                5  Excelente tal y como lo esperaba. Muy buen pro...   \n",
       "16                5  Muy excelente.\\nMejor de lo que me esperaba.\\n...   \n",
       "17                5                                   Está una chimba.   \n",
       "18                5                                 Muy buen producto.   \n",
       "19                5  Excelentes prestaciones, como pueden ver en la...   \n",
       "\n",
       "    Polaridad Inicial  Subjetividad Inicial  Polaridad Final  \\\n",
       "0            0.325000              0.630000         0.250000   \n",
       "1            0.401429              0.528571         0.472000   \n",
       "2            0.742000              0.676000         0.700000   \n",
       "3            0.228333              0.598333         0.278846   \n",
       "4            0.562500              0.560000         0.714063   \n",
       "5            0.325000              0.630000         0.250000   \n",
       "6            0.970000              0.926667         0.900000   \n",
       "7            0.272250              0.418000         0.258929   \n",
       "8            0.400000              0.600000         0.400000   \n",
       "9            0.226190              0.495238         0.327778   \n",
       "10           0.593750              0.758750         0.537500   \n",
       "11           0.124286              0.633571         0.145833   \n",
       "12           0.283733              0.558600         0.313968   \n",
       "13           1.000000              0.300000         1.000000   \n",
       "14           0.662500              0.650000         0.625000   \n",
       "15           0.633333              0.633333         0.850000   \n",
       "16           0.475000              0.725000         0.475000   \n",
       "17           0.000000              0.000000         0.000000   \n",
       "18           0.910000              0.780000         0.700000   \n",
       "19           0.302576              0.614697         0.324167   \n",
       "\n",
       "    Subjetividad Final  \n",
       "0             0.600000  \n",
       "1             0.578000  \n",
       "2             0.640000  \n",
       "3             0.644231  \n",
       "4             0.625000  \n",
       "5             0.600000  \n",
       "6             0.866667  \n",
       "7             0.414286  \n",
       "8             0.600000  \n",
       "9             0.611111  \n",
       "10            0.687500  \n",
       "11            0.641667  \n",
       "12            0.563810  \n",
       "13            0.300000  \n",
       "14            0.650000  \n",
       "15            0.800000  \n",
       "16            0.725000  \n",
       "17            0.000000  \n",
       "18            0.600000  \n",
       "19            0.588333  "
      ]
     },
     "execution_count": 119,
     "metadata": {},
     "output_type": "execute_result"
    }
   ],
   "source": [
    "df_final = pd.concat([df,sentimiento_df],axis=1)\n",
    "df_final"
   ]
  },
  {
   "cell_type": "code",
   "execution_count": 137,
   "metadata": {},
   "outputs": [],
   "source": [
    "w1, w2, w3, w4, w5, w6 = 0.2, 0.2, 0.1, 0.2, 0.2, 0.1\n",
    "\n",
    "max_ventas = df_final['Cantidad Ventas'].max()\n",
    "max_opiniones = df_final['Cantidad Opiniones'].max()\n",
    "\n",
    "df_final['Puntaje'] = 10 * (\n",
    "    w1 * (df_final['Cantidad Ventas'] / max_ventas) +\n",
    "    w2 * (df_final['Calificacion Producto'] / 5) +\n",
    "    w3 * (df_final['Cantidad Opiniones'] / max_opiniones) +\n",
    "    w4 * (df_final['Rating Vendedor'] / 5) +\n",
    "    w5 * ((df_final['Polaridad Final'] + 1) / 2) -\n",
    "    w6 * df_final['Subjetividad Final']\n",
    ")\n",
    "\n",
    "top_10_productos = df_final[['Nombre', 'Puntaje', 'Precio']].sort_values(by='Puntaje', ascending=False).head(10)\n",
    "\n",
    "pivot_table = top_10_productos.pivot_table(index='Nombre', values=['Puntaje', 'Precio'], aggfunc='mean').sort_values(by='Puntaje', ascending=False)"
   ]
  },
  {
   "cell_type": "code",
   "execution_count": 138,
   "metadata": {},
   "outputs": [
    {
     "data": {
      "text/html": [
       "<div>\n",
       "<style scoped>\n",
       "    .dataframe tbody tr th:only-of-type {\n",
       "        vertical-align: middle;\n",
       "    }\n",
       "\n",
       "    .dataframe tbody tr th {\n",
       "        vertical-align: top;\n",
       "    }\n",
       "\n",
       "    .dataframe thead th {\n",
       "        text-align: right;\n",
       "    }\n",
       "</style>\n",
       "<table border=\"1\" class=\"dataframe\">\n",
       "  <thead>\n",
       "    <tr style=\"text-align: right;\">\n",
       "      <th></th>\n",
       "      <th>Precio</th>\n",
       "      <th>Puntaje</th>\n",
       "    </tr>\n",
       "    <tr>\n",
       "      <th>Nombre</th>\n",
       "      <th></th>\n",
       "      <th></th>\n",
       "    </tr>\n",
       "  </thead>\n",
       "  <tbody>\n",
       "    <tr>\n",
       "      <th>Disco Solido 500 Gb Crucial Bx500</th>\n",
       "      <td>129900.0</td>\n",
       "      <td>7.511149</td>\n",
       "    </tr>\n",
       "    <tr>\n",
       "      <th>Hidrolavadora Electrica Trent Hlt203 1400w Alta Presion 1600 Psi 110 Bar Con Accesorios By Femmto</th>\n",
       "      <td>193956.0</td>\n",
       "      <td>6.721633</td>\n",
       "    </tr>\n",
       "    <tr>\n",
       "      <th>Xiaomi Redmi 13C Dual SIM 256 GB midnight black 8 GB RAM</th>\n",
       "      <td>479940.0</td>\n",
       "      <td>6.180000</td>\n",
       "    </tr>\n",
       "    <tr>\n",
       "      <th>Audífonos Sony Noise Cancelling Bluetooth Hi-res Wh-1000xm4 Color Negro</th>\n",
       "      <td>819900.0</td>\n",
       "      <td>5.968489</td>\n",
       "    </tr>\n",
       "    <tr>\n",
       "      <th>Portátil Asus Tuf Gaming F15 Intel Core I5 12500h 24gb 512gb Color Gris</th>\n",
       "      <td>3299000.0</td>\n",
       "      <td>5.706689</td>\n",
       "    </tr>\n",
       "    <tr>\n",
       "      <th>Xiaomi POCO Poco X6 Pro 5G Dual SIM 512 GB amarillo 12 GB RAM</th>\n",
       "      <td>1304900.0</td>\n",
       "      <td>5.399809</td>\n",
       "    </tr>\n",
       "    <tr>\n",
       "      <th>Xiaomi POCO Poco X6 Pro 5G Dual SIM 512 GB negro 12 GB RAM</th>\n",
       "      <td>1304900.0</td>\n",
       "      <td>5.399809</td>\n",
       "    </tr>\n",
       "    <tr>\n",
       "      <th>Impresora multifunción a color Epson EcoTank l5590 con wifi 110V</th>\n",
       "      <td>1179900.0</td>\n",
       "      <td>5.119738</td>\n",
       "    </tr>\n",
       "    <tr>\n",
       "      <th>Monitor Gamer Samsung 24 Odyssey G3 Pivot Freesync Premium 165hz 1ms</th>\n",
       "      <td>669900.0</td>\n",
       "      <td>5.112365</td>\n",
       "    </tr>\n",
       "    <tr>\n",
       "      <th>Bateria 10 Piezas Antiadherente Talent - Imusa 5861029311</th>\n",
       "      <td>199900.0</td>\n",
       "      <td>5.101869</td>\n",
       "    </tr>\n",
       "  </tbody>\n",
       "</table>\n",
       "</div>"
      ],
      "text/plain": [
       "                                                       Precio   Puntaje\n",
       "Nombre                                                                 \n",
       "Disco Solido 500 Gb Crucial Bx500                    129900.0  7.511149\n",
       "Hidrolavadora Electrica Trent Hlt203 1400w Alta...   193956.0  6.721633\n",
       "Xiaomi Redmi 13C Dual SIM 256 GB midnight black...   479940.0  6.180000\n",
       "Audífonos Sony Noise Cancelling Bluetooth Hi-re...   819900.0  5.968489\n",
       "Portátil Asus Tuf Gaming F15 Intel Core I5 1250...  3299000.0  5.706689\n",
       "Xiaomi POCO Poco X6 Pro 5G Dual SIM 512 GB amar...  1304900.0  5.399809\n",
       "Xiaomi POCO Poco X6 Pro 5G Dual SIM 512 GB negr...  1304900.0  5.399809\n",
       "Impresora multifunción a color Epson EcoTank l5...  1179900.0  5.119738\n",
       "Monitor Gamer Samsung 24 Odyssey G3 Pivot Frees...   669900.0  5.112365\n",
       "Bateria 10 Piezas Antiadherente Talent - Imusa ...   199900.0  5.101869"
      ]
     },
     "execution_count": 138,
     "metadata": {},
     "output_type": "execute_result"
    }
   ],
   "source": [
    "pivot_table"
   ]
  }
 ],
 "metadata": {
  "colab": {
   "provenance": []
  },
  "kernelspec": {
   "display_name": "mi_entorno",
   "language": "python",
   "name": "python3"
  },
  "language_info": {
   "codemirror_mode": {
    "name": "ipython",
    "version": 3
   },
   "file_extension": ".py",
   "mimetype": "text/x-python",
   "name": "python",
   "nbconvert_exporter": "python",
   "pygments_lexer": "ipython3",
   "version": "3.11.9"
  }
 },
 "nbformat": 4,
 "nbformat_minor": 0
}
